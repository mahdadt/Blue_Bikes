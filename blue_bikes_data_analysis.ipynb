{
 "cells": [
  {
   "cell_type": "markdown",
   "id": "tutorial-windsor",
   "metadata": {},
   "source": [
    "# Boston Blue Bikes Data Analysis\n",
    "\n"
   ]
  },
  {
   "cell_type": "markdown",
   "id": "diagnostic-while",
   "metadata": {},
   "source": [
    "## 1. Introduction <a class=\"anchor\" id=\"introduction\"></a>\n",
    "\n",
    "Blue Bikes is a popular bike-sharing company in Massachaussettes. It provides bicycles in many neighbourhoods in MA mainly in Boston and Cambridge. Users can rent bicyles through a phone application that needs account registration. But, there are self-service digital screens at each stations which allow non-registered users to also rent bicycles. For users who rent more often, there are also several different subscription plans that they can use. After payments are processed, users are provided with codes which can be used to undock the bicycles. For normal use each 30-minutes trip costs $2.5. \n",
    "\n",
    "\n",
    "This project will look into Boston's Blue Bikes data for stations and customer to analyze any trends and obtain meaningful insight. The data is open acces and available from [BlueBikes](https://www.bluebikes.com/system-data). Some of the questions we are trying to answer are:\n",
    "    \n",
    "    * Is there any trend in the bike usage in time? More specifically, how bike rental changes over the years? Are there any changes in bike rentals in different seasons, months, and day of the week?\n",
    "    * What are the stations with high and low usage rate? Are the starting stations with highest usage the same as the stopping stations with highest usage?\n",
    "    * Are there spots over the cities that in general have more bike usage?\n",
    "    * What is the age distribution of users? \n",
    "    * What are the trip duration distribution?\n",
    "    * Is there any correlation between age and trip duration?\n",
    "    * Is there any correlation between age and time trends of use?\n",
    "    "
   ]
  },
  {
   "cell_type": "markdown",
   "id": "floral-episode",
   "metadata": {},
   "source": [
    "## 2. Download and process bike share data"
   ]
  },
  {
   "cell_type": "markdown",
   "id": "english-singing",
   "metadata": {},
   "source": [
    "### 2.1. Downoald and unzip the files:\n",
    "\n",
    "Since the links to the data have names in sequantial name orders it is much easier to download the data using bash script and wget. Using 20{15..20}{01..12} we will download from 201501 to 202012. The next cell contains the lines to download, move, and unzip the data. The commands are commented out to avoid downloading multiple times. "
   ]
  },
  {
   "cell_type": "code",
   "execution_count": 336,
   "id": "requested-interaction",
   "metadata": {},
   "outputs": [],
   "source": [
    "%%bash\n",
    "# wget https://s3.amazonaws.com/hubway-data/20{15..20}{01..12}-hubway-tripdata.zip\n",
    "# wget https://s3.amazonaws.com/hubway-data/20{15..20}{01..12}-bluebikes-tripdata.zip\n",
    "# unzip '*.zip'\n",
    "# mkdir data\n",
    "# mv *csv data\n",
    "# rm *zip\n",
    "# rm __MACOSX -rf"
   ]
  },
  {
   "cell_type": "markdown",
   "id": "acquired-screening",
   "metadata": {},
   "source": [
    "### 2.2 Importing and sorting the trip data files\n",
    "\n",
    "The next couple of cells import all csv files into pandas dataframes. Then we will explore their column names to see if there are any differences between them. We do this to see if we can merge them. Finally we merge all the data frames. \n"
   ]
  },
  {
   "cell_type": "code",
   "execution_count": 1,
   "id": "prepared-progressive",
   "metadata": {},
   "outputs": [],
   "source": [
    "import pandas as pd\n",
    "import glob\n",
    "import os\n",
    "import numpy as np\n",
    "path = r'data' # use your path\n",
    "all_files = glob.glob(path + \"/*.csv\")\n"
   ]
  },
  {
   "cell_type": "code",
   "execution_count": 2,
   "id": "prompt-clerk",
   "metadata": {},
   "outputs": [],
   "source": [
    "temp = [i.split(\"/\", 1)[1] for i in all_files]\n",
    "dataframe_names = [i.split(\"_\", 1)[0] for i in temp]\n",
    "dataframe_names = [i.split(\"-\", 1)[0] for i in dataframe_names]\n"
   ]
  },
  {
   "cell_type": "markdown",
   "id": "younger-pattern",
   "metadata": {},
   "source": [
    "Create a list of dataframes in order to compare their column name differences and merging them later. "
   ]
  },
  {
   "cell_type": "code",
   "execution_count": 3,
   "id": "alone-deposit",
   "metadata": {},
   "outputs": [
    {
     "ename": "KeyboardInterrupt",
     "evalue": "",
     "output_type": "error",
     "traceback": [
      "\u001b[0;31m---------------------------------------------------------------------------\u001b[0m",
      "\u001b[0;31mKeyboardInterrupt\u001b[0m                         Traceback (most recent call last)",
      "\u001b[0;32m<ipython-input-3-14720e5f1e4e>\u001b[0m in \u001b[0;36m<module>\u001b[0;34m\u001b[0m\n\u001b[1;32m      1\u001b[0m \u001b[0mdataframes\u001b[0m \u001b[0;34m=\u001b[0m \u001b[0;34m[\u001b[0m\u001b[0;34m]\u001b[0m\u001b[0;34m\u001b[0m\u001b[0;34m\u001b[0m\u001b[0m\n\u001b[1;32m      2\u001b[0m \u001b[0;32mfor\u001b[0m \u001b[0mi\u001b[0m \u001b[0;32min\u001b[0m \u001b[0mrange\u001b[0m\u001b[0;34m(\u001b[0m\u001b[0mlen\u001b[0m\u001b[0;34m(\u001b[0m\u001b[0mdataframe_names\u001b[0m\u001b[0;34m)\u001b[0m\u001b[0;34m)\u001b[0m\u001b[0;34m:\u001b[0m\u001b[0;34m\u001b[0m\u001b[0;34m\u001b[0m\u001b[0m\n\u001b[0;32m----> 3\u001b[0;31m     \u001b[0mglobals\u001b[0m\u001b[0;34m(\u001b[0m\u001b[0;34m)\u001b[0m\u001b[0;34m[\u001b[0m\u001b[0;34m\"df_\"\u001b[0m\u001b[0;34m+\u001b[0m\u001b[0mdataframe_names\u001b[0m\u001b[0;34m[\u001b[0m\u001b[0mi\u001b[0m\u001b[0;34m]\u001b[0m\u001b[0;34m]\u001b[0m \u001b[0;34m=\u001b[0m \u001b[0mpd\u001b[0m\u001b[0;34m.\u001b[0m\u001b[0mread_csv\u001b[0m\u001b[0;34m(\u001b[0m\u001b[0mall_files\u001b[0m\u001b[0;34m[\u001b[0m\u001b[0mi\u001b[0m\u001b[0;34m]\u001b[0m\u001b[0;34m)\u001b[0m\u001b[0;34m\u001b[0m\u001b[0;34m\u001b[0m\u001b[0m\n\u001b[0m\u001b[1;32m      4\u001b[0m     \u001b[0mdataframes\u001b[0m\u001b[0;34m.\u001b[0m\u001b[0mappend\u001b[0m\u001b[0;34m(\u001b[0m\u001b[0mglobals\u001b[0m\u001b[0;34m(\u001b[0m\u001b[0;34m)\u001b[0m\u001b[0;34m[\u001b[0m\u001b[0;34m\"df_\"\u001b[0m\u001b[0;34m+\u001b[0m\u001b[0mdataframe_names\u001b[0m\u001b[0;34m[\u001b[0m\u001b[0mi\u001b[0m\u001b[0;34m]\u001b[0m\u001b[0;34m]\u001b[0m\u001b[0;34m)\u001b[0m\u001b[0;34m\u001b[0m\u001b[0;34m\u001b[0m\u001b[0m\n",
      "\u001b[0;32m~/anaconda3/envs/earth-analytics-python/lib/python3.8/site-packages/pandas/io/parsers.py\u001b[0m in \u001b[0;36mread_csv\u001b[0;34m(filepath_or_buffer, sep, delimiter, header, names, index_col, usecols, squeeze, prefix, mangle_dupe_cols, dtype, engine, converters, true_values, false_values, skipinitialspace, skiprows, skipfooter, nrows, na_values, keep_default_na, na_filter, verbose, skip_blank_lines, parse_dates, infer_datetime_format, keep_date_col, date_parser, dayfirst, cache_dates, iterator, chunksize, compression, thousands, decimal, lineterminator, quotechar, quoting, doublequote, escapechar, comment, encoding, dialect, error_bad_lines, warn_bad_lines, delim_whitespace, low_memory, memory_map, float_precision, storage_options)\u001b[0m\n\u001b[1;32m    608\u001b[0m     \u001b[0mkwds\u001b[0m\u001b[0;34m.\u001b[0m\u001b[0mupdate\u001b[0m\u001b[0;34m(\u001b[0m\u001b[0mkwds_defaults\u001b[0m\u001b[0;34m)\u001b[0m\u001b[0;34m\u001b[0m\u001b[0;34m\u001b[0m\u001b[0m\n\u001b[1;32m    609\u001b[0m \u001b[0;34m\u001b[0m\u001b[0m\n\u001b[0;32m--> 610\u001b[0;31m     \u001b[0;32mreturn\u001b[0m \u001b[0m_read\u001b[0m\u001b[0;34m(\u001b[0m\u001b[0mfilepath_or_buffer\u001b[0m\u001b[0;34m,\u001b[0m \u001b[0mkwds\u001b[0m\u001b[0;34m)\u001b[0m\u001b[0;34m\u001b[0m\u001b[0;34m\u001b[0m\u001b[0m\n\u001b[0m\u001b[1;32m    611\u001b[0m \u001b[0;34m\u001b[0m\u001b[0m\n\u001b[1;32m    612\u001b[0m \u001b[0;34m\u001b[0m\u001b[0m\n",
      "\u001b[0;32m~/anaconda3/envs/earth-analytics-python/lib/python3.8/site-packages/pandas/io/parsers.py\u001b[0m in \u001b[0;36m_read\u001b[0;34m(filepath_or_buffer, kwds)\u001b[0m\n\u001b[1;32m    466\u001b[0m \u001b[0;34m\u001b[0m\u001b[0m\n\u001b[1;32m    467\u001b[0m     \u001b[0;32mwith\u001b[0m \u001b[0mparser\u001b[0m\u001b[0;34m:\u001b[0m\u001b[0;34m\u001b[0m\u001b[0;34m\u001b[0m\u001b[0m\n\u001b[0;32m--> 468\u001b[0;31m         \u001b[0;32mreturn\u001b[0m \u001b[0mparser\u001b[0m\u001b[0;34m.\u001b[0m\u001b[0mread\u001b[0m\u001b[0;34m(\u001b[0m\u001b[0mnrows\u001b[0m\u001b[0;34m)\u001b[0m\u001b[0;34m\u001b[0m\u001b[0;34m\u001b[0m\u001b[0m\n\u001b[0m\u001b[1;32m    469\u001b[0m \u001b[0;34m\u001b[0m\u001b[0m\n\u001b[1;32m    470\u001b[0m \u001b[0;34m\u001b[0m\u001b[0m\n",
      "\u001b[0;32m~/anaconda3/envs/earth-analytics-python/lib/python3.8/site-packages/pandas/io/parsers.py\u001b[0m in \u001b[0;36mread\u001b[0;34m(self, nrows)\u001b[0m\n\u001b[1;32m   1055\u001b[0m     \u001b[0;32mdef\u001b[0m \u001b[0mread\u001b[0m\u001b[0;34m(\u001b[0m\u001b[0mself\u001b[0m\u001b[0;34m,\u001b[0m \u001b[0mnrows\u001b[0m\u001b[0;34m=\u001b[0m\u001b[0;32mNone\u001b[0m\u001b[0;34m)\u001b[0m\u001b[0;34m:\u001b[0m\u001b[0;34m\u001b[0m\u001b[0;34m\u001b[0m\u001b[0m\n\u001b[1;32m   1056\u001b[0m         \u001b[0mnrows\u001b[0m \u001b[0;34m=\u001b[0m \u001b[0mvalidate_integer\u001b[0m\u001b[0;34m(\u001b[0m\u001b[0;34m\"nrows\"\u001b[0m\u001b[0;34m,\u001b[0m \u001b[0mnrows\u001b[0m\u001b[0;34m)\u001b[0m\u001b[0;34m\u001b[0m\u001b[0;34m\u001b[0m\u001b[0m\n\u001b[0;32m-> 1057\u001b[0;31m         \u001b[0mindex\u001b[0m\u001b[0;34m,\u001b[0m \u001b[0mcolumns\u001b[0m\u001b[0;34m,\u001b[0m \u001b[0mcol_dict\u001b[0m \u001b[0;34m=\u001b[0m \u001b[0mself\u001b[0m\u001b[0;34m.\u001b[0m\u001b[0m_engine\u001b[0m\u001b[0;34m.\u001b[0m\u001b[0mread\u001b[0m\u001b[0;34m(\u001b[0m\u001b[0mnrows\u001b[0m\u001b[0;34m)\u001b[0m\u001b[0;34m\u001b[0m\u001b[0;34m\u001b[0m\u001b[0m\n\u001b[0m\u001b[1;32m   1058\u001b[0m \u001b[0;34m\u001b[0m\u001b[0m\n\u001b[1;32m   1059\u001b[0m         \u001b[0;32mif\u001b[0m \u001b[0mindex\u001b[0m \u001b[0;32mis\u001b[0m \u001b[0;32mNone\u001b[0m\u001b[0;34m:\u001b[0m\u001b[0;34m\u001b[0m\u001b[0;34m\u001b[0m\u001b[0m\n",
      "\u001b[0;32m~/anaconda3/envs/earth-analytics-python/lib/python3.8/site-packages/pandas/io/parsers.py\u001b[0m in \u001b[0;36mread\u001b[0;34m(self, nrows)\u001b[0m\n\u001b[1;32m   2059\u001b[0m     \u001b[0;32mdef\u001b[0m \u001b[0mread\u001b[0m\u001b[0;34m(\u001b[0m\u001b[0mself\u001b[0m\u001b[0;34m,\u001b[0m \u001b[0mnrows\u001b[0m\u001b[0;34m=\u001b[0m\u001b[0;32mNone\u001b[0m\u001b[0;34m)\u001b[0m\u001b[0;34m:\u001b[0m\u001b[0;34m\u001b[0m\u001b[0;34m\u001b[0m\u001b[0m\n\u001b[1;32m   2060\u001b[0m         \u001b[0;32mtry\u001b[0m\u001b[0;34m:\u001b[0m\u001b[0;34m\u001b[0m\u001b[0;34m\u001b[0m\u001b[0m\n\u001b[0;32m-> 2061\u001b[0;31m             \u001b[0mdata\u001b[0m \u001b[0;34m=\u001b[0m \u001b[0mself\u001b[0m\u001b[0;34m.\u001b[0m\u001b[0m_reader\u001b[0m\u001b[0;34m.\u001b[0m\u001b[0mread\u001b[0m\u001b[0;34m(\u001b[0m\u001b[0mnrows\u001b[0m\u001b[0;34m)\u001b[0m\u001b[0;34m\u001b[0m\u001b[0;34m\u001b[0m\u001b[0m\n\u001b[0m\u001b[1;32m   2062\u001b[0m         \u001b[0;32mexcept\u001b[0m \u001b[0mStopIteration\u001b[0m\u001b[0;34m:\u001b[0m\u001b[0;34m\u001b[0m\u001b[0;34m\u001b[0m\u001b[0m\n\u001b[1;32m   2063\u001b[0m             \u001b[0;32mif\u001b[0m \u001b[0mself\u001b[0m\u001b[0;34m.\u001b[0m\u001b[0m_first_chunk\u001b[0m\u001b[0;34m:\u001b[0m\u001b[0;34m\u001b[0m\u001b[0;34m\u001b[0m\u001b[0m\n",
      "\u001b[0;32mpandas/_libs/parsers.pyx\u001b[0m in \u001b[0;36mpandas._libs.parsers.TextReader.read\u001b[0;34m()\u001b[0m\n",
      "\u001b[0;32mpandas/_libs/parsers.pyx\u001b[0m in \u001b[0;36mpandas._libs.parsers.TextReader._read_low_memory\u001b[0;34m()\u001b[0m\n",
      "\u001b[0;32mpandas/_libs/parsers.pyx\u001b[0m in \u001b[0;36mpandas._libs.parsers.TextReader._read_rows\u001b[0;34m()\u001b[0m\n",
      "\u001b[0;32mpandas/_libs/parsers.pyx\u001b[0m in \u001b[0;36mpandas._libs.parsers.TextReader._convert_column_data\u001b[0;34m()\u001b[0m\n",
      "\u001b[0;32mpandas/_libs/parsers.pyx\u001b[0m in \u001b[0;36mpandas._libs.parsers.TextReader._convert_tokens\u001b[0;34m()\u001b[0m\n",
      "\u001b[0;32mpandas/_libs/parsers.pyx\u001b[0m in \u001b[0;36mpandas._libs.parsers.TextReader._convert_with_dtype\u001b[0;34m()\u001b[0m\n",
      "\u001b[0;32m~/anaconda3/envs/earth-analytics-python/lib/python3.8/site-packages/pandas/core/dtypes/common.py\u001b[0m in \u001b[0;36mis_categorical_dtype\u001b[0;34m(arr_or_dtype)\u001b[0m\n\u001b[1;32m    535\u001b[0m \u001b[0;34m\u001b[0m\u001b[0m\n\u001b[1;32m    536\u001b[0m \u001b[0;34m\u001b[0m\u001b[0m\n\u001b[0;32m--> 537\u001b[0;31m \u001b[0;32mdef\u001b[0m \u001b[0mis_categorical_dtype\u001b[0m\u001b[0;34m(\u001b[0m\u001b[0marr_or_dtype\u001b[0m\u001b[0;34m)\u001b[0m \u001b[0;34m->\u001b[0m \u001b[0mbool\u001b[0m\u001b[0;34m:\u001b[0m\u001b[0;34m\u001b[0m\u001b[0;34m\u001b[0m\u001b[0m\n\u001b[0m\u001b[1;32m    538\u001b[0m     \"\"\"\n\u001b[1;32m    539\u001b[0m     \u001b[0mCheck\u001b[0m \u001b[0mwhether\u001b[0m \u001b[0man\u001b[0m \u001b[0marray\u001b[0m\u001b[0;34m-\u001b[0m\u001b[0mlike\u001b[0m \u001b[0;32mor\u001b[0m \u001b[0mdtype\u001b[0m \u001b[0;32mis\u001b[0m \u001b[0mof\u001b[0m \u001b[0mthe\u001b[0m \u001b[0mCategorical\u001b[0m \u001b[0mdtype\u001b[0m\u001b[0;34m.\u001b[0m\u001b[0;34m\u001b[0m\u001b[0;34m\u001b[0m\u001b[0m\n",
      "\u001b[0;31mKeyboardInterrupt\u001b[0m: "
     ]
    }
   ],
   "source": [
    "dataframes = []\n",
    "for i in range(len(dataframe_names)):\n",
    "    globals()[\"df_\"+dataframe_names[i]] = pd.read_csv(all_files[i])\n",
    "    dataframes.append(globals()[\"df_\"+dataframe_names[i]])"
   ]
  },
  {
   "cell_type": "code",
   "execution_count": null,
   "id": "electronic-gates",
   "metadata": {},
   "outputs": [],
   "source": [
    "for i in range(1,len(dataframes)):\n",
    "    first_columns = dataframes[i-1].columns\n",
    "    second_columns = dataframes[i].columns\n",
    "    column_diffs = first_columns.difference(second_columns)\n",
    "    second_column_diffs = second_columns.difference(first_columns)\n",
    "    print(column_diffs)\n",
    "    print(second_column_diffs)"
   ]
  },
  {
   "cell_type": "markdown",
   "id": "ecological-explosion",
   "metadata": {
    "tags": []
   },
   "source": [
    "No we want to check to see if the files have the same columns. "
   ]
  },
  {
   "cell_type": "markdown",
   "id": "sophisticated-earthquake",
   "metadata": {},
   "source": [
    "So it seems that some data sets have **postal code** and the rest have **birth year** and **gender** instead. But, since they all share the rest of the columns we can simply join them all together. "
   ]
  },
  {
   "cell_type": "code",
   "execution_count": 325,
   "id": "different-giving",
   "metadata": {},
   "outputs": [],
   "source": [
    "df_2015_2020 = pd.concat(dataframes,ignore_index=True)"
   ]
  },
  {
   "cell_type": "markdown",
   "id": "great-going",
   "metadata": {},
   "source": [
    "### 2.3 Sorting the data\n",
    "\n",
    "First we need to convert the timestamp columns to datatime objects. Then we sort them based on the date,"
   ]
  },
  {
   "cell_type": "code",
   "execution_count": 339,
   "id": "engaged-nutrition",
   "metadata": {},
   "outputs": [],
   "source": [
    "df_2015_2020[[\"starttime\",\"stoptime\"]] = df_2015_2020[[\"starttime\",\"stoptime\"]].apply(pd.to_datetime)\n"
   ]
  },
  {
   "cell_type": "code",
   "execution_count": 340,
   "id": "foreign-summit",
   "metadata": {},
   "outputs": [],
   "source": [
    "df_2015_2020 = df_2015_2020.sort_values(by='starttime')"
   ]
  },
  {
   "cell_type": "markdown",
   "id": "documented-meaning",
   "metadata": {},
   "source": [
    "## 3. Importing the station name csv file and create an interactive map of the stations. "
   ]
  },
  {
   "cell_type": "code",
   "execution_count": 4,
   "id": "republican-vacation",
   "metadata": {},
   "outputs": [],
   "source": [
    "df_stations = pd.read_csv('https://s3.amazonaws.com/hubway-data/Hubway_Stations_as_of_July_2017.csv')\n"
   ]
  },
  {
   "cell_type": "code",
   "execution_count": 5,
   "id": "piano-graphics",
   "metadata": {},
   "outputs": [],
   "source": [
    "import requests\n",
    "import folium\n",
    "import urllib\n",
    "# from pandas.io.json import json_normalize\n",
    "import pandas as pd\n",
    "import folium\n",
    "from geopandas import GeoDataFrame\n",
    "from shapely.geometry import Point\n"
   ]
  },
  {
   "cell_type": "code",
   "execution_count": 6,
   "id": "sunset-newcastle",
   "metadata": {},
   "outputs": [],
   "source": [
    "geometry = [Point(xy) for xy in zip(df_stations.Longitude, df_stations.Latitude)]\n",
    "gdf_stations = GeoDataFrame(df_stations, crs=4326, geometry=geometry)\n"
   ]
  },
  {
   "cell_type": "code",
   "execution_count": 7,
   "id": "appointed-recommendation",
   "metadata": {},
   "outputs": [],
   "source": [
    "mean_lon = df_stations.Longitude.mean()\n",
    "mean_lat = df_stations.Latitude.mean()"
   ]
  },
  {
   "cell_type": "code",
   "execution_count": 8,
   "id": "accomplished-fabric",
   "metadata": {},
   "outputs": [
    {
     "data": {
      "text/html": [
       "<div style=\"width:100%;\"><div style=\"position:relative;width:100%;height:0;padding-bottom:60%;\"><span style=\"color:#565656\">Make this Notebook Trusted to load map: File -> Trust Notebook</span><iframe src=\"about:blank\" style=\"position:absolute;width:100%;height:100%;left:0;top:0;border:none !important;\" data-html=%3C%21DOCTYPE%20html%3E%0A%3Chead%3E%20%20%20%20%0A%20%20%20%20%3Cmeta%20http-equiv%3D%22content-type%22%20content%3D%22text/html%3B%20charset%3DUTF-8%22%20/%3E%0A%20%20%20%20%0A%20%20%20%20%20%20%20%20%3Cscript%3E%0A%20%20%20%20%20%20%20%20%20%20%20%20L_NO_TOUCH%20%3D%20false%3B%0A%20%20%20%20%20%20%20%20%20%20%20%20L_DISABLE_3D%20%3D%20false%3B%0A%20%20%20%20%20%20%20%20%3C/script%3E%0A%20%20%20%20%0A%20%20%20%20%3Cstyle%3Ehtml%2C%20body%20%7Bwidth%3A%20100%25%3Bheight%3A%20100%25%3Bmargin%3A%200%3Bpadding%3A%200%3B%7D%3C/style%3E%0A%20%20%20%20%3Cstyle%3E%23map%20%7Bposition%3Aabsolute%3Btop%3A0%3Bbottom%3A0%3Bright%3A0%3Bleft%3A0%3B%7D%3C/style%3E%0A%20%20%20%20%3Cscript%20src%3D%22https%3A//cdn.jsdelivr.net/npm/leaflet%401.6.0/dist/leaflet.js%22%3E%3C/script%3E%0A%20%20%20%20%3Cscript%20src%3D%22https%3A//code.jquery.com/jquery-1.12.4.min.js%22%3E%3C/script%3E%0A%20%20%20%20%3Cscript%20src%3D%22https%3A//maxcdn.bootstrapcdn.com/bootstrap/3.2.0/js/bootstrap.min.js%22%3E%3C/script%3E%0A%20%20%20%20%3Cscript%20src%3D%22https%3A//cdnjs.cloudflare.com/ajax/libs/Leaflet.awesome-markers/2.0.2/leaflet.awesome-markers.js%22%3E%3C/script%3E%0A%20%20%20%20%3Clink%20rel%3D%22stylesheet%22%20href%3D%22https%3A//cdn.jsdelivr.net/npm/leaflet%401.6.0/dist/leaflet.css%22/%3E%0A%20%20%20%20%3Clink%20rel%3D%22stylesheet%22%20href%3D%22https%3A//maxcdn.bootstrapcdn.com/bootstrap/3.2.0/css/bootstrap.min.css%22/%3E%0A%20%20%20%20%3Clink%20rel%3D%22stylesheet%22%20href%3D%22https%3A//maxcdn.bootstrapcdn.com/bootstrap/3.2.0/css/bootstrap-theme.min.css%22/%3E%0A%20%20%20%20%3Clink%20rel%3D%22stylesheet%22%20href%3D%22https%3A//maxcdn.bootstrapcdn.com/font-awesome/4.6.3/css/font-awesome.min.css%22/%3E%0A%20%20%20%20%3Clink%20rel%3D%22stylesheet%22%20href%3D%22https%3A//cdnjs.cloudflare.com/ajax/libs/Leaflet.awesome-markers/2.0.2/leaflet.awesome-markers.css%22/%3E%0A%20%20%20%20%3Clink%20rel%3D%22stylesheet%22%20href%3D%22https%3A//cdn.jsdelivr.net/gh/python-visualization/folium/folium/templates/leaflet.awesome.rotate.min.css%22/%3E%0A%20%20%20%20%0A%20%20%20%20%20%20%20%20%20%20%20%20%3Cmeta%20name%3D%22viewport%22%20content%3D%22width%3Ddevice-width%2C%0A%20%20%20%20%20%20%20%20%20%20%20%20%20%20%20%20initial-scale%3D1.0%2C%20maximum-scale%3D1.0%2C%20user-scalable%3Dno%22%20/%3E%0A%20%20%20%20%20%20%20%20%20%20%20%20%3Cstyle%3E%0A%20%20%20%20%20%20%20%20%20%20%20%20%20%20%20%20%23map_03e84ecb4c4647ee9c3f98cfe9e2a6c1%20%7B%0A%20%20%20%20%20%20%20%20%20%20%20%20%20%20%20%20%20%20%20%20position%3A%20relative%3B%0A%20%20%20%20%20%20%20%20%20%20%20%20%20%20%20%20%20%20%20%20width%3A%20100.0%25%3B%0A%20%20%20%20%20%20%20%20%20%20%20%20%20%20%20%20%20%20%20%20height%3A%20100.0%25%3B%0A%20%20%20%20%20%20%20%20%20%20%20%20%20%20%20%20%20%20%20%20left%3A%200.0%25%3B%0A%20%20%20%20%20%20%20%20%20%20%20%20%20%20%20%20%20%20%20%20top%3A%200.0%25%3B%0A%20%20%20%20%20%20%20%20%20%20%20%20%20%20%20%20%7D%0A%20%20%20%20%20%20%20%20%20%20%20%20%3C/style%3E%0A%20%20%20%20%20%20%20%20%0A%3C/head%3E%0A%3Cbody%3E%20%20%20%20%0A%20%20%20%20%0A%20%20%20%20%20%20%20%20%20%20%20%20%3Cdiv%20class%3D%22folium-map%22%20id%3D%22map_03e84ecb4c4647ee9c3f98cfe9e2a6c1%22%20%3E%3C/div%3E%0A%20%20%20%20%20%20%20%20%0A%3C/body%3E%0A%3Cscript%3E%20%20%20%20%0A%20%20%20%20%0A%20%20%20%20%20%20%20%20%20%20%20%20var%20map_03e84ecb4c4647ee9c3f98cfe9e2a6c1%20%3D%20L.map%28%0A%20%20%20%20%20%20%20%20%20%20%20%20%20%20%20%20%22map_03e84ecb4c4647ee9c3f98cfe9e2a6c1%22%2C%0A%20%20%20%20%20%20%20%20%20%20%20%20%20%20%20%20%7B%0A%20%20%20%20%20%20%20%20%20%20%20%20%20%20%20%20%20%20%20%20center%3A%20%5B42.35073375496872%2C%20-71.08819093244401%5D%2C%0A%20%20%20%20%20%20%20%20%20%20%20%20%20%20%20%20%20%20%20%20crs%3A%20L.CRS.EPSG3857%2C%0A%20%20%20%20%20%20%20%20%20%20%20%20%20%20%20%20%20%20%20%20zoom%3A%2011%2C%0A%20%20%20%20%20%20%20%20%20%20%20%20%20%20%20%20%20%20%20%20zoomControl%3A%20true%2C%0A%20%20%20%20%20%20%20%20%20%20%20%20%20%20%20%20%20%20%20%20preferCanvas%3A%20false%2C%0A%20%20%20%20%20%20%20%20%20%20%20%20%20%20%20%20%7D%0A%20%20%20%20%20%20%20%20%20%20%20%20%29%3B%0A%0A%20%20%20%20%20%20%20%20%20%20%20%20%0A%0A%20%20%20%20%20%20%20%20%0A%20%20%20%20%0A%20%20%20%20%20%20%20%20%20%20%20%20var%20tile_layer_38ec1363962e493f93cf667125fb6298%20%3D%20L.tileLayer%28%0A%20%20%20%20%20%20%20%20%20%20%20%20%20%20%20%20%22https%3A//cartodb-basemaps-%7Bs%7D.global.ssl.fastly.net/light_all/%7Bz%7D/%7Bx%7D/%7By%7D.png%22%2C%0A%20%20%20%20%20%20%20%20%20%20%20%20%20%20%20%20%7B%22attribution%22%3A%20%22%5Cu0026copy%3B%20%5Cu003ca%20href%3D%5C%22http%3A//www.openstreetmap.org/copyright%5C%22%5Cu003eOpenStreetMap%5Cu003c/a%5Cu003e%20contributors%20%5Cu0026copy%3B%20%5Cu003ca%20href%3D%5C%22http%3A//cartodb.com/attributions%5C%22%5Cu003eCartoDB%5Cu003c/a%5Cu003e%2C%20CartoDB%20%5Cu003ca%20href%20%3D%5C%22http%3A//cartodb.com/attributions%5C%22%5Cu003eattributions%5Cu003c/a%5Cu003e%22%2C%20%22detectRetina%22%3A%20false%2C%20%22maxNativeZoom%22%3A%2018%2C%20%22maxZoom%22%3A%2018%2C%20%22minZoom%22%3A%200%2C%20%22noWrap%22%3A%20false%2C%20%22opacity%22%3A%201%2C%20%22subdomains%22%3A%20%22abc%22%2C%20%22tms%22%3A%20false%7D%0A%20%20%20%20%20%20%20%20%20%20%20%20%29.addTo%28map_03e84ecb4c4647ee9c3f98cfe9e2a6c1%29%3B%0A%20%20%20%20%20%20%20%20%0A%20%20%20%20%0A%0A%20%20%20%20%20%20%20%20function%20geo_json_0c20a675b55548f8943cf5a88711ee50_onEachFeature%28feature%2C%20layer%29%20%7B%0A%20%20%20%20%20%20%20%20%20%20%20%20layer.on%28%7B%0A%20%20%20%20%20%20%20%20%20%20%20%20%7D%29%3B%0A%20%20%20%20%20%20%20%20%7D%3B%0A%20%20%20%20%20%20%20%20var%20geo_json_0c20a675b55548f8943cf5a88711ee50%20%3D%20L.geoJson%28null%2C%20%7B%0A%20%20%20%20%20%20%20%20%20%20%20%20%20%20%20%20onEachFeature%3A%20geo_json_0c20a675b55548f8943cf5a88711ee50_onEachFeature%2C%0A%20%20%20%20%20%20%20%20%20%20%20%20%0A%20%20%20%20%20%20%20%20%7D%29%3B%0A%0A%20%20%20%20%20%20%20%20function%20geo_json_0c20a675b55548f8943cf5a88711ee50_add%20%28data%29%20%7B%0A%20%20%20%20%20%20%20%20%20%20%20%20geo_json_0c20a675b55548f8943cf5a88711ee50%0A%20%20%20%20%20%20%20%20%20%20%20%20%20%20%20%20.addData%28data%29%0A%20%20%20%20%20%20%20%20%20%20%20%20%20%20%20%20.addTo%28map_03e84ecb4c4647ee9c3f98cfe9e2a6c1%29%3B%0A%20%20%20%20%20%20%20%20%7D%0A%20%20%20%20%20%20%20%20%20%20%20%20geo_json_0c20a675b55548f8943cf5a88711ee50_add%28%7B%22bbox%22%3A%20%5B-71.166491%2C%2042.267902%2C%20-71.006098%2C%2042.41480160999569%5D%2C%20%22features%22%3A%20%5B%7B%22bbox%22%3A%20%5B-71.129164%2C%2042.363796%2C%20-71.129164%2C%2042.363796%5D%2C%20%22geometry%22%3A%20%7B%22coordinates%22%3A%20%5B-71.129164%2C%2042.363796%5D%2C%20%22type%22%3A%20%22Point%22%7D%2C%20%22id%22%3A%20%220%22%2C%20%22properties%22%3A%20%7B%22District%22%3A%20%22Boston%22%2C%20%22Latitude%22%3A%2042.363796%2C%20%22Longitude%22%3A%20-71.129164%2C%20%22Name%22%3A%20%22175%20N%20Harvard%20St%22%2C%20%22Number%22%3A%20%22A32019%22%2C%20%22Public%22%3A%20%22Yes%22%2C%20%22Total%20docks%22%3A%2018%7D%2C%20%22type%22%3A%20%22Feature%22%7D%2C%20%7B%22bbox%22%3A%20%5B-71.10878612855231%2C%2042.38032335045416%2C%20-71.10878612855231%2C%2042.38032335045416%5D%2C%20%22geometry%22%3A%20%7B%22coordinates%22%3A%20%5B-71.10878612855231%2C%2042.38032335045416%5D%2C%20%22type%22%3A%20%22Point%22%7D%2C%20%22id%22%3A%20%221%22%2C%20%22properties%22%3A%20%7B%22District%22%3A%20%22Somerville%22%2C%20%22Latitude%22%3A%2042.38032335045416%2C%20%22Longitude%22%3A%20-71.10878612855231%2C%20%22Name%22%3A%20%22191%20Beacon%20St%22%2C%20%22Number%22%3A%20%22S32035%22%2C%20%22Public%22%3A%20%22Yes%22%2C%20%22Total%20docks%22%3A%2019%7D%2C%20%22type%22%3A%20%22Feature%22%7D%2C%20%7B%22bbox%22%3A%20%5B-71.10402522613185%2C%2042.38100143038052%2C%20-71.10402522613185%2C%2042.38100143038052%5D%2C%20%22geometry%22%3A%20%7B%22coordinates%22%3A%20%5B-71.10402522613185%2C%2042.38100143038052%5D%2C%20%22type%22%3A%20%22Point%22%7D%2C%20%22id%22%3A%20%222%22%2C%20%22properties%22%3A%20%7B%22District%22%3A%20%22Somerville%22%2C%20%22Latitude%22%3A%2042.38100143038052%2C%20%22Longitude%22%3A%20-71.10402522613185%2C%20%22Name%22%3A%20%2230%20Dane%20St%22%2C%20%22Number%22%3A%20%22S32023%22%2C%20%22Public%22%3A%20%22Yes%22%2C%20%22Total%20docks%22%3A%2015%7D%2C%20%22type%22%3A%20%22Feature%22%7D%2C%20%7B%22bbox%22%3A%20%5B-71.104412%2C%2042.370803%2C%20-71.104412%2C%2042.370803%5D%2C%20%22geometry%22%3A%20%7B%22coordinates%22%3A%20%5B-71.104412%2C%2042.370803%5D%2C%20%22type%22%3A%20%22Point%22%7D%2C%20%22id%22%3A%20%223%22%2C%20%22properties%22%3A%20%7B%22District%22%3A%20%22Cambridge%22%2C%20%22Latitude%22%3A%2042.370803%2C%20%22Longitude%22%3A%20-71.104412%2C%20%22Name%22%3A%20%22359%20Broadway%20-%20Broadway%20at%20Fayette%20Street%22%2C%20%22Number%22%3A%20%22M32026%22%2C%20%22Public%22%3A%20%22Yes%22%2C%20%22Total%20docks%22%3A%2023%7D%2C%20%22type%22%3A%20%22Feature%22%7D%2C%20%7B%22bbox%22%3A%20%5B-71.14871613699506%2C%2042.37500235137831%2C%20-71.14871613699506%2C%2042.37500235137831%5D%2C%20%22geometry%22%3A%20%7B%22coordinates%22%3A%20%5B-71.14871613699506%2C%2042.37500235137831%5D%2C%20%22type%22%3A%20%22Point%22%7D%2C%20%22id%22%3A%20%224%22%2C%20%22properties%22%3A%20%7B%22District%22%3A%20%22Cambridge%22%2C%20%22Latitude%22%3A%2042.37500235137831%2C%20%22Longitude%22%3A%20-71.14871613699506%2C%20%22Name%22%3A%20%22699%20Mt%20Auburn%20St%22%2C%20%22Number%22%3A%20%22M32054%22%2C%20%22Public%22%3A%20%22Yes%22%2C%20%22Total%20docks%22%3A%2025%7D%2C%20%22type%22%3A%20%22Feature%22%7D%2C%20%7B%22bbox%22%3A%20%5B-71.10391523698127%2C%2042.34960945333059%2C%20-71.10391523698127%2C%2042.34960945333059%5D%2C%20%22geometry%22%3A%20%7B%22coordinates%22%3A%20%5B-71.10391523698127%2C%2042.34960945333059%5D%2C%20%22type%22%3A%20%22Point%22%7D%2C%20%22id%22%3A%20%225%22%2C%20%22properties%22%3A%20%7B%22District%22%3A%20%22Boston%22%2C%20%22Latitude%22%3A%2042.34960945333059%2C%20%22Longitude%22%3A%20-71.10391523698127%2C%20%22Name%22%3A%20%22700%20Commonwealth%20Ave.%22%2C%20%22Number%22%3A%20%22B32060%22%2C%20%22Public%22%3A%20%22Yes%22%2C%20%22Total%20docks%22%3A%2012%7D%2C%20%22type%22%3A%20%22Feature%22%7D%2C%20%7B%22bbox%22%3A%20%5B-71.15412890911102%2C%2042.380788172914286%2C%20-71.15412890911102%2C%2042.380788172914286%5D%2C%20%22geometry%22%3A%20%7B%22coordinates%22%3A%20%5B-71.15412890911102%2C%2042.380788172914286%5D%2C%20%22type%22%3A%20%22Point%22%7D%2C%20%22id%22%3A%20%226%22%2C%20%22properties%22%3A%20%7B%22District%22%3A%20%22Cambridge%22%2C%20%22Latitude%22%3A%2042.380788172914286%2C%20%22Longitude%22%3A%20-71.15412890911102%2C%20%22Name%22%3A%20%22700%20Huron%20Ave%22%2C%20%22Number%22%3A%20%22M32060%22%2C%20%22Public%22%3A%20%22Yes%22%2C%20%22Total%20docks%22%3A%2019%7D%2C%20%22type%22%3A%20%22Feature%22%7D%2C%20%7B%22bbox%22%3A%20%5B-71.0801375997653%2C%2042.36550728505653%2C%20-71.0801375997653%2C%2042.36550728505653%5D%2C%20%22geometry%22%3A%20%7B%22coordinates%22%3A%20%5B-71.0801375997653%2C%2042.36550728505653%5D%2C%20%22type%22%3A%20%22Point%22%7D%2C%20%22id%22%3A%20%227%22%2C%20%22properties%22%3A%20%7B%22District%22%3A%20%22Cambridge%22%2C%20%22Latitude%22%3A%2042.36550728505653%2C%20%22Longitude%22%3A%20-71.0801375997653%2C%20%22Name%22%3A%20%2275%20Binney%20St%22%2C%20%22Number%22%3A%20%22M32064%22%2C%20%22Public%22%3A%20%22Yes%22%2C%20%22Total%20docks%22%3A%2019%7D%2C%20%22type%22%3A%20%22Feature%22%7D%2C%20%7B%22bbox%22%3A%20%5B-71.143941%2C%2042.3936%2C%20-71.143941%2C%2042.3936%5D%2C%20%22geometry%22%3A%20%7B%22coordinates%22%3A%20%5B-71.143941%2C%2042.3936%5D%2C%20%22type%22%3A%20%22Point%22%7D%2C%20%22id%22%3A%20%228%22%2C%20%22properties%22%3A%20%7B%22District%22%3A%20%22Cambridge%22%2C%20%22Latitude%22%3A%2042.3936%2C%20%22Longitude%22%3A%20-71.143941%2C%20%22Name%22%3A%20%2284%20Cambridgepark%20Dr%22%2C%20%22Number%22%3A%20%22M32058%22%2C%20%22Public%22%3A%20%22Yes%22%2C%20%22Total%20docks%22%3A%2025%7D%2C%20%22type%22%3A%20%22Feature%22%7D%2C%20%7B%22bbox%22%3A%20%5B-71.05726346409938%2C%2042.291679428741226%2C%20-71.05726346409938%2C%2042.291679428741226%5D%2C%20%22geometry%22%3A%20%7B%22coordinates%22%3A%20%5B-71.05726346409938%2C%2042.291679428741226%5D%2C%20%22type%22%3A%20%22Point%22%7D%2C%20%22id%22%3A%20%229%22%2C%20%22properties%22%3A%20%7B%22District%22%3A%20%22Boston%22%2C%20%22Latitude%22%3A%2042.291679428741226%2C%20%22Longitude%22%3A%20-71.05726346409938%2C%20%22Name%22%3A%20%22Adams%20St%20at%20Lonsdale%20St%22%2C%20%22Number%22%3A%20%22C32065%22%2C%20%22Public%22%3A%20%22Yes%22%2C%20%22Total%20docks%22%3A%2019%7D%2C%20%22type%22%3A%20%22Feature%22%7D%2C%20%7B%22bbox%22%3A%20%5B-71.03274185079499%2C%2042.37408320248276%2C%20-71.03274185079499%2C%2042.37408320248276%5D%2C%20%22geometry%22%3A%20%7B%22coordinates%22%3A%20%5B-71.03274185079499%2C%2042.37408320248276%5D%2C%20%22type%22%3A%20%22Point%22%7D%2C%20%22id%22%3A%20%2210%22%2C%20%22properties%22%3A%20%7B%22District%22%3A%20%22Boston%22%2C%20%22Latitude%22%3A%2042.37408320248276%2C%20%22Longitude%22%3A%20-71.03274185079499%2C%20%22Name%22%3A%20%22Airport%20T%20Stop%20-%20Bremen%20St%20at%20Brooks%20St%22%2C%20%22Number%22%3A%20%22A32032%22%2C%20%22Public%22%3A%20%22Yes%22%2C%20%22Total%20docks%22%3A%2011%7D%2C%20%22type%22%3A%20%22Feature%22%7D%2C%20%7B%22bbox%22%3A%20%5B-71.0689445958451%2C%2042.33664795427071%2C%20-71.0689445958451%2C%2042.33664795427071%5D%2C%20%22geometry%22%3A%20%7B%22coordinates%22%3A%20%5B-71.0689445958451%2C%2042.33664795427071%5D%2C%20%22type%22%3A%20%22Point%22%7D%2C%20%22id%22%3A%20%2211%22%2C%20%22properties%22%3A%20%7B%22District%22%3A%20%22Boston%22%2C%20%22Latitude%22%3A%2042.33664795427071%2C%20%22Longitude%22%3A%20-71.0689445958451%2C%20%22Name%22%3A%20%22Albany%20St%20at%20E.%20Brookline%20St%22%2C%20%22Number%22%3A%20%22C32061%22%2C%20%22Public%22%3A%20%22Yes%22%2C%20%22Total%20docks%22%3A%2015%7D%2C%20%22type%22%3A%20%22Feature%22%7D%2C%20%7B%22bbox%22%3A%20%5B-71.14260613918304%2C%2042.39558845716709%2C%20-71.14260613918304%2C%2042.39558845716709%5D%2C%20%22geometry%22%3A%20%7B%22coordinates%22%3A%20%5B-71.14260613918304%2C%2042.39558845716709%5D%2C%20%22type%22%3A%20%22Point%22%7D%2C%20%22id%22%3A%20%2212%22%2C%20%22properties%22%3A%20%7B%22District%22%3A%20%22Cambridge%22%2C%20%22Latitude%22%3A%2042.39558845716709%2C%20%22Longitude%22%3A%20-71.14260613918304%2C%20%22Name%22%3A%20%22Alewife%20MBTA%20at%20Steel%20Place%22%2C%20%22Number%22%3A%20%22M32046%22%2C%20%22Public%22%3A%20%22Yes%22%2C%20%22Total%20docks%22%3A%2019%7D%2C%20%22type%22%3A%20%22Feature%22%7D%2C%20%7B%22bbox%22%3A%20%5B-71.139459%2C%2042.396105%2C%20-71.139459%2C%2042.396105%5D%2C%20%22geometry%22%3A%20%7B%22coordinates%22%3A%20%5B-71.139459%2C%2042.396105%5D%2C%20%22type%22%3A%20%22Point%22%7D%2C%20%22id%22%3A%20%2213%22%2C%20%22properties%22%3A%20%7B%22District%22%3A%20%22Cambridge%22%2C%20%22Latitude%22%3A%2042.396105%2C%20%22Longitude%22%3A%20-71.139459%2C%20%22Name%22%3A%20%22Alewife%20Station%20at%20Russell%20Field%22%2C%20%22Number%22%3A%20%22M32033%22%2C%20%22Public%22%3A%20%22Yes%22%2C%20%22Total%20docks%22%3A%2023%7D%2C%20%22type%22%3A%20%22Feature%22%7D%2C%20%7B%22bbox%22%3A%20%5B-71.13275302578586%2C%2042.34922469338298%2C%20-71.13275302578586%2C%2042.34922469338298%5D%2C%20%22geometry%22%3A%20%7B%22coordinates%22%3A%20%5B-71.13275302578586%2C%2042.34922469338298%5D%2C%20%22type%22%3A%20%22Point%22%7D%2C%20%22id%22%3A%20%2214%22%2C%20%22properties%22%3A%20%7B%22District%22%3A%20%22Boston%22%2C%20%22Latitude%22%3A%2042.34922469338298%2C%20%22Longitude%22%3A%20-71.13275302578586%2C%20%22Name%22%3A%20%22Allston%20Green%20District%20-%20Griggs%20St%20at%20Commonwealth%20Ave%22%2C%20%22Number%22%3A%20%22A32017%22%2C%20%22Public%22%3A%20%22Yes%22%2C%20%22Total%20docks%22%3A%2015%7D%2C%20%22type%22%3A%20%22Feature%22%7D%2C%20%7B%22bbox%22%3A%20%5B-71.0875672%2C%2042.3636929%2C%20-71.0875672%2C%2042.3636929%5D%2C%20%22geometry%22%3A%20%7B%22coordinates%22%3A%20%5B-71.0875672%2C%2042.3636929%5D%2C%20%22type%22%3A%20%22Point%22%7D%2C%20%22id%22%3A%20%2215%22%2C%20%22properties%22%3A%20%7B%22District%22%3A%20%22Cambridge%22%2C%20%22Latitude%22%3A%2042.3636929%2C%20%22Longitude%22%3A%20-71.0875672%2C%20%22Name%22%3A%20%22Ames%20St%20at%20Broadway%22%2C%20%22Number%22%3A%20%22M32059%22%2C%20%22Public%22%3A%20%22Yes%22%2C%20%22Total%20docks%22%3A%2019%7D%2C%20%22type%22%3A%20%22Feature%22%7D%2C%20%7B%22bbox%22%3A%20%5B-71.08822%2C%2042.3625%2C%20-71.08822%2C%2042.3625%5D%2C%20%22geometry%22%3A%20%7B%22coordinates%22%3A%20%5B-71.08822%2C%2042.3625%5D%2C%20%22type%22%3A%20%22Point%22%7D%2C%20%22id%22%3A%20%2216%22%2C%20%22properties%22%3A%20%7B%22District%22%3A%20%22Cambridge%22%2C%20%22Latitude%22%3A%2042.3625%2C%20%22Longitude%22%3A%20-71.08822%2C%20%22Name%22%3A%20%22Ames%20St%20at%20Main%20St%22%2C%20%22Number%22%3A%20%22M32037%22%2C%20%22Public%22%3A%20%22Yes%22%2C%20%22Total%20docks%22%3A%2019%7D%2C%20%22type%22%3A%20%22Feature%22%7D%2C%20%7B%22bbox%22%3A%20%5B-71.05701684951782%2C%2042.330473650415165%2C%20-71.05701684951782%2C%2042.330473650415165%5D%2C%20%22geometry%22%3A%20%7B%22coordinates%22%3A%20%5B-71.05701684951782%2C%2042.330473650415165%5D%2C%20%22type%22%3A%20%22Point%22%7D%2C%20%22id%22%3A%20%2217%22%2C%20%22properties%22%3A%20%7B%22District%22%3A%20%22Boston%22%2C%20%22Latitude%22%3A%2042.330473650415165%2C%20%22Longitude%22%3A%20-71.05701684951782%2C%20%22Name%22%3A%20%22Andrew%20T%20Stop%20-%20Dorchester%20Ave%20at%20Dexter%20St%22%2C%20%22Number%22%3A%20%22C32012%22%2C%20%22Public%22%3A%20%22Yes%22%2C%20%22Total%20docks%22%3A%2015%7D%2C%20%22type%22%3A%20%22Feature%22%7D%2C%20%7B%22bbox%22%3A%20%5B-71.0514298081398%2C%2042.35991176110118%2C%20-71.0514298081398%2C%2042.35991176110118%5D%2C%20%22geometry%22%3A%20%7B%22coordinates%22%3A%20%5B-71.0514298081398%2C%2042.35991176110118%5D%2C%20%22type%22%3A%20%22Point%22%7D%2C%20%22id%22%3A%20%2218%22%2C%20%22properties%22%3A%20%7B%22District%22%3A%20%22Boston%22%2C%20%22Latitude%22%3A%2042.35991176110118%2C%20%22Longitude%22%3A%20-71.0514298081398%2C%20%22Name%22%3A%20%22Aquarium%20T%20Stop%20-%20200%20Atlantic%20Ave%22%2C%20%22Number%22%3A%20%22B32004%22%2C%20%22Public%22%3A%20%22Yes%22%2C%20%22Total%20docks%22%3A%2023%7D%2C%20%22type%22%3A%20%22Feature%22%7D%2C%20%7B%22bbox%22%3A%20%5B-71.0582291708306%2C%2042.35533501941256%2C%20-71.0582291708306%2C%2042.35533501941256%5D%2C%20%22geometry%22%3A%20%7B%22coordinates%22%3A%20%5B-71.0582291708306%2C%2042.35533501941256%5D%2C%20%22type%22%3A%20%22Point%22%7D%2C%20%22id%22%3A%20%2219%22%2C%20%22properties%22%3A%20%7B%22District%22%3A%20%22Boston%22%2C%20%22Latitude%22%3A%2042.35533501941256%2C%20%22Longitude%22%3A%20-71.0582291708306%2C%20%22Name%22%3A%20%22Arch%20St%20at%20Franklin%20St%22%2C%20%22Number%22%3A%20%22D32004%22%2C%20%22Public%22%3A%20%22Yes%22%2C%20%22Total%20docks%22%3A%2023%7D%2C%20%22type%22%3A%20%22Feature%22%7D%2C%20%7B%22bbox%22%3A%20%5B-71.12119538714069%2C%2042.29266592872725%2C%20-71.12119538714069%2C%2042.29266592872725%5D%2C%20%22geometry%22%3A%20%7B%22coordinates%22%3A%20%5B-71.12119538714069%2C%2042.29266592872725%5D%2C%20%22type%22%3A%20%22Point%22%7D%2C%20%22id%22%3A%20%2220%22%2C%20%22properties%22%3A%20%7B%22District%22%3A%20%22Boston%22%2C%20%22Latitude%22%3A%2042.29266592872725%2C%20%22Longitude%22%3A%20-71.12119538714069%2C%20%22Name%22%3A%20%22Archdale%20Rd%20at%20Washington%20St%22%2C%20%22Number%22%3A%20%22C32048%22%2C%20%22Public%22%3A%20%22Yes%22%2C%20%22Total%20docks%22%3A%2015%7D%2C%20%22type%22%3A%20%22Feature%22%7D%2C%20%7B%22bbox%22%3A%20%5B-71.0641389%2C%2042.2856944%2C%20-71.0641389%2C%2042.2856944%5D%2C%20%22geometry%22%3A%20%7B%22coordinates%22%3A%20%5B-71.0641389%2C%2042.2856944%5D%2C%20%22type%22%3A%20%22Point%22%7D%2C%20%22id%22%3A%20%2221%22%2C%20%22properties%22%3A%20%7B%22District%22%3A%20%22Boston%22%2C%20%22Latitude%22%3A%2042.2856944%2C%20%22Longitude%22%3A%20-71.0641389%2C%20%22Name%22%3A%20%22Ashmont%20T%20Stop%22%2C%20%22Number%22%3A%20%22C32062%22%2C%20%22Public%22%3A%20%22Yes%22%2C%20%22Total%20docks%22%3A%2015%7D%2C%20%22type%22%3A%20%22Feature%22%7D%2C%20%7B%22bbox%22%3A%20%5B-71.07746601104736%2C%2042.39223284004628%2C%20-71.07746601104736%2C%2042.39223284004628%5D%2C%20%22geometry%22%3A%20%7B%22coordinates%22%3A%20%5B-71.07746601104736%2C%2042.39223284004628%5D%2C%20%22type%22%3A%20%22Point%22%7D%2C%20%22id%22%3A%20%2222%22%2C%20%22properties%22%3A%20%7B%22District%22%3A%20%22Somerville%22%2C%20%22Latitude%22%3A%2042.39223284004628%2C%20%22Longitude%22%3A%20-71.07746601104736%2C%20%22Name%22%3A%20%22Assembly%20Square%20T%22%2C%20%22Number%22%3A%20%22S32018%22%2C%20%22Public%22%3A%20%22Yes%22%2C%20%22Total%20docks%22%3A%2015%7D%2C%20%22type%22%3A%20%22Feature%22%7D%2C%20%7B%22bbox%22%3A%20%5B-71.108279%2C%2042.350406%2C%20-71.108279%2C%2042.350406%5D%2C%20%22geometry%22%3A%20%7B%22coordinates%22%3A%20%5B-71.108279%2C%2042.350406%5D%2C%20%22type%22%3A%20%22Point%22%7D%2C%20%22id%22%3A%20%2223%22%2C%20%22properties%22%3A%20%7B%22District%22%3A%20%22Boston%22%2C%20%22Latitude%22%3A%2042.350406%2C%20%22Longitude%22%3A%20-71.108279%2C%20%22Name%22%3A%20%22B.U.%20Central%20-%20725%20Comm.%20Ave.%22%2C%20%22Number%22%3A%20%22A32003%22%2C%20%22Public%22%3A%20%22Yes%22%2C%20%22Total%20docks%22%3A%2011%7D%2C%20%22type%22%3A%20%22Feature%22%7D%2C%20%7B%22bbox%22%3A%20%5B-71.07657015323639%2C%2042.34807412317439%2C%20-71.07657015323639%2C%2042.34807412317439%5D%2C%20%22geometry%22%3A%20%7B%22coordinates%22%3A%20%5B-71.07657015323639%2C%2042.34807412317439%5D%2C%20%22type%22%3A%20%22Point%22%7D%2C%20%22id%22%3A%20%2224%22%2C%20%22properties%22%3A%20%7B%22District%22%3A%20%22Boston%22%2C%20%22Latitude%22%3A%2042.34807412317439%2C%20%22Longitude%22%3A%20-71.07657015323639%2C%20%22Name%22%3A%20%22Back%20Bay%20T%20Stop%20-%20Dartmouth%20St%20at%20Stuart%20St%22%2C%20%22Number%22%3A%20%22C32003%22%2C%20%22Public%22%3A%20%22Yes%22%2C%20%22Total%20docks%22%3A%2019%7D%2C%20%22type%22%3A%20%22Feature%22%7D%2C%20%7B%22bbox%22%3A%20%5B-71.11102573591778%2C%2042.39915588714573%2C%20-71.11102573591778%2C%2042.39915588714573%5D%2C%20%22geometry%22%3A%20%7B%22coordinates%22%3A%20%5B-71.11102573591778%2C%2042.39915588714573%5D%2C%20%22type%22%3A%20%22Point%22%7D%2C%20%22id%22%3A%20%2225%22%2C%20%22properties%22%3A%20%7B%22District%22%3A%20%22Somerville%22%2C%20%22Latitude%22%3A%2042.39915588714573%2C%20%22Longitude%22%3A%20-71.11102573591778%2C%20%22Name%22%3A%20%22Ball%20Sq%22%2C%20%22Number%22%3A%20%22S32007%22%2C%20%22Public%22%3A%20%22Yes%22%2C%20%22Total%20docks%22%3A%2015%7D%2C%20%22type%22%3A%20%22Feature%22%7D%2C%20%7B%22bbox%22%3A%20%5B-71.0901582%2C%2042.3294633%2C%20-71.0901582%2C%2042.3294633%5D%2C%20%22geometry%22%3A%20%7B%22coordinates%22%3A%20%5B-71.0901582%2C%2042.3294633%5D%2C%20%22type%22%3A%20%22Point%22%7D%2C%20%22id%22%3A%20%2226%22%2C%20%22properties%22%3A%20%7B%22District%22%3A%20%22Boston%22%2C%20%22Latitude%22%3A%2042.3294633%2C%20%22Longitude%22%3A%20-71.0901582%2C%20%22Name%22%3A%20%22Bartlett%20St%20at%20John%20Elliot%20Sq%22%2C%20%22Number%22%3A%20%22B32055%22%2C%20%22Public%22%3A%20%22Yes%22%2C%20%22Total%20docks%22%3A%2015%7D%2C%20%22type%22%3A%20%22Feature%22%7D%2C%20%7B%22bbox%22%3A%20%5B-71.069849%2C%2042.356052%2C%20-71.069849%2C%2042.356052%5D%2C%20%22geometry%22%3A%20%7B%22coordinates%22%3A%20%5B-71.069849%2C%2042.356052%5D%2C%20%22type%22%3A%20%22Point%22%7D%2C%20%22id%22%3A%20%2227%22%2C%20%22properties%22%3A%20%7B%22District%22%3A%20%22Boston%22%2C%20%22Latitude%22%3A%2042.356052%2C%20%22Longitude%22%3A%20-71.069849%2C%20%22Name%22%3A%20%22Beacon%20St%20at%20Charles%20St%22%2C%20%22Number%22%3A%20%22D32024%22%2C%20%22Public%22%3A%20%22Yes%22%2C%20%22Total%20docks%22%3A%2015%7D%2C%20%22type%22%3A%20%22Feature%22%7D%2C%20%7B%22bbox%22%3A%20%5B-71.0898108780384%2C%2042.35082680669095%2C%20-71.0898108780384%2C%2042.35082680669095%5D%2C%20%22geometry%22%3A%20%7B%22coordinates%22%3A%20%5B-71.0898108780384%2C%2042.35082680669095%5D%2C%20%22type%22%3A%20%22Point%22%7D%2C%20%22id%22%3A%20%2228%22%2C%20%22properties%22%3A%20%7B%22District%22%3A%20%22Boston%22%2C%20%22Latitude%22%3A%2042.35082680669095%2C%20%22Longitude%22%3A%20-71.0898108780384%2C%20%22Name%22%3A%20%22Beacon%20St%20at%20Massachusetts%20Ave%22%2C%20%22Number%22%3A%20%22B32016%22%2C%20%22Public%22%3A%20%22Yes%22%2C%20%22Total%20docks%22%3A%2019%7D%2C%20%22type%22%3A%20%22Feature%22%7D%2C%20%7B%22bbox%22%3A%20%5B-71.13894682028331%2C%2042.33826680058037%2C%20-71.13894682028331%2C%2042.33826680058037%5D%2C%20%22geometry%22%3A%20%7B%22coordinates%22%3A%20%5B-71.13894682028331%2C%2042.33826680058037%5D%2C%20%22type%22%3A%20%22Point%22%7D%2C%20%22id%22%3A%20%2229%22%2C%20%22properties%22%3A%20%7B%22District%22%3A%20%22Brookline%22%2C%20%22Latitude%22%3A%2042.33826680058037%2C%20%22Longitude%22%3A%20-71.13894682028331%2C%20%22Name%22%3A%20%22Beacon%20St%20at%20Tappan%20St%22%2C%20%22Number%22%3A%20%22K32002%22%2C%20%22Public%22%3A%20%22Yes%22%2C%20%22Total%20docks%22%3A%2015%7D%2C%20%22type%22%3A%20%22Feature%22%7D%2C%20%7B%22bbox%22%3A%20%5B-71.105668%2C%2042.37842%2C%20-71.105668%2C%2042.37842%5D%2C%20%22geometry%22%3A%20%7B%22coordinates%22%3A%20%5B-71.105668%2C%2042.37842%5D%2C%20%22type%22%3A%20%22Point%22%7D%2C%20%22id%22%3A%20%2230%22%2C%20%22properties%22%3A%20%7B%22District%22%3A%20%22Somerville%22%2C%20%22Latitude%22%3A%2042.37842%2C%20%22Longitude%22%3A%20-71.105668%2C%20%22Name%22%3A%20%22Beacon%20St%20at%20Washington%20/%20Kirkland%22%2C%20%22Number%22%3A%20%22S32003%22%2C%20%22Public%22%3A%20%22Yes%22%2C%20%22Total%20docks%22%3A%2019%7D%2C%20%22type%22%3A%20%22Feature%22%7D%2C%20%7B%22bbox%22%3A%20%5B-71.13672129828046%2C%2042.28634589486312%2C%20-71.13672129828046%2C%2042.28634589486312%5D%2C%20%22geometry%22%3A%20%7B%22coordinates%22%3A%20%5B-71.13672129828046%2C%2042.28634589486312%5D%2C%20%22type%22%3A%20%22Point%22%7D%2C%20%22id%22%3A%20%2231%22%2C%20%22properties%22%3A%20%7B%22District%22%3A%20%22Boston%22%2C%20%22Latitude%22%3A%2042.28634589486312%2C%20%22Longitude%22%3A%20-71.13672129828046%2C%20%22Name%22%3A%20%22Belgrade%20Ave%20at%20Walworth%20St%22%2C%20%22Number%22%3A%20%22C32059%22%2C%20%22Public%22%3A%20%22Yes%22%2C%20%22Total%20docks%22%3A%2015%7D%2C%20%22type%22%3A%20%22Feature%22%7D%2C%20%7B%22bbox%22%3A%20%5B-71.01619094610214%2C%2042.383532520117896%2C%20-71.01619094610214%2C%2042.383532520117896%5D%2C%20%22geometry%22%3A%20%7B%22coordinates%22%3A%20%5B-71.01619094610214%2C%2042.383532520117896%5D%2C%20%22type%22%3A%20%22Point%22%7D%2C%20%22id%22%3A%20%2232%22%2C%20%22properties%22%3A%20%7B%22District%22%3A%20%22Boston%22%2C%20%22Latitude%22%3A%2042.383532520117896%2C%20%22Longitude%22%3A%20-71.01619094610214%2C%20%22Name%22%3A%20%22Bennington%20St%20at%20Byron%20St%22%2C%20%22Number%22%3A%20%22A32028%22%2C%20%22Public%22%3A%20%22Yes%22%2C%20%22Total%20docks%22%3A%2015%7D%2C%20%22type%22%3A%20%22Feature%22%7D%2C%20%7B%22bbox%22%3A%20%5B-71.01063068965232%2C%2042.385223935870535%2C%20-71.01063068965232%2C%2042.385223935870535%5D%2C%20%22geometry%22%3A%20%7B%22coordinates%22%3A%20%5B-71.01063068965232%2C%2042.385223935870535%5D%2C%20%22type%22%3A%20%22Point%22%7D%2C%20%22id%22%3A%20%2233%22%2C%20%22properties%22%3A%20%7B%22District%22%3A%20%22Boston%22%2C%20%22Latitude%22%3A%2042.385223935870535%2C%20%22Longitude%22%3A%20-71.01063068965232%2C%20%22Name%22%3A%20%22Bennington%20St%20at%20Constitution%20Beach%22%2C%20%22Number%22%3A%20%22A32039%22%2C%20%22Public%22%3A%20%22Yes%22%2C%20%22Total%20docks%22%3A%2017%7D%2C%20%22type%22%3A%20%22Feature%22%7D%2C%20%7B%22bbox%22%3A%20%5B-71.08995433905875%2C%2042.37207657915397%2C%20-71.08995433905875%2C%2042.37207657915397%5D%2C%20%22geometry%22%3A%20%7B%22coordinates%22%3A%20%5B-71.08995433905875%2C%2042.37207657915397%5D%2C%20%22type%22%3A%20%22Point%22%7D%2C%20%22id%22%3A%20%2234%22%2C%20%22properties%22%3A%20%7B%22District%22%3A%20%22Cambridge%22%2C%20%22Latitude%22%3A%2042.37207657915397%2C%20%22Longitude%22%3A%20-71.08995433905875%2C%20%22Name%22%3A%20%22Berkshire%20Street%20at%20Cambridge%20Street%22%2C%20%22Number%22%3A%20%22M32067%22%2C%20%22Public%22%3A%20%22Yes%22%2C%20%22Total%20docks%22%3A%2019%7D%2C%20%22type%22%3A%20%22Feature%22%7D%2C%20%7B%22bbox%22%3A%20%5B-71.1001680795016%2C%2042.34734473177431%2C%20-71.1001680795016%2C%2042.34734473177431%5D%2C%20%22geometry%22%3A%20%7B%22coordinates%22%3A%20%5B-71.1001680795016%2C%2042.34734473177431%5D%2C%20%22type%22%3A%20%22Point%22%7D%2C%20%22id%22%3A%20%2235%22%2C%20%22properties%22%3A%20%7B%22District%22%3A%20%22Boston%22%2C%20%22Latitude%22%3A%2042.34734473177431%2C%20%22Longitude%22%3A%20-71.1001680795016%2C%20%22Name%22%3A%20%22Big%20Papi%20Station%22%2C%20%22Number%22%3A%20%22B32058%22%2C%20%22Public%22%3A%20%22Yes%22%2C%20%22Total%20docks%22%3A%2019%7D%2C%20%22type%22%3A%20%22Feature%22%7D%2C%20%7B%22bbox%22%3A%20%5B-71.08633603909765%2C%2042.36608797388682%2C%20-71.08633603909765%2C%2042.36608797388682%5D%2C%20%22geometry%22%3A%20%7B%22coordinates%22%3A%20%5B-71.08633603909765%2C%2042.36608797388682%5D%2C%20%22type%22%3A%20%22Point%22%7D%2C%20%22id%22%3A%20%2236%22%2C%20%22properties%22%3A%20%7B%22District%22%3A%20%22Cambridge%22%2C%20%22Latitude%22%3A%2042.36608797388682%2C%20%22Longitude%22%3A%20-71.08633603909765%2C%20%22Name%22%3A%20%22Binney%20St%20/%20Sixth%20St%22%2C%20%22Number%22%3A%20%22M32027%22%2C%20%22Public%22%3A%20%22Yes%22%2C%20%22Total%20docks%22%3A%2019%7D%2C%20%22type%22%3A%20%22Feature%22%7D%2C%20%7B%22bbox%22%3A%20%5B-71.0695936904267%2C%2042.36435589027983%2C%20-71.0695936904267%2C%2042.36435589027983%5D%2C%20%22geometry%22%3A%20%7B%22coordinates%22%3A%20%5B-71.0695936904267%2C%2042.36435589027983%5D%2C%20%22type%22%3A%20%22Point%22%7D%2C%20%22id%22%3A%20%2237%22%2C%20%22properties%22%3A%20%7B%22District%22%3A%20%22Boston%22%2C%20%22Latitude%22%3A%2042.36435589027983%2C%20%22Longitude%22%3A%20-71.0695936904267%2C%20%22Name%22%3A%20%22Blossom%20St%20at%20Charles%20St%22%2C%20%22Number%22%3A%20%22D32050%22%2C%20%22Public%22%3A%20%22Yes%22%2C%20%22Total%20docks%22%3A%2015%7D%2C%20%22type%22%3A%20%22Feature%22%7D%2C%20%7B%22bbox%22%3A%20%5B-71.09372552493369%2C%2042.27462067181224%2C%20-71.09372552493369%2C%2042.27462067181224%5D%2C%20%22geometry%22%3A%20%7B%22coordinates%22%3A%20%5B-71.09372552493369%2C%2042.27462067181224%5D%2C%20%22type%22%3A%20%22Point%22%7D%2C%20%22id%22%3A%20%2238%22%2C%20%22properties%22%3A%20%7B%22District%22%3A%20%22Boston%22%2C%20%22Latitude%22%3A%2042.27462067181224%2C%20%22Longitude%22%3A%20-71.09372552493369%2C%20%22Name%22%3A%20%22Blue%20Hill%20Ave%20at%20Almont%20St%22%2C%20%22Number%22%3A%20%22C32044%22%2C%20%22Public%22%3A%20%22Yes%22%2C%20%22Total%20docks%22%3A%2019%7D%2C%20%22type%22%3A%20%22Feature%22%7D%2C%20%7B%22bbox%22%3A%20%5B-71.07798628527235%2C%2042.31786020589988%2C%20-71.07798628527235%2C%2042.31786020589988%5D%2C%20%22geometry%22%3A%20%7B%22coordinates%22%3A%20%5B-71.07798628527235%2C%2042.31786020589988%5D%2C%20%22type%22%3A%20%22Point%22%7D%2C%20%22id%22%3A%20%2239%22%2C%20%22properties%22%3A%20%7B%22District%22%3A%20%22Boston%22%2C%20%22Latitude%22%3A%2042.31786020589988%2C%20%22Longitude%22%3A%20-71.07798628527235%2C%20%22Name%22%3A%20%22Blue%20Hill%20Ave%20at%20Southwood%20St%22%2C%20%22Number%22%3A%20%22B32057%22%2C%20%22Public%22%3A%20%22Yes%22%2C%20%22Total%20docks%22%3A%2015%7D%2C%20%22type%22%3A%20%22Feature%22%7D%2C%20%7B%22bbox%22%3A%20%5B-71.057629%2C%2042.35892%2C%20-71.057629%2C%2042.35892%5D%2C%20%22geometry%22%3A%20%7B%22coordinates%22%3A%20%5B-71.057629%2C%2042.35892%5D%2C%20%22type%22%3A%20%22Point%22%7D%2C%20%22id%22%3A%20%2240%22%2C%20%22properties%22%3A%20%7B%22District%22%3A%20%22Boston%22%2C%20%22Latitude%22%3A%2042.35892%2C%20%22Longitude%22%3A%20-71.057629%2C%20%22Name%22%3A%20%22Boston%20City%20Hall%20-%2028%20State%20St%22%2C%20%22Number%22%3A%20%22B32008%22%2C%20%22Public%22%3A%20%22Yes%22%2C%20%22Total%20docks%22%3A%2021%7D%2C%20%22type%22%3A%20%22Feature%22%7D%2C%20%7B%22bbox%22%3A%20%5B-71.0453599691391%2C%2042.347763454147454%2C%20-71.0453599691391%2C%2042.347763454147454%5D%2C%20%22geometry%22%3A%20%7B%22coordinates%22%3A%20%5B-71.0453599691391%2C%2042.347763454147454%5D%2C%20%22type%22%3A%20%22Point%22%7D%2C%20%22id%22%3A%20%2241%22%2C%20%22properties%22%3A%20%7B%22District%22%3A%20%22Boston%22%2C%20%22Latitude%22%3A%2042.347763454147454%2C%20%22Longitude%22%3A%20-71.0453599691391%2C%20%22Name%22%3A%20%22Boston%20Convention%20and%20Exhibition%20Center%20-%20Summer%20St%20at%20West%20Side%20Dr%22%2C%20%22Number%22%3A%20%22D32018%22%2C%20%22Public%22%3A%20%22Yes%22%2C%20%22Total%20docks%22%3A%2023%7D%2C%20%22type%22%3A%20%22Feature%22%7D%2C%20%7B%22bbox%22%3A%20%5B-71.0410200806291%2C%2042.373312125824704%2C%20-71.0410200806291%2C%2042.373312125824704%5D%2C%20%22geometry%22%3A%20%7B%22coordinates%22%3A%20%5B-71.0410200806291%2C%2042.373312125824704%5D%2C%20%22type%22%3A%20%22Point%22%7D%2C%20%22id%22%3A%20%2242%22%2C%20%22properties%22%3A%20%7B%22District%22%3A%20%22Boston%22%2C%20%22Latitude%22%3A%2042.373312125824704%2C%20%22Longitude%22%3A%20-71.0410200806291%2C%20%22Name%22%3A%20%22Boston%20East%20-%20126%20Border%20St%22%2C%20%22Number%22%3A%20%22A32036%22%2C%20%22Public%22%3A%20%22Yes%22%2C%20%22Total%20docks%22%3A%2015%7D%2C%20%22type%22%3A%20%22Feature%22%7D%2C%20%7B%22bbox%22%3A%20%5B-71.14167537549292%2C%2042.35656092308941%2C%20-71.14167537549292%2C%2042.35656092308941%5D%2C%20%22geometry%22%3A%20%7B%22coordinates%22%3A%20%5B-71.14167537549292%2C%2042.35656092308941%5D%2C%20%22type%22%3A%20%22Point%22%7D%2C%20%22id%22%3A%20%2243%22%2C%20%22properties%22%3A%20%7B%22District%22%3A%20%22Boston%22%2C%20%22Latitude%22%3A%2042.35656092308941%2C%20%22Longitude%22%3A%20-71.14167537549292%2C%20%22Name%22%3A%20%22Boston%20Landing%22%2C%20%22Number%22%3A%20%22A32045%22%2C%20%22Public%22%3A%20%22Yes%22%2C%20%22Total%20docks%22%3A%2017%7D%2C%20%22type%22%3A%20%22Feature%22%7D%2C%20%7B%22bbox%22%3A%20%5B-71.07306711393903%2C%2042.33639915372498%2C%20-71.07306711393903%2C%2042.33639915372498%5D%2C%20%22geometry%22%3A%20%7B%22coordinates%22%3A%20%5B-71.07306711393903%2C%2042.33639915372498%5D%2C%20%22type%22%3A%20%22Point%22%7D%2C%20%22id%22%3A%20%2244%22%2C%20%22properties%22%3A%20%7B%22District%22%3A%20%22Boston%22%2C%20%22Latitude%22%3A%2042.33639915372498%2C%20%22Longitude%22%3A%20-71.07306711393903%2C%20%22Name%22%3A%20%22Boston%20Medical%20Center%20-%20E%20Concord%20St%20at%20Harrison%20Ave%22%2C%20%22Number%22%3A%20%22C32002%22%2C%20%22Public%22%3A%20%22Yes%22%2C%20%22Total%20docks%22%3A%2019%7D%2C%20%22type%22%3A%20%22Feature%22%7D%2C%20%7B%22bbox%22%3A%20%5B-71.0573735833168%2C%2042.36254854409333%2C%20-71.0573735833168%2C%2042.36254854409333%5D%2C%20%22geometry%22%3A%20%7B%22coordinates%22%3A%20%5B-71.0573735833168%2C%2042.36254854409333%5D%2C%20%22type%22%3A%20%22Point%22%7D%2C%20%22id%22%3A%20%2245%22%2C%20%22properties%22%3A%20%7B%22District%22%3A%20%22Boston%22%2C%20%22Latitude%22%3A%2042.36254854409333%2C%20%22Longitude%22%3A%20-71.0573735833168%2C%20%22Name%22%3A%20%22Boston%20Public%20Market%22%2C%20%22Number%22%3A%20%22D32044%22%2C%20%22Public%22%3A%20%22Yes%22%2C%20%22Total%20docks%22%3A%2015%7D%2C%20%22type%22%3A%20%22Feature%22%7D%2C%20%7B%22bbox%22%3A%20%5B-71.06512248516083%2C%2042.30785224238503%2C%20-71.06512248516083%2C%2042.30785224238503%5D%2C%20%22geometry%22%3A%20%7B%22coordinates%22%3A%20%5B-71.06512248516083%2C%2042.30785224238503%5D%2C%20%22type%22%3A%20%22Point%22%7D%2C%20%22id%22%3A%20%2246%22%2C%20%22properties%22%3A%20%7B%22District%22%3A%20%22Boston%22%2C%20%22Latitude%22%3A%2042.30785224238503%2C%20%22Longitude%22%3A%20-71.06512248516083%2C%20%22Name%22%3A%20%22Bowdoin%20St%20at%20Quincy%20St%22%2C%20%22Number%22%3A%20%22B32031%22%2C%20%22Public%22%3A%20%22Yes%22%2C%20%22Total%20docks%22%3A%2015%7D%2C%20%22type%22%3A%20%22Feature%22%7D%2C%20%7B%22bbox%22%3A%20%5B-71.06764905172895%2C%2042.35258779507021%2C%20-71.06764905172895%2C%2042.35258779507021%5D%2C%20%22geometry%22%3A%20%7B%22coordinates%22%3A%20%5B-71.06764905172895%2C%2042.35258779507021%5D%2C%20%22type%22%3A%20%22Point%22%7D%2C%20%22id%22%3A%20%2247%22%2C%20%22properties%22%3A%20%7B%22District%22%3A%20%22Boston%22%2C%20%22Latitude%22%3A%2042.35258779507021%2C%20%22Longitude%22%3A%20-71.06764905172895%2C%20%22Name%22%3A%20%22Boylston%20St%20at%20Arlington%20St%22%2C%20%22Number%22%3A%20%22D32007%22%2C%20%22Public%22%3A%20%22Yes%22%2C%20%22Total%20docks%22%3A%2023%7D%2C%20%22type%22%3A%20%22Feature%22%7D%2C%20%7B%22bbox%22%3A%20%5B-71.07329249382019%2C%2042.3511419825475%2C%20-71.07329249382019%2C%2042.3511419825475%5D%2C%20%22geometry%22%3A%20%7B%22coordinates%22%3A%20%5B-71.07329249382019%2C%2042.3511419825475%5D%2C%20%22type%22%3A%20%22Point%22%7D%2C%20%22id%22%3A%20%2248%22%2C%20%22properties%22%3A%20%7B%22District%22%3A%20%22Boston%22%2C%20%22Latitude%22%3A%2042.3511419825475%2C%20%22Longitude%22%3A%20-71.07329249382019%2C%20%22Name%22%3A%20%22Boylston%20St%20at%20Berkeley%20St%22%2C%20%22Number%22%3A%20%22D32013%22%2C%20%22Public%22%3A%20%22Yes%22%2C%20%22Total%20docks%22%3A%200%7D%2C%20%22type%22%3A%20%22Feature%22%7D%2C%20%7B%22bbox%22%3A%20%5B-71.07655%2C%2042.350413%2C%20-71.07655%2C%2042.350413%5D%2C%20%22geometry%22%3A%20%7B%22coordinates%22%3A%20%5B-71.07655%2C%2042.350413%5D%2C%20%22type%22%3A%20%22Point%22%7D%2C%20%22id%22%3A%20%2249%22%2C%20%22properties%22%3A%20%7B%22District%22%3A%20%22Boston%22%2C%20%22Latitude%22%3A%2042.350413%2C%20%22Longitude%22%3A%20-71.07655%2C%20%22Name%22%3A%20%22Boylston%20St%20at%20Dartmouth%20St%22%2C%20%22Number%22%3A%20%22D32027%22%2C%20%22Public%22%3A%20%22Yes%22%2C%20%22Total%20docks%22%3A%2015%7D%2C%20%22type%22%3A%20%22Feature%22%7D%2C%20%7B%22bbox%22%3A%20%5B-71.0794677917329%2C%2042.349589423682445%2C%20-71.0794677917329%2C%2042.349589423682445%5D%2C%20%22geometry%22%3A%20%7B%22coordinates%22%3A%20%5B-71.0794677917329%2C%2042.349589423682445%5D%2C%20%22type%22%3A%20%22Point%22%7D%2C%20%22id%22%3A%20%2250%22%2C%20%22properties%22%3A%20%7B%22District%22%3A%20%22Boston%22%2C%20%22Latitude%22%3A%2042.349589423682445%2C%20%22Longitude%22%3A%20-71.0794677917329%2C%20%22Name%22%3A%20%22Boylston%20St%20at%20Exeter%20St%22%2C%20%22Number%22%3A%20%22D32046%22%2C%20%22Public%22%3A%20%22Yes%22%2C%20%22Total%20docks%22%3A%2019%7D%2C%20%22type%22%3A%20%22Feature%22%7D%2C%20%7B%22bbox%22%3A%20%5B-71.082383%2C%2042.348762%2C%20-71.082383%2C%2042.348762%5D%2C%20%22geometry%22%3A%20%7B%22coordinates%22%3A%20%5B-71.082383%2C%2042.348762%5D%2C%20%22type%22%3A%20%22Point%22%7D%2C%20%22id%22%3A%20%2251%22%2C%20%22properties%22%3A%20%7B%22District%22%3A%20%22Boston%22%2C%20%22Latitude%22%3A%2042.348762%2C%20%22Longitude%22%3A%20-71.082383%2C%20%22Name%22%3A%20%22Boylston%20St%20at%20Fairfield%20St%22%2C%20%22Number%22%3A%20%22C32008%22%2C%20%22Public%22%3A%20%22Yes%22%2C%20%22Total%20docks%22%3A%2019%7D%2C%20%22type%22%3A%20%22Feature%22%7D%2C%20%7B%22bbox%22%3A%20%5B-71.09732501226972%2C%2042.34465062887831%2C%20-71.09732501226972%2C%2042.34465062887831%5D%2C%20%22geometry%22%3A%20%7B%22coordinates%22%3A%20%5B-71.09732501226972%2C%2042.34465062887831%5D%2C%20%22type%22%3A%20%22Point%22%7D%2C%20%22id%22%3A%20%2252%22%2C%20%22properties%22%3A%20%7B%22District%22%3A%20%22Boston%22%2C%20%22Latitude%22%3A%2042.34465062887831%2C%20%22Longitude%22%3A%20-71.09732501226972%2C%20%22Name%22%3A%20%22Boylston%20St%20at%20Jersey%20St%22%2C%20%22Number%22%3A%20%22B32034%22%2C%20%22Public%22%3A%20%22Yes%22%2C%20%22Total%20docks%22%3A%2015%7D%2C%20%22type%22%3A%20%22Feature%22%7D%2C%20%7B%22bbox%22%3A%20%5B-71.088088%2C%2042.347265%2C%20-71.088088%2C%2042.347265%5D%2C%20%22geometry%22%3A%20%7B%22coordinates%22%3A%20%5B-71.088088%2C%2042.347265%5D%2C%20%22type%22%3A%20%22Point%22%7D%2C%20%22id%22%3A%20%2253%22%2C%20%22properties%22%3A%20%7B%22District%22%3A%20%22Boston%22%2C%20%22Latitude%22%3A%2042.347265%2C%20%22Longitude%22%3A%20-71.088088%2C%20%22Name%22%3A%20%22Boylston%20St%20at%20Massachusetts%20Ave%22%2C%20%22Number%22%3A%20%22B32018%22%2C%20%22Public%22%3A%20%22Yes%22%2C%20%22Total%20docks%22%3A%2015%7D%2C%20%22type%22%3A%20%22Feature%22%7D%2C%20%7B%22bbox%22%3A%20%5B-71.10407917767589%2C%2042.33462893055976%2C%20-71.10407917767589%2C%2042.33462893055976%5D%2C%20%22geometry%22%3A%20%7B%22coordinates%22%3A%20%5B-71.10407917767589%2C%2042.33462893055976%5D%2C%20%22type%22%3A%20%22Point%22%7D%2C%20%22id%22%3A%20%2254%22%2C%20%22properties%22%3A%20%7B%22District%22%3A%20%22Boston%22%2C%20%22Latitude%22%3A%2042.33462893055976%2C%20%22Longitude%22%3A%20-71.10407917767589%2C%20%22Name%22%3A%20%22Brigham%20Circle%20-%20Francis%20St%20at%20Huntington%20Ave%22%2C%20%22Number%22%3A%20%22B32013%22%2C%20%22Public%22%3A%20%22Yes%22%2C%20%22Total%20docks%22%3A%2015%7D%2C%20%22type%22%3A%20%22Feature%22%7D%2C%20%7B%22bbox%22%3A%20%5B-71.15027189254761%2C%2042.34894857235593%2C%20-71.15027189254761%2C%2042.34894857235593%5D%2C%20%22geometry%22%3A%20%7B%22coordinates%22%3A%20%5B-71.15027189254761%2C%2042.34894857235593%5D%2C%20%22type%22%3A%20%22Point%22%7D%2C%20%22id%22%3A%20%2255%22%2C%20%22properties%22%3A%20%7B%22District%22%3A%20%22Boston%22%2C%20%22Latitude%22%3A%2042.34894857235593%2C%20%22Longitude%22%3A%20-71.15027189254761%2C%20%22Name%22%3A%20%22Brighton%20Center%20-%20Washington%20St%20at%20Cambridge%20St%22%2C%20%22Number%22%3A%20%22D32028%22%2C%20%22Public%22%3A%20%22Yes%22%2C%20%22Total%20docks%22%3A%2017%7D%2C%20%22type%22%3A%20%22Feature%22%7D%2C%20%7B%22bbox%22%3A%20%5B-71.13776206970215%2C%2042.3615457081725%2C%20-71.13776206970215%2C%2042.3615457081725%5D%2C%20%22geometry%22%3A%20%7B%22coordinates%22%3A%20%5B-71.13776206970215%2C%2042.3615457081725%5D%2C%20%22type%22%3A%20%22Point%22%7D%2C%20%22id%22%3A%20%2256%22%2C%20%22properties%22%3A%20%7B%22District%22%3A%20%22Boston%22%2C%20%22Latitude%22%3A%2042.3615457081725%2C%20%22Longitude%22%3A%20-71.13776206970215%2C%20%22Name%22%3A%20%22Brighton%20Mills%20-%20370%20Western%20Ave%22%2C%20%22Number%22%3A%20%22A32005%22%2C%20%22Public%22%3A%20%22Yes%22%2C%20%22Total%20docks%22%3A%2015%7D%2C%20%22type%22%3A%20%22Feature%22%7D%2C%20%7B%22bbox%22%3A%20%5B-71.06373842814719%2C%2042.39836059620832%2C%20-71.06373842814719%2C%2042.39836059620832%5D%2C%20%22geometry%22%3A%20%7B%22coordinates%22%3A%20%5B-71.06373842814719%2C%2042.39836059620832%5D%2C%20%22type%22%3A%20%22Point%22%7D%2C%20%22id%22%3A%20%2257%22%2C%20%22properties%22%3A%20%7B%22District%22%3A%20%22Everett%22%2C%20%22Latitude%22%3A%2042.39836059620832%2C%20%22Longitude%22%3A%20-71.06373842814719%2C%20%22Name%22%3A%20%22Broadway%20at%20Beacham%20St%22%2C%20%22Number%22%3A%20%22V32011%22%2C%20%22Public%22%3A%20%22Yes%22%2C%20%22Total%20docks%22%3A%2015%7D%2C%20%22type%22%3A%20%22Feature%22%7D%2C%20%7B%22bbox%22%3A%20%5B-71.09850591982195%2C%2042.39517150121575%2C%20-71.09850591982195%2C%2042.39517150121575%5D%2C%20%22geometry%22%3A%20%7B%22coordinates%22%3A%20%5B-71.09850591982195%2C%2042.39517150121575%5D%2C%20%22type%22%3A%20%22Point%22%7D%2C%20%22id%22%3A%20%2258%22%2C%20%22properties%22%3A%20%7B%22District%22%3A%20%22Somerville%22%2C%20%22Latitude%22%3A%2042.39517150121575%2C%20%22Longitude%22%3A%20-71.09850591982195%2C%20%22Name%22%3A%20%22Broadway%20at%20Central%20St%22%2C%20%22Number%22%3A%20%22S32016%22%2C%20%22Public%22%3A%20%22Yes%22%2C%20%22Total%20docks%22%3A%2015%7D%2C%20%22type%22%3A%20%22Feature%22%7D%2C%20%7B%22bbox%22%3A%20%5B-71.06546759905541%2C%2042.39648358247693%2C%20-71.06546759905541%2C%2042.39648358247693%5D%2C%20%22geometry%22%3A%20%7B%22coordinates%22%3A%20%5B-71.06546759905541%2C%2042.39648358247693%5D%2C%20%22type%22%3A%20%22Point%22%7D%2C%20%22id%22%3A%20%2259%22%2C%20%22properties%22%3A%20%7B%22District%22%3A%20%22Everett%22%2C%20%22Latitude%22%3A%2042.39648358247693%2C%20%22Longitude%22%3A%20-71.06546759905541%2C%20%22Name%22%3A%20%22Broadway%20at%20Lynde%20St%22%2C%20%22Number%22%3A%20%22V32004%22%2C%20%22Public%22%3A%20%22Yes%22%2C%20%22Total%20docks%22%3A%2015%7D%2C%20%22type%22%3A%20%22Feature%22%7D%2C%20%7B%22bbox%22%3A%20%5B-71.05260457852637%2C%2042.410346909767846%2C%20-71.05260457852637%2C%2042.410346909767846%5D%2C%20%22geometry%22%3A%20%7B%22coordinates%22%3A%20%5B-71.05260457852637%2C%2042.410346909767846%5D%2C%20%22type%22%3A%20%22Point%22%7D%2C%20%22id%22%3A%20%2260%22%2C%20%22properties%22%3A%20%7B%22District%22%3A%20%22Everett%22%2C%20%22Latitude%22%3A%2042.410346909767846%2C%20%22Longitude%22%3A%20-71.05260457852637%2C%20%22Name%22%3A%20%22Broadway%20at%20Maple%20St%22%2C%20%22Number%22%3A%20%22V32008%22%2C%20%22Public%22%3A%20%22Yes%22%2C%20%22Total%20docks%22%3A%2014%7D%2C%20%22type%22%3A%20%22Feature%22%7D%2C%20%7B%22bbox%22%3A%20%5B-71.07828140258789%2C%2042.38614141163957%2C%20-71.07828140258789%2C%2042.38614141163957%5D%2C%20%22geometry%22%3A%20%7B%22coordinates%22%3A%20%5B-71.07828140258789%2C%2042.38614141163957%5D%2C%20%22type%22%3A%20%22Point%22%7D%2C%20%22id%22%3A%20%2261%22%2C%20%22properties%22%3A%20%7B%22District%22%3A%20%22Somerville%22%2C%20%22Latitude%22%3A%2042.38614141163957%2C%20%22Longitude%22%3A%20-71.07828140258789%2C%20%22Name%22%3A%20%22Broadway%20St%20at%20Mt%20Pleasant%20St%22%2C%20%22Number%22%3A%20%22S32014%22%2C%20%22Public%22%3A%20%22Yes%22%2C%20%22Total%20docks%22%3A%2019%7D%2C%20%22type%22%3A%20%22Feature%22%7D%2C%20%7B%22bbox%22%3A%20%5B-71.05747275072645%2C%2042.34278116224413%2C%20-71.05747275072645%2C%2042.34278116224413%5D%2C%20%22geometry%22%3A%20%7B%22coordinates%22%3A%20%5B-71.05747275072645%2C%2042.34278116224413%5D%2C%20%22type%22%3A%20%22Point%22%7D%2C%20%22id%22%3A%20%2262%22%2C%20%22properties%22%3A%20%7B%22District%22%3A%20%22Boston%22%2C%20%22Latitude%22%3A%2042.34278116224413%2C%20%22Longitude%22%3A%20-71.05747275072645%2C%20%22Name%22%3A%20%22Broadway%20T%20Stop%22%2C%20%22Number%22%3A%20%22C32053%22%2C%20%22Public%22%3A%20%22Yes%22%2C%20%22Total%20docks%22%3A%2015%7D%2C%20%22type%22%3A%20%22Feature%22%7D%2C%20%7B%22bbox%22%3A%20%5B-71.12046446660315%2C%2042.33376472623494%2C%20-71.12046446660315%2C%2042.33376472623494%5D%2C%20%22geometry%22%3A%20%7B%22coordinates%22%3A%20%5B-71.12046446660315%2C%2042.33376472623494%5D%2C%20%22type%22%3A%20%22Point%22%7D%2C%20%22id%22%3A%20%2263%22%2C%20%22properties%22%3A%20%7B%22District%22%3A%20%22Brookline%22%2C%20%22Latitude%22%3A%2042.33376472623494%2C%20%22Longitude%22%3A%20-71.12046446660315%2C%20%22Name%22%3A%20%22Brookline%20Town%20Hall%22%2C%20%22Number%22%3A%20%22K32005%22%2C%20%22Public%22%3A%20%22Yes%22%2C%20%22Total%20docks%22%3A%2015%7D%2C%20%22type%22%3A%20%22Feature%22%7D%2C%20%7B%22bbox%22%3A%20%5B-71.11634425762531%2C%2042.3329989199507%2C%20-71.11634425762531%2C%2042.3329989199507%5D%2C%20%22geometry%22%3A%20%7B%22coordinates%22%3A%20%5B-71.11634425762531%2C%2042.3329989199507%5D%2C%20%22type%22%3A%20%22Point%22%7D%2C%20%22id%22%3A%20%2264%22%2C%20%22properties%22%3A%20%7B%22District%22%3A%20%22Brookline%22%2C%20%22Latitude%22%3A%2042.3329989199507%2C%20%22Longitude%22%3A%20-71.11634425762531%2C%20%22Name%22%3A%20%22Brookline%20Village%20-%20Station%20Street%20at%20MBTA%22%2C%20%22Number%22%3A%20%22K32003%22%2C%20%22Public%22%3A%20%22Yes%22%2C%20%22Total%20docks%22%3A%2015%7D%2C%20%22type%22%3A%20%22Feature%22%7D%2C%20%7B%22bbox%22%3A%20%5B-71.06905996799469%2C%2042.37408991426522%2C%20-71.06905996799469%2C%2042.37408991426522%5D%2C%20%22geometry%22%3A%20%7B%22coordinates%22%3A%20%5B-71.06905996799469%2C%2042.37408991426522%5D%2C%20%22type%22%3A%20%22Point%22%7D%2C%20%22id%22%3A%20%2265%22%2C%20%22properties%22%3A%20%7B%22District%22%3A%20%22Boston%22%2C%20%22Latitude%22%3A%2042.37408991426522%2C%20%22Longitude%22%3A%20-71.06905996799469%2C%20%22Name%22%3A%20%22Bunker%20Hill%20Community%20College%22%2C%20%22Number%22%3A%20%22A32023%22%2C%20%22Public%22%3A%20%22Yes%22%2C%20%22Total%20docks%22%3A%2023%7D%2C%20%22type%22%3A%20%22Feature%22%7D%2C%20%7B%22bbox%22%3A%20%5B-71.100694%2C%2042.345733%2C%20-71.100694%2C%2042.345733%5D%2C%20%22geometry%22%3A%20%7B%22coordinates%22%3A%20%5B-71.100694%2C%2042.345733%5D%2C%20%22type%22%3A%20%22Point%22%7D%2C%20%22id%22%3A%20%2266%22%2C%20%22properties%22%3A%20%7B%22District%22%3A%20%22Boston%22%2C%20%22Latitude%22%3A%2042.345733%2C%20%22Longitude%22%3A%20-71.100694%2C%20%22Name%22%3A%20%22Burlington%20Ave%20at%20Brookline%20Ave%22%2C%20%22Number%22%3A%20%22B32020%22%2C%20%22Public%22%3A%20%22Yes%22%2C%20%22Total%20docks%22%3A%2015%7D%2C%20%22type%22%3A%20%22Feature%22%7D%2C%20%7B%22bbox%22%3A%20%5B-71.09759867191315%2C%2042.37119727759414%2C%20-71.09759867191315%2C%2042.37119727759414%5D%2C%20%22geometry%22%3A%20%7B%22coordinates%22%3A%20%5B-71.09759867191315%2C%2042.37119727759414%5D%2C%20%22type%22%3A%20%22Point%22%7D%2C%20%22id%22%3A%20%2267%22%2C%20%22properties%22%3A%20%7B%22District%22%3A%20%22Cambridge%22%2C%20%22Latitude%22%3A%2042.37119727759414%2C%20%22Longitude%22%3A%20-71.09759867191315%2C%20%22Name%22%3A%20%22Cambridge%20Dept.%20of%20Public%20Works%20-147%20Hampshire%20St.%22%2C%20%22Number%22%3A%20%22M32052%22%2C%20%22Public%22%3A%20%22Yes%22%2C%20%22Total%20docks%22%3A%2019%7D%2C%20%22type%22%3A%20%22Feature%22%7D%2C%20%7B%22bbox%22%3A%20%5B-71.111075%2C%2042.373379%2C%20-71.111075%2C%2042.373379%5D%2C%20%22geometry%22%3A%20%7B%22coordinates%22%3A%20%5B-71.111075%2C%2042.373379%5D%2C%20%22type%22%3A%20%22Point%22%7D%2C%20%22id%22%3A%20%2268%22%2C%20%22properties%22%3A%20%7B%22District%22%3A%20%22Cambridge%22%2C%20%22Latitude%22%3A%2042.373379%2C%20%22Longitude%22%3A%20-71.111075%2C%20%22Name%22%3A%20%22Cambridge%20Main%20Library%20at%20Broadway%20/%20Trowbridge%20St%22%2C%20%22Number%22%3A%20%22M32013%22%2C%20%22Public%22%3A%20%22Yes%22%2C%20%22Total%20docks%22%3A%2019%7D%2C%20%22type%22%3A%20%22Feature%22%7D%2C%20%7B%22bbox%22%3A%20%5B-71.094445%2C%2042.372969%2C%20-71.094445%2C%2042.372969%5D%2C%20%22geometry%22%3A%20%7B%22coordinates%22%3A%20%5B-71.094445%2C%2042.372969%5D%2C%20%22type%22%3A%20%22Point%22%7D%2C%20%22id%22%3A%20%2269%22%2C%20%22properties%22%3A%20%7B%22District%22%3A%20%22Cambridge%22%2C%20%22Latitude%22%3A%2042.372969%2C%20%22Longitude%22%3A%20-71.094445%2C%20%22Name%22%3A%20%22Cambridge%20St%20-%20at%20Columbia%20St%20/%20Webster%20Ave%22%2C%20%22Number%22%3A%20%22M32007%22%2C%20%22Public%22%3A%20%22Yes%22%2C%20%22Total%20docks%22%3A%2015%7D%2C%20%22type%22%3A%20%22Feature%22%7D%2C%20%7B%22bbox%22%3A%20%5B-71.06530619789737%2C%2042.36121165307985%2C%20-71.06530619789737%2C%2042.36121165307985%5D%2C%20%22geometry%22%3A%20%7B%22coordinates%22%3A%20%5B-71.06530619789737%2C%2042.36121165307985%5D%2C%20%22type%22%3A%20%22Point%22%7D%2C%20%22id%22%3A%20%2270%22%2C%20%22properties%22%3A%20%7B%22District%22%3A%20%22Boston%22%2C%20%22Latitude%22%3A%2042.36121165307985%2C%20%22Longitude%22%3A%20-71.06530619789737%2C%20%22Name%22%3A%20%22Cambridge%20St%20at%20Joy%20St%22%2C%20%22Number%22%3A%20%22D32000%22%2C%20%22Public%22%3A%20%22Yes%22%2C%20%22Total%20docks%22%3A%2015%7D%2C%20%22type%22%3A%20%22Feature%22%7D%2C%20%7B%22bbox%22%3A%20%5B-71.076472%2C%2042.366981%2C%20-71.076472%2C%2042.366981%5D%2C%20%22geometry%22%3A%20%7B%22coordinates%22%3A%20%5B-71.076472%2C%2042.366981%5D%2C%20%22type%22%3A%20%22Point%22%7D%2C%20%22id%22%3A%20%2271%22%2C%20%22properties%22%3A%20%7B%22District%22%3A%20%22Cambridge%22%2C%20%22Latitude%22%3A%2042.366981%2C%20%22Longitude%22%3A%20-71.076472%2C%20%22Name%22%3A%20%22CambridgeSide%20Galleria%20-%20CambridgeSide%20PL%20at%20Land%20Blvd%22%2C%20%22Number%22%3A%20%22M32019%22%2C%20%22Public%22%3A%20%22Yes%22%2C%20%22Total%20docks%22%3A%2015%7D%2C%20%22type%22%3A%20%22Feature%22%7D%2C%20%7B%22bbox%22%3A%20%5B-71.07337901405117%2C%2042.27094707029229%2C%20-71.07337901405117%2C%2042.27094707029229%5D%2C%20%22geometry%22%3A%20%7B%22coordinates%22%3A%20%5B-71.07337901405117%2C%2042.27094707029229%5D%2C%20%22type%22%3A%20%22Point%22%7D%2C%20%22id%22%3A%20%2272%22%2C%20%22properties%22%3A%20%7B%22District%22%3A%20%22Boston%22%2C%20%22Latitude%22%3A%2042.27094707029229%2C%20%22Longitude%22%3A%20-71.07337901405117%2C%20%22Name%22%3A%20%22Central%20Ave%20at%20River%20St%22%2C%20%22Number%22%3A%20%22C32088%22%2C%20%22Public%22%3A%20%22Yes%22%2C%20%22Total%20docks%22%3A%2015%7D%2C%20%22type%22%3A%20%22Feature%22%7D%2C%20%7B%22bbox%22%3A%20%5B-71.105495%2C%2042.366426%2C%20-71.105495%2C%2042.366426%5D%2C%20%22geometry%22%3A%20%7B%22coordinates%22%3A%20%5B-71.105495%2C%2042.366426%5D%2C%20%22type%22%3A%20%22Point%22%7D%2C%20%22id%22%3A%20%2273%22%2C%20%22properties%22%3A%20%7B%22District%22%3A%20%22Cambridge%22%2C%20%22Latitude%22%3A%2042.366426%2C%20%22Longitude%22%3A%20-71.105495%2C%20%22Name%22%3A%20%22Central%20Sq%20Post%20Office%20/%20Cambridge%20City%20Hall%20at%20Mass%20Ave%20/%20Pleasant%20St%22%2C%20%22Number%22%3A%20%22M32012%22%2C%20%22Public%22%3A%20%22Yes%22%2C%20%22Total%20docks%22%3A%2017%7D%2C%20%22type%22%3A%20%22Feature%22%7D%2C%20%7B%22bbox%22%3A%20%5B-71.1031%2C%2042.36507%2C%20-71.1031%2C%2042.36507%5D%2C%20%22geometry%22%3A%20%7B%22coordinates%22%3A%20%5B-71.1031%2C%2042.36507%5D%2C%20%22type%22%3A%20%22Point%22%7D%2C%20%22id%22%3A%20%2274%22%2C%20%22properties%22%3A%20%7B%22District%22%3A%20%22Cambridge%22%2C%20%22Latitude%22%3A%2042.36507%2C%20%22Longitude%22%3A%20-71.1031%2C%20%22Name%22%3A%20%22Central%20Square%20at%20Mass%20Ave%20/%20Essex%20St%22%2C%20%22Number%22%3A%20%22M32011%22%2C%20%22Public%22%3A%20%22Yes%22%2C%20%22Total%20docks%22%3A%2019%7D%2C%20%22type%22%3A%20%22Feature%22%7D%2C%20%7B%22bbox%22%3A%20%5B-71.03918548682486%2C%2042.37544912547037%2C%20-71.03918548682486%2C%2042.37544912547037%5D%2C%20%22geometry%22%3A%20%7B%22coordinates%22%3A%20%5B-71.03918548682486%2C%2042.37544912547037%5D%2C%20%22type%22%3A%20%22Point%22%7D%2C%20%22id%22%3A%20%2275%22%2C%20%22properties%22%3A%20%7B%22District%22%3A%20%22Boston%22%2C%20%22Latitude%22%3A%2042.37544912547037%2C%20%22Longitude%22%3A%20-71.03918548682486%2C%20%22Name%22%3A%20%22Central%20Square%20East%20Boston%22%2C%20%22Number%22%3A%20%22A32041%22%2C%20%22Public%22%3A%20%22Yes%22%2C%20%22Total%20docks%22%3A%2015%7D%2C%20%22type%22%3A%20%22Feature%22%7D%2C%20%7B%22bbox%22%3A%20%5B-71.15728851416861%2C%2042.28277901074054%2C%20-71.15728851416861%2C%2042.28277901074054%5D%2C%20%22geometry%22%3A%20%7B%22coordinates%22%3A%20%5B-71.15728851416861%2C%2042.28277901074054%5D%2C%20%22type%22%3A%20%22Point%22%7D%2C%20%22id%22%3A%20%2276%22%2C%20%22properties%22%3A%20%7B%22District%22%3A%20%22Boston%22%2C%20%22Latitude%22%3A%2042.28277901074054%2C%20%22Longitude%22%3A%20-71.15728851416861%2C%20%22Name%22%3A%20%22Centre%20St%20at%20Parkway%20YMCA%22%2C%20%22Number%22%3A%20%22C32086%22%2C%20%22Public%22%3A%20%22Yes%22%2C%20%22Total%20docks%22%3A%2019%7D%2C%20%22type%22%3A%20%22Feature%22%7D%2C%20%7B%22bbox%22%3A%20%5B-71.1142981%2C%2042.3121203%2C%20-71.1142981%2C%2042.3121203%5D%2C%20%22geometry%22%3A%20%7B%22coordinates%22%3A%20%5B-71.1142981%2C%2042.3121203%5D%2C%20%22type%22%3A%20%22Point%22%7D%2C%20%22id%22%3A%20%2277%22%2C%20%22properties%22%3A%20%7B%22District%22%3A%20%22Boston%22%2C%20%22Latitude%22%3A%2042.3121203%2C%20%22Longitude%22%3A%20-71.1142981%2C%20%22Name%22%3A%20%22Centre%20St%20at%20Seaverns%20Ave%22%2C%20%22Number%22%3A%20%22E32008%22%2C%20%22Public%22%3A%20%22Yes%22%2C%20%22Total%20docks%22%3A%2015%7D%2C%20%22type%22%3A%20%22Feature%22%7D%2C%20%7B%22bbox%22%3A%20%5B-71.15344755369732%2C%2042.28633199112775%2C%20-71.15344755369732%2C%2042.28633199112775%5D%2C%20%22geometry%22%3A%20%7B%22coordinates%22%3A%20%5B-71.15344755369732%2C%2042.28633199112775%5D%2C%20%22type%22%3A%20%22Point%22%7D%2C%20%22id%22%3A%20%2278%22%2C%20%22properties%22%3A%20%7B%22District%22%3A%20%22Boston%22%2C%20%22Latitude%22%3A%2042.28633199112775%2C%20%22Longitude%22%3A%20-71.15344755369732%2C%20%22Name%22%3A%20%22Centre%20St%20at%20W.%20Roxbury%20Post%20Office%22%2C%20%22Number%22%3A%20%22C32085%22%2C%20%22Public%22%3A%20%22Yes%22%2C%20%22Total%20docks%22%3A%2019%7D%2C%20%22type%22%3A%20%22Feature%22%7D%2C%20%7B%22bbox%22%3A%20%5B-71.07118962337152%2C%2042.36079296858265%2C%20-71.07118962337152%2C%2042.36079296858265%5D%2C%20%22geometry%22%3A%20%7B%22coordinates%22%3A%20%5B-71.07118962337152%2C%2042.36079296858265%5D%2C%20%22type%22%3A%20%22Point%22%7D%2C%20%22id%22%3A%20%2279%22%2C%20%22properties%22%3A%20%7B%22District%22%3A%20%22Boston%22%2C%20%22Latitude%22%3A%2042.36079296858265%2C%20%22Longitude%22%3A%20-71.07118962337152%2C%20%22Name%22%3A%20%22Charles%20Circle%20-%20Charles%20St%20at%20Cambridge%20St%22%2C%20%22Number%22%3A%20%22D32016%22%2C%20%22Public%22%3A%20%22Yes%22%2C%20%22Total%20docks%22%3A%2019%7D%2C%20%22type%22%3A%20%22Feature%22%7D%2C%20%7B%22bbox%22%3A%20%5B-71.07079532006537%2C%2042.35872530462163%2C%20-71.07079532006537%2C%2042.35872530462163%5D%2C%20%22geometry%22%3A%20%7B%22coordinates%22%3A%20%5B-71.07079532006537%2C%2042.35872530462163%5D%2C%20%22type%22%3A%20%22Point%22%7D%2C%20%22id%22%3A%20%2280%22%2C%20%22properties%22%3A%20%7B%22District%22%3A%20%22Boston%22%2C%20%22Latitude%22%3A%2042.35872530462163%2C%20%22Longitude%22%3A%20-71.07079532006537%2C%20%22Name%22%3A%20%22Charles%20St%20at%20Pinckney%20St%22%2C%20%22Number%22%3A%20%22D32051%22%2C%20%22Public%22%3A%20%22Yes%22%2C%20%22Total%20docks%22%3A%2015%7D%2C%20%22type%22%3A%20%22Feature%22%7D%2C%20%7B%22bbox%22%3A%20%5B-71.05481199938367%2C%2042.374124549426526%2C%20-71.05481199938367%2C%2042.374124549426526%5D%2C%20%22geometry%22%3A%20%7B%22coordinates%22%3A%20%5B-71.05481199938367%2C%2042.374124549426526%5D%2C%20%22type%22%3A%20%22Point%22%7D%2C%20%22id%22%3A%20%2281%22%2C%20%22properties%22%3A%20%7B%22District%22%3A%20%22Boston%22%2C%20%22Latitude%22%3A%2042.374124549426526%2C%20%22Longitude%22%3A%20-71.05481199938367%2C%20%22Name%22%3A%20%22Charlestown%20Navy%20Yard%22%2C%20%22Number%22%3A%20%22D32039%22%2C%20%22Public%22%3A%20%22Yes%22%2C%20%22Total%20docks%22%3A%2023%7D%2C%20%22type%22%3A%20%22Feature%22%7D%2C%20%7B%22bbox%22%3A%20%5B-71.027448%2C%2042.379772%2C%20-71.027448%2C%2042.379772%5D%2C%20%22geometry%22%3A%20%7B%22coordinates%22%3A%20%5B-71.027448%2C%2042.379772%5D%2C%20%22type%22%3A%20%22Point%22%7D%2C%20%22id%22%3A%20%2282%22%2C%20%22properties%22%3A%20%7B%22District%22%3A%20%22Boston%22%2C%20%22Latitude%22%3A%2042.379772%2C%20%22Longitude%22%3A%20-71.027448%2C%20%22Name%22%3A%20%22Chelsea%20St%20at%20Saratoga%20St%22%2C%20%22Number%22%3A%20%22A32027%22%2C%20%22Public%22%3A%20%22Yes%22%2C%20%22Total%20docks%22%3A%2015%7D%2C%20%22type%22%3A%20%22Feature%22%7D%2C%20%7B%22bbox%22%3A%20%5B-71.04762639859473%2C%2042.40328056972533%2C%20-71.04762639859473%2C%2042.40328056972533%5D%2C%20%22geometry%22%3A%20%7B%22coordinates%22%3A%20%5B-71.04762639859473%2C%2042.40328056972533%5D%2C%20%22type%22%3A%20%22Point%22%7D%2C%20%22id%22%3A%20%2283%22%2C%20%22properties%22%3A%20%7B%22District%22%3A%20%22Everett%22%2C%20%22Latitude%22%3A%2042.40328056972533%2C%20%22Longitude%22%3A%20-71.04762639859473%2C%20%22Name%22%3A%20%22Chelsea%20St%20at%20Vine%20St%22%2C%20%22Number%22%3A%20%22V32009%22%2C%20%22Public%22%3A%20%22Yes%22%2C%20%22Total%20docks%22%3A%2015%7D%2C%20%22type%22%3A%20%22Feature%22%7D%2C%20%7B%22bbox%22%3A%20%5B-71.07249312120985%2C%2042.37150494100319%2C%20-71.07249312120985%2C%2042.37150494100319%5D%2C%20%22geometry%22%3A%20%7B%22coordinates%22%3A%20%5B-71.07249312120985%2C%2042.37150494100319%5D%2C%20%22type%22%3A%20%22Point%22%7D%2C%20%22id%22%3A%20%2284%22%2C%20%22properties%22%3A%20%7B%22District%22%3A%20%22Cambridge%22%2C%20%22Latitude%22%3A%2042.37150494100319%2C%20%22Longitude%22%3A%20-71.07249312120985%2C%20%22Name%22%3A%20%22Child%20St%20at%20North%20St%22%2C%20%22Number%22%3A%20%22M32049%22%2C%20%22Public%22%3A%20%22Yes%22%2C%20%22Total%20docks%22%3A%2023%7D%2C%20%22type%22%3A%20%22Feature%22%7D%2C%20%7B%22bbox%22%3A%20%5B-71.059367%2C%2042.351356%2C%20-71.059367%2C%2042.351356%5D%2C%20%22geometry%22%3A%20%7B%22coordinates%22%3A%20%5B-71.059367%2C%2042.351356%5D%2C%20%22type%22%3A%20%22Point%22%7D%2C%20%22id%22%3A%20%2285%22%2C%20%22properties%22%3A%20%7B%22District%22%3A%20%22Boston%22%2C%20%22Latitude%22%3A%2042.351356%2C%20%22Longitude%22%3A%20-71.059367%2C%20%22Name%22%3A%20%22Chinatown%20Gate%20Plaza%22%2C%20%22Number%22%3A%20%22D32015%22%2C%20%22Public%22%3A%20%22Yes%22%2C%20%22Total%20docks%22%3A%2019%7D%2C%20%22type%22%3A%20%22Feature%22%7D%2C%20%7B%22bbox%22%3A%20%5B-71.062679%2C%2042.352409%2C%20-71.062679%2C%2042.352409%5D%2C%20%22geometry%22%3A%20%7B%22coordinates%22%3A%20%5B-71.062679%2C%2042.352409%5D%2C%20%22type%22%3A%20%22Point%22%7D%2C%20%22id%22%3A%20%2286%22%2C%20%22properties%22%3A%20%7B%22District%22%3A%20%22Boston%22%2C%20%22Latitude%22%3A%2042.352409%2C%20%22Longitude%22%3A%20-71.062679%2C%20%22Name%22%3A%20%22Chinatown%20T%20Stop%22%2C%20%22Number%22%3A%20%22D32019%22%2C%20%22Public%22%3A%20%22Yes%22%2C%20%22Total%20docks%22%3A%2019%7D%2C%20%22type%22%3A%20%22Feature%22%7D%2C%20%7B%22bbox%22%3A%20%5B-71.08582377433777%2C%2042.3436658245146%2C%20-71.08582377433777%2C%2042.3436658245146%5D%2C%20%22geometry%22%3A%20%7B%22coordinates%22%3A%20%5B-71.08582377433777%2C%2042.3436658245146%5D%2C%20%22type%22%3A%20%22Point%22%7D%2C%20%22id%22%3A%20%2287%22%2C%20%22properties%22%3A%20%7B%22District%22%3A%20%22Boston%22%2C%20%22Latitude%22%3A%2042.3436658245146%2C%20%22Longitude%22%3A%20-71.08582377433777%2C%20%22Name%22%3A%20%22Christian%20Science%20Plaza%20-%20Massachusetts%20Ave%20at%20Westland%20Ave%22%2C%20%22Number%22%3A%20%22B32005%22%2C%20%22Public%22%3A%20%22Yes%22%2C%20%22Total%20docks%22%3A%2019%7D%2C%20%22type%22%3A%20%22Feature%22%7D%2C%20%7B%22bbox%22%3A%20%5B-71.132446%2C%2042.406302%2C%20-71.132446%2C%2042.406302%5D%2C%20%22geometry%22%3A%20%7B%22coordinates%22%3A%20%5B-71.132446%2C%2042.406302%5D%2C%20%22type%22%3A%20%22Point%22%7D%2C%20%22id%22%3A%20%2288%22%2C%20%22properties%22%3A%20%7B%22District%22%3A%20%22Somerville%22%2C%20%22Latitude%22%3A%2042.406302%2C%20%22Longitude%22%3A%20-71.132446%2C%20%22Name%22%3A%20%22Clarendon%20Hill%20at%20Broadway%22%2C%20%22Number%22%3A%20%22S32010%22%2C%20%22Public%22%3A%20%22Yes%22%2C%20%22Total%20docks%22%3A%2015%7D%2C%20%22type%22%3A%20%22Feature%22%7D%2C%20%7B%22bbox%22%3A%20%5B-71.0756903143556%2C%2042.35155308466532%2C%20-71.0756903143556%2C%2042.35155308466532%5D%2C%20%22geometry%22%3A%20%7B%22coordinates%22%3A%20%5B-71.0756903143556%2C%2042.35155308466532%5D%2C%20%22type%22%3A%20%22Point%22%7D%2C%20%22id%22%3A%20%2289%22%2C%20%22properties%22%3A%20%7B%22District%22%3A%20%22Boston%22%2C%20%22Latitude%22%3A%2042.35155308466532%2C%20%22Longitude%22%3A%20-71.0756903143556%2C%20%22Name%22%3A%20%22Clarendon%20St%20at%20Newbury%20St%22%2C%20%22Number%22%3A%20%22D32047%22%2C%20%22Public%22%3A%20%22Yes%22%2C%20%22Total%20docks%22%3A%2019%7D%2C%20%22type%22%3A%20%22Feature%22%7D%2C%20%7B%22bbox%22%3A%20%5B-71.15061519672052%2C%2042.335543083570826%2C%20-71.15061519672052%2C%2042.335543083570826%5D%2C%20%22geometry%22%3A%20%7B%22coordinates%22%3A%20%5B-71.15061519672052%2C%2042.335543083570826%5D%2C%20%22type%22%3A%20%22Point%22%7D%2C%20%22id%22%3A%20%2290%22%2C%20%22properties%22%3A%20%7B%22District%22%3A%20%22Boston%22%2C%20%22Latitude%22%3A%2042.335543083570826%2C%20%22Longitude%22%3A%20-71.15061519672052%2C%20%22Name%22%3A%20%22Cleveland%20Circle%22%2C%20%22Number%22%3A%20%22B32035%22%2C%20%22Public%22%3A%20%22Yes%22%2C%20%22Total%20docks%22%3A%2015%7D%2C%20%22type%22%3A%20%22Feature%22%7D%2C%20%7B%22bbox%22%3A%20%5B-71.071111%2C%2042.2873611%2C%20-71.071111%2C%2042.2873611%5D%2C%20%22geometry%22%3A%20%7B%22coordinates%22%3A%20%5B-71.071111%2C%2042.2873611%5D%2C%20%22type%22%3A%20%22Point%22%7D%2C%20%22id%22%3A%20%2291%22%2C%20%22properties%22%3A%20%7B%22District%22%3A%20%22Boston%22%2C%20%22Latitude%22%3A%2042.2873611%2C%20%22Longitude%22%3A%20-71.071111%2C%20%22Name%22%3A%20%22Codman%20Square%20Library%22%2C%20%22Number%22%3A%20%22C32055%22%2C%20%22Public%22%3A%20%22Yes%22%2C%20%22Total%20docks%22%3A%2017%7D%2C%20%22type%22%3A%20%22Feature%22%7D%2C%20%7B%22bbox%22%3A%20%5B-71.10061883926392%2C%2042.34011512249236%2C%20-71.10061883926392%2C%2042.34011512249236%5D%2C%20%22geometry%22%3A%20%7B%22coordinates%22%3A%20%5B-71.10061883926392%2C%2042.34011512249236%5D%2C%20%22type%22%3A%20%22Point%22%7D%2C%20%22id%22%3A%20%2292%22%2C%20%22properties%22%3A%20%7B%22District%22%3A%20%22Boston%22%2C%20%22Latitude%22%3A%2042.34011512249236%2C%20%22Longitude%22%3A%20-71.10061883926392%2C%20%22Name%22%3A%20%22Colleges%20of%20the%20Fenway%20-%20Fenway%20at%20Avenue%20Louis%20Pasteur%22%2C%20%22Number%22%3A%20%22B32006%22%2C%20%22Public%22%3A%20%22Yes%22%2C%20%22Total%20docks%22%3A%2015%7D%2C%20%22type%22%3A%20%22Feature%22%7D%2C%20%7B%22bbox%22%3A%20%5B-71.0729%2C%2042.309572%2C%20-71.0729%2C%2042.309572%5D%2C%20%22geometry%22%3A%20%7B%22coordinates%22%3A%20%5B-71.0729%2C%2042.309572%5D%2C%20%22type%22%3A%20%22Point%22%7D%2C%20%22id%22%3A%20%2293%22%2C%20%22properties%22%3A%20%7B%22District%22%3A%20%22Boston%22%2C%20%22Latitude%22%3A%2042.309572%2C%20%22Longitude%22%3A%20-71.0729%2C%20%22Name%22%3A%20%22Columbia%20Rd%20at%20Ceylon%20St%22%2C%20%22Number%22%3A%20%22B32029%22%2C%20%22Public%22%3A%20%22Yes%22%2C%20%22Total%20docks%22%3A%2015%7D%2C%20%22type%22%3A%20%22Feature%22%7D%2C%20%7B%22bbox%22%3A%20%5B-71.05060093123029%2C%2042.33023070528729%2C%20-71.05060093123029%2C%2042.33023070528729%5D%2C%20%22geometry%22%3A%20%7B%22coordinates%22%3A%20%5B-71.05060093123029%2C%2042.33023070528729%5D%2C%20%22type%22%3A%20%22Point%22%7D%2C%20%22id%22%3A%20%2294%22%2C%20%22properties%22%3A%20%7B%22District%22%3A%20%22Boston%22%2C%20%22Latitude%22%3A%2042.33023070528729%2C%20%22Longitude%22%3A%20-71.05060093123029%2C%20%22Name%22%3A%20%22Columbia%20Rd%20at%20Tierney%20Community%20Center%22%2C%20%22Number%22%3A%20%22C32052%22%2C%20%22Public%22%3A%20%22Yes%22%2C%20%22Total%20docks%22%3A%2019%7D%2C%20%22type%22%3A%20%22Feature%22%7D%2C%20%7B%22bbox%22%3A%20%5B-71.08138847914233%2C%2042.34054261551636%2C%20-71.08138847914233%2C%2042.34054261551636%5D%2C%20%22geometry%22%3A%20%7B%22coordinates%22%3A%20%5B-71.08138847914233%2C%2042.34054261551636%5D%2C%20%22type%22%3A%20%22Point%22%7D%2C%20%22id%22%3A%20%2295%22%2C%20%22properties%22%3A%20%7B%22District%22%3A%20%22Boston%22%2C%20%22Latitude%22%3A%2042.34054261551636%2C%20%22Longitude%22%3A%20-71.08138847914233%2C%20%22Name%22%3A%20%22Columbus%20Ave%20at%20Massachusetts%20Ave%22%2C%20%22Number%22%3A%20%22C32004%22%2C%20%22Public%22%3A%20%22Yes%22%2C%20%22Total%20docks%22%3A%2014%7D%2C%20%22type%22%3A%20%22Feature%22%7D%2C%20%7B%22bbox%22%3A%20%5B-71.07648162175792%2C%2042.34474224772802%2C%20-71.07648162175792%2C%2042.34474224772802%5D%2C%20%22geometry%22%3A%20%7B%22coordinates%22%3A%20%5B-71.07648162175792%2C%2042.34474224772802%5D%2C%20%22type%22%3A%20%22Point%22%7D%2C%20%22id%22%3A%20%2296%22%2C%20%22properties%22%3A%20%7B%22District%22%3A%20%22Boston%22%2C%20%22Latitude%22%3A%2042.34474224772802%2C%20%22Longitude%22%3A%20-71.07648162175792%2C%20%22Name%22%3A%20%22Columbus%20Ave%20at%20W.%20Canton%20St%22%2C%20%22Number%22%3A%20%22C32077%22%2C%20%22Public%22%3A%20%22Yes%22%2C%20%22Total%20docks%22%3A%2019%7D%2C%20%22type%22%3A%20%22Feature%22%7D%2C%20%7B%22bbox%22%3A%20%5B-71.11903488636017%2C%2042.35169201885973%2C%20-71.11903488636017%2C%2042.35169201885973%5D%2C%20%22geometry%22%3A%20%7B%22coordinates%22%3A%20%5B-71.11903488636017%2C%2042.35169201885973%5D%2C%20%22type%22%3A%20%22Point%22%7D%2C%20%22id%22%3A%20%2297%22%2C%20%22properties%22%3A%20%7B%22District%22%3A%20%22Boston%22%2C%20%22Latitude%22%3A%2042.35169201885973%2C%20%22Longitude%22%3A%20-71.11903488636017%2C%20%22Name%22%3A%20%22Commonwealth%20Ave%20at%20Agganis%20Way%22%2C%20%22Number%22%3A%20%22A32002%22%2C%20%22Public%22%3A%20%22Yes%22%2C%20%22Total%20docks%22%3A%2015%7D%2C%20%22type%22%3A%20%22Feature%22%7D%2C%20%7B%22bbox%22%3A%20%5B-71.12126246094704%2C%2042.35154734791375%2C%20-71.12126246094704%2C%2042.35154734791375%5D%2C%20%22geometry%22%3A%20%7B%22coordinates%22%3A%20%5B-71.12126246094704%2C%2042.35154734791375%5D%2C%20%22type%22%3A%20%22Point%22%7D%2C%20%22id%22%3A%20%2298%22%2C%20%22properties%22%3A%20%7B%22District%22%3A%20%22Brookline%22%2C%20%22Latitude%22%3A%2042.35154734791375%2C%20%22Longitude%22%3A%20-71.12126246094704%2C%20%22Name%22%3A%20%22Commonwealth%20Ave%20At%20Babcock%20St%22%2C%20%22Number%22%3A%20%22K32006%22%2C%20%22Public%22%3A%20%22Yes%22%2C%20%22Total%20docks%22%3A%2015%7D%2C%20%22type%22%3A%20%22Feature%22%7D%2C%20%7B%22bbox%22%3A%20%5B-71.15168806174552%2C%2042.34024644768889%2C%20-71.15168806174552%2C%2042.34024644768889%5D%2C%20%22geometry%22%3A%20%7B%22coordinates%22%3A%20%5B-71.15168806174552%2C%2042.34024644768889%5D%2C%20%22type%22%3A%20%22Point%22%7D%2C%20%22id%22%3A%20%2299%22%2C%20%22properties%22%3A%20%7B%22District%22%3A%20%22Boston%22%2C%20%22Latitude%22%3A%2042.34024644768889%2C%20%22Longitude%22%3A%20-71.15168806174552%2C%20%22Name%22%3A%20%22Commonwealth%20Ave%20at%20Chiswick%20Rd%22%2C%20%22Number%22%3A%20%22D32033%22%2C%20%22Public%22%3A%20%22Yes%22%2C%20%22Total%20docks%22%3A%2019%7D%2C%20%22type%22%3A%20%22Feature%22%7D%2C%20%7B%22bbox%22%3A%20%5B-71.13997217276847%2C%2042.348358628170445%2C%20-71.13997217276847%2C%2042.348358628170445%5D%2C%20%22geometry%22%3A%20%7B%22coordinates%22%3A%20%5B-71.13997217276847%2C%2042.348358628170445%5D%2C%20%22type%22%3A%20%22Point%22%7D%2C%20%22id%22%3A%20%22100%22%2C%20%22properties%22%3A%20%7B%22District%22%3A%20%22Boston%22%2C%20%22Latitude%22%3A%2042.348358628170445%2C%20%22Longitude%22%3A%20-71.13997217276847%2C%20%22Name%22%3A%20%22Commonwealth%20Ave%20at%20Kelton%20St%22%2C%20%22Number%22%3A%20%22D32034%22%2C%20%22Public%22%3A%20%22Yes%22%2C%20%22Total%20docks%22%3A%2015%7D%2C%20%22type%22%3A%20%22Feature%22%7D%2C%20%7B%22bbox%22%3A%20%5B-71.11133694648743%2C%2042.39407223665884%2C%20-71.11133694648743%2C%2042.39407223665884%5D%2C%20%22geometry%22%3A%20%7B%22coordinates%22%3A%20%5B-71.11133694648743%2C%2042.39407223665884%5D%2C%20%22type%22%3A%20%22Point%22%7D%2C%20%22id%22%3A%20%22101%22%2C%20%22properties%22%3A%20%7B%22District%22%3A%20%22Somerville%22%2C%20%22Latitude%22%3A%2042.39407223665884%2C%20%22Longitude%22%3A%20-71.11133694648743%2C%20%22Name%22%3A%20%22Community%20Path%20at%20Cedar%20Street%22%2C%20%22Number%22%3A%20%22S32022%22%2C%20%22Public%22%3A%20%22Yes%22%2C%20%22Total%20docks%22%3A%2015%7D%2C%20%22type%22%3A%20%22Feature%22%7D%2C%20%7B%22bbox%22%3A%20%5B-71.05752243543975%2C%2042.36041774637169%2C%20-71.05752243543975%2C%2042.36041774637169%5D%2C%20%22geometry%22%3A%20%7B%22coordinates%22%3A%20%5B-71.05752243543975%2C%2042.36041774637169%5D%2C%20%22type%22%3A%20%22Point%22%7D%2C%20%22id%22%3A%20%22102%22%2C%20%22properties%22%3A%20%7B%22District%22%3A%20%22Boston%22%2C%20%22Latitude%22%3A%2042.36041774637169%2C%20%22Longitude%22%3A%20-71.05752243543975%2C%20%22Name%22%3A%20%22Congress%20St%20at%20North%20St%22%2C%20%22Number%22%3A%20%22D32009%22%2C%20%22Public%22%3A%20%22Yes%22%2C%20%22Total%20docks%22%3A%2023%7D%2C%20%22type%22%3A%20%22Feature%22%7D%2C%20%7B%22bbox%22%3A%20%5B-71.03764%2C%2042.3481%2C%20-71.03764%2C%2042.3481%5D%2C%20%22geometry%22%3A%20%7B%22coordinates%22%3A%20%5B-71.03764%2C%2042.3481%5D%2C%20%22type%22%3A%20%22Point%22%7D%2C%20%22id%22%3A%20%22103%22%2C%20%22properties%22%3A%20%7B%22District%22%3A%20%22Boston%22%2C%20%22Latitude%22%3A%2042.3481%2C%20%22Longitude%22%3A%20-71.03764%2C%20%22Name%22%3A%20%22Congress%20St%20at%20Northern%20Ave%22%2C%20%22Number%22%3A%20%22C32032%22%2C%20%22Public%22%3A%20%22Yes%22%2C%20%22Total%20docks%22%3A%2015%7D%2C%20%22type%22%3A%20%22Feature%22%7D%2C%20%7B%22bbox%22%3A%20%5B-71.04930013418198%2C%2042.351004495946704%2C%20-71.04930013418198%2C%2042.351004495946704%5D%2C%20%22geometry%22%3A%20%7B%22coordinates%22%3A%20%5B-71.04930013418198%2C%2042.351004495946704%5D%2C%20%22type%22%3A%20%22Point%22%7D%2C%20%22id%22%3A%20%22104%22%2C%20%22properties%22%3A%20%7B%22District%22%3A%20%22Boston%22%2C%20%22Latitude%22%3A%2042.351004495946704%2C%20%22Longitude%22%3A%20-71.04930013418198%2C%20%22Name%22%3A%20%22Congress%20St%20at%20Sleeper%20St%22%2C%20%22Number%22%3A%20%22C32010%22%2C%20%22Public%22%3A%20%22Yes%22%2C%20%22Total%20docks%22%3A%2019%7D%2C%20%22type%22%3A%20%22Feature%22%7D%2C%20%7B%22bbox%22%3A%20%5B-71.107593%2C%2042.383405%2C%20-71.107593%2C%2042.383405%5D%2C%20%22geometry%22%3A%20%7B%22coordinates%22%3A%20%5B-71.107593%2C%2042.383405%5D%2C%20%22type%22%3A%20%22Point%22%7D%2C%20%22id%22%3A%20%22105%22%2C%20%22properties%22%3A%20%7B%22District%22%3A%20%22Somerville%22%2C%20%22Latitude%22%3A%2042.383405%2C%20%22Longitude%22%3A%20-71.107593%2C%20%22Name%22%3A%20%22Conway%20Park%20-%20Somerville%20Avenue%22%2C%20%22Number%22%3A%20%22S32004%22%2C%20%22Public%22%3A%20%22Yes%22%2C%20%22Total%20docks%22%3A%2023%7D%2C%20%22type%22%3A%20%22Feature%22%7D%2C%20%7B%22bbox%22%3A%20%5B-71.123338%2C%2042.341598%2C%20-71.123338%2C%2042.341598%5D%2C%20%22geometry%22%3A%20%7B%22coordinates%22%3A%20%5B-71.123338%2C%2042.341598%5D%2C%20%22type%22%3A%20%22Point%22%7D%2C%20%22id%22%3A%20%22106%22%2C%20%22properties%22%3A%20%7B%22District%22%3A%20%22Brookline%22%2C%20%22Latitude%22%3A%2042.341598%2C%20%22Longitude%22%3A%20-71.123338%2C%20%22Name%22%3A%20%22Coolidge%20Corner%20-%20Beacon%20St%20at%20Centre%20St%22%2C%20%22Number%22%3A%20%22K32001%22%2C%20%22Public%22%3A%20%22Yes%22%2C%20%22Total%20docks%22%3A%2019%7D%2C%20%22type%22%3A%20%22Feature%22%7D%2C%20%7B%22bbox%22%3A%20%5B-71.07739206866427%2C%2042.34992828230057%2C%20-71.07739206866427%2C%2042.34992828230057%5D%2C%20%22geometry%22%3A%20%7B%22coordinates%22%3A%20%5B-71.07739206866427%2C%2042.34992828230057%5D%2C%20%22type%22%3A%20%22Point%22%7D%2C%20%22id%22%3A%20%22107%22%2C%20%22properties%22%3A%20%7B%22District%22%3A%20%22Boston%22%2C%20%22Latitude%22%3A%2042.34992828230057%2C%20%22Longitude%22%3A%20-71.07739206866427%2C%20%22Name%22%3A%20%22Copley%20Square%20-%20Dartmouth%20St%20at%20Boylston%20St%22%2C%20%22Number%22%3A%20%22D32005%22%2C%20%22Public%22%3A%20%22Yes%22%2C%20%22Total%20docks%22%3A%2033%7D%2C%20%22type%22%3A%20%22Feature%22%7D%2C%20%7B%22bbox%22%3A%20%5B-71.11071459967206%2C%2042.38828872616418%2C%20-71.11071459967206%2C%2042.38828872616418%5D%2C%20%22geometry%22%3A%20%7B%22coordinates%22%3A%20%5B-71.11071459967206%2C%2042.38828872616418%5D%2C%20%22type%22%3A%20%22Point%22%7D%2C%20%22id%22%3A%20%22108%22%2C%20%22properties%22%3A%20%7B%22District%22%3A%20%22Somerville%22%2C%20%22Latitude%22%3A%2042.38828872616418%2C%20%22Longitude%22%3A%20-71.11071459967206%2C%20%22Name%22%3A%20%22Craigie%20at%20Summer%20St%22%2C%20%22Number%22%3A%20%22S32037%22%2C%20%22Public%22%3A%20%22Yes%22%2C%20%22Total%20docks%22%3A%2019%7D%2C%20%22type%22%3A%20%22Feature%22%7D%2C%20%7B%22bbox%22%3A%20%5B-71.056067%2C%2042.362811%2C%20-71.056067%2C%2042.362811%5D%2C%20%22geometry%22%3A%20%7B%22coordinates%22%3A%20%5B-71.056067%2C%2042.362811%5D%2C%20%22type%22%3A%20%22Point%22%7D%2C%20%22id%22%3A%20%22109%22%2C%20%22properties%22%3A%20%7B%22District%22%3A%20%22Boston%22%2C%20%22Latitude%22%3A%2042.362811%2C%20%22Longitude%22%3A%20-71.056067%2C%20%22Name%22%3A%20%22Cross%20St%20at%20Hanover%20St%22%2C%20%22Number%22%3A%20%22D32010%22%2C%20%22Public%22%3A%20%22Yes%22%2C%20%22Total%20docks%22%3A%2019%7D%2C%20%22type%22%3A%20%22Feature%22%7D%2C%20%7B%22bbox%22%3A%20%5B-71.11687703062671%2C%2042.278811581565975%2C%20-71.11687703062671%2C%2042.278811581565975%5D%2C%20%22geometry%22%3A%20%7B%22coordinates%22%3A%20%5B-71.11687703062671%2C%2042.278811581565975%5D%2C%20%22type%22%3A%20%22Point%22%7D%2C%20%22id%22%3A%20%22110%22%2C%20%22properties%22%3A%20%7B%22District%22%3A%20%22Boston%22%2C%20%22Latitude%22%3A%2042.278811581565975%2C%20%22Longitude%22%3A%20-71.11687703062671%2C%20%22Name%22%3A%20%22Cummins%20at%20American%20Legion%22%2C%20%22Number%22%3A%20%22C32079%22%2C%20%22Public%22%3A%20%22Yes%22%2C%20%22Total%20docks%22%3A%2015%7D%2C%20%22type%22%3A%20%22Feature%22%7D%2C%20%7B%22bbox%22%3A%20%5B-71.11543%2C%2042.309054%2C%20-71.11543%2C%2042.309054%5D%2C%20%22geometry%22%3A%20%7B%22coordinates%22%3A%20%5B-71.11543%2C%2042.309054%5D%2C%20%22type%22%3A%20%22Point%22%7D%2C%20%22id%22%3A%20%22111%22%2C%20%22properties%22%3A%20%7B%22District%22%3A%20%22Boston%22%2C%20%22Latitude%22%3A%2042.309054%2C%20%22Longitude%22%3A%20-71.11543%2C%20%22Name%22%3A%20%22Curtis%20Hall%20-%20South%20St%20at%20Centre%20St%22%2C%20%22Number%22%3A%20%22E32001%22%2C%20%22Public%22%3A%20%22Yes%22%2C%20%22Total%20docks%22%3A%2015%7D%2C%20%22type%22%3A%20%22Feature%22%7D%2C%20%7B%22bbox%22%3A%20%5B-71.1253622174263%2C%2042.32784317478686%2C%20-71.1253622174263%2C%2042.32784317478686%5D%2C%20%22geometry%22%3A%20%7B%22coordinates%22%3A%20%5B-71.1253622174263%2C%2042.32784317478686%5D%2C%20%22type%22%3A%20%22Point%22%7D%2C%20%22id%22%3A%20%22112%22%2C%20%22properties%22%3A%20%7B%22District%22%3A%20%22Brookline%22%2C%20%22Latitude%22%3A%2042.32784317478686%2C%20%22Longitude%22%3A%20-71.1253622174263%2C%20%22Name%22%3A%20%22Cypress%20St%20at%20Clark%20Playground%22%2C%20%22Number%22%3A%20%22K32009%22%2C%20%22Public%22%3A%20%22Yes%22%2C%20%22Total%20docks%22%3A%2015%7D%2C%20%22type%22%3A%20%22Feature%22%7D%2C%20%7B%22bbox%22%3A%20%5B-71.10809952020645%2C%2042.36178043960605%2C%20-71.10809952020645%2C%2042.36178043960605%5D%2C%20%22geometry%22%3A%20%7B%22coordinates%22%3A%20%5B-71.10809952020645%2C%2042.36178043960605%5D%2C%20%22type%22%3A%20%22Point%22%7D%2C%20%22id%22%3A%20%22113%22%2C%20%22properties%22%3A%20%7B%22District%22%3A%20%22Cambridge%22%2C%20%22Latitude%22%3A%2042.36178043960605%2C%20%22Longitude%22%3A%20-71.10809952020645%2C%20%22Name%22%3A%20%22Dana%20Park%22%2C%20%22Number%22%3A%20%22M32030%22%2C%20%22Public%22%3A%20%22Yes%22%2C%20%22Total%20docks%22%3A%2019%7D%2C%20%22type%22%3A%20%22Feature%22%7D%2C%20%7B%22bbox%22%3A%20%5B-71.132788%2C%2042.388966%2C%20-71.132788%2C%2042.388966%5D%2C%20%22geometry%22%3A%20%7B%22coordinates%22%3A%20%5B-71.132788%2C%2042.388966%5D%2C%20%22type%22%3A%20%22Point%22%7D%2C%20%22id%22%3A%20%22114%22%2C%20%22properties%22%3A%20%7B%22District%22%3A%20%22Cambridge%22%2C%20%22Latitude%22%3A%2042.388966%2C%20%22Longitude%22%3A%20-71.132788%2C%20%22Name%22%3A%20%22Danehy%20Park%22%2C%20%22Number%22%3A%20%22M32031%22%2C%20%22Public%22%3A%20%22Yes%22%2C%20%22Total%20docks%22%3A%2017%7D%2C%20%22type%22%3A%20%22Feature%22%7D%2C%20%7B%22bbox%22%3A%20%5B-71.07782810926437%2C%2042.35096144421219%2C%20-71.07782810926437%2C%2042.35096144421219%5D%2C%20%22geometry%22%3A%20%7B%22coordinates%22%3A%20%5B-71.07782810926437%2C%2042.35096144421219%5D%2C%20%22type%22%3A%20%22Point%22%7D%2C%20%22id%22%3A%20%22115%22%2C%20%22properties%22%3A%20%7B%22District%22%3A%20%22Boston%22%2C%20%22Latitude%22%3A%2042.35096144421219%2C%20%22Longitude%22%3A%20-71.07782810926437%2C%20%22Name%22%3A%20%22Dartmouth%20St%20at%20Newbury%20St%22%2C%20%22Number%22%3A%20%22D32045%22%2C%20%22Public%22%3A%20%22Yes%22%2C%20%22Total%20docks%22%3A%2019%7D%2C%20%22type%22%3A%20%22Feature%22%7D%2C%20%7B%22bbox%22%3A%20%5B-71.123024%2C%2042.396969%2C%20-71.123024%2C%2042.396969%5D%2C%20%22geometry%22%3A%20%7B%22coordinates%22%3A%20%5B-71.123024%2C%2042.396969%5D%2C%20%22type%22%3A%20%22Point%22%7D%2C%20%22id%22%3A%20%22116%22%2C%20%22properties%22%3A%20%7B%22District%22%3A%20%22Somerville%22%2C%20%22Latitude%22%3A%2042.396969%2C%20%22Longitude%22%3A%20-71.123024%2C%20%22Name%22%3A%20%22Davis%20Square%22%2C%20%22Number%22%3A%20%22S32006%22%2C%20%22Public%22%3A%20%22Yes%22%2C%20%22Total%20docks%22%3A%2025%7D%2C%20%22type%22%3A%20%22Feature%22%7D%2C%20%7B%22bbox%22%3A%20%5B-71.09728209692548%2C%2042.34924376955301%2C%20-71.09728209692548%2C%2042.34924376955301%5D%2C%20%22geometry%22%3A%20%7B%22coordinates%22%3A%20%5B-71.09728209692548%2C%2042.34924376955301%5D%2C%20%22type%22%3A%20%22Point%22%7D%2C%20%22id%22%3A%20%22117%22%2C%20%22properties%22%3A%20%7B%22District%22%3A%20%22Boston%22%2C%20%22Latitude%22%3A%2042.34924376955301%2C%20%22Longitude%22%3A%20-71.09728209692548%2C%20%22Name%22%3A%20%22Deerfield%20St%20at%20Commonwealth%20Ave%22%2C%20%22Number%22%3A%20%22B32037%22%2C%20%22Public%22%3A%20%22Yes%22%2C%20%22Total%20docks%22%3A%2019%7D%2C%20%22type%22%3A%20%22Feature%22%7D%2C%20%7B%22bbox%22%3A%20%5B-71.14797130814623%2C%2042.39790817368333%2C%20-71.14797130814623%2C%2042.39790817368333%5D%2C%20%22geometry%22%3A%20%7B%22coordinates%22%3A%20%5B-71.14797130814623%2C%2042.39790817368333%5D%2C%20%22type%22%3A%20%22Point%22%7D%2C%20%22id%22%3A%20%22118%22%2C%20%22properties%22%3A%20%7B%22District%22%3A%20%22Cambridge%22%2C%20%22Latitude%22%3A%2042.39790817368333%2C%20%22Longitude%22%3A%20-71.14797130814623%2C%20%22Name%22%3A%20%22Discovery%20Park%20-%2030%20Acorn%20Park%20Drive%22%2C%20%22Number%22%3A%20%22M32066%22%2C%20%22Public%22%3A%20%22Yes%22%2C%20%22Total%20docks%22%3A%2023%7D%2C%20%22type%22%3A%20%22Feature%22%7D%2C%20%7B%22bbox%22%3A%20%5B-71.05737626552582%2C%2042.34404051001636%2C%20-71.05737626552582%2C%2042.34404051001636%5D%2C%20%22geometry%22%3A%20%7B%22coordinates%22%3A%20%5B-71.05737626552582%2C%2042.34404051001636%5D%2C%20%22type%22%3A%20%22Point%22%7D%2C%20%22id%22%3A%20%22119%22%2C%20%22properties%22%3A%20%7B%22District%22%3A%20%22Boston%22%2C%20%22Latitude%22%3A%2042.34404051001636%2C%20%22Longitude%22%3A%20-71.05737626552582%2C%20%22Name%22%3A%20%22Dorchester%20Ave%20at%20Gillette%20Park%22%2C%20%22Number%22%3A%20%22C32009%22%2C%20%22Public%22%3A%20%22Yes%22%2C%20%22Total%20docks%22%3A%2015%7D%2C%20%22type%22%3A%20%22Feature%22%7D%2C%20%7B%22bbox%22%3A%20%5B-71.0625918023743%2C%2042.29175621632091%2C%20-71.0625918023743%2C%2042.29175621632091%5D%2C%20%22geometry%22%3A%20%7B%22coordinates%22%3A%20%5B-71.0625918023743%2C%2042.29175621632091%5D%2C%20%22type%22%3A%20%22Point%22%7D%2C%20%22id%22%3A%20%22120%22%2C%20%22properties%22%3A%20%7B%22District%22%3A%20%22Boston%22%2C%20%22Latitude%22%3A%2042.29175621632091%2C%20%22Longitude%22%3A%20-71.0625918023743%2C%20%22Name%22%3A%20%22Dorchester%20Ave%20at%20King%20St%22%2C%20%22Number%22%3A%20%22C32066%22%2C%20%22Public%22%3A%20%22Yes%22%2C%20%22Total%20docks%22%3A%2015%7D%2C%20%22type%22%3A%20%22Feature%22%7D%2C%20%7B%22bbox%22%3A%20%5B-71.08386572459494%2C%2042.329842993518085%2C%20-71.08386572459494%2C%2042.329842993518085%5D%2C%20%22geometry%22%3A%20%7B%22coordinates%22%3A%20%5B-71.08386572459494%2C%2042.329842993518085%5D%2C%20%22type%22%3A%20%22Point%22%7D%2C%20%22id%22%3A%20%22121%22%2C%20%22properties%22%3A%20%7B%22District%22%3A%20%22Boston%22%2C%20%22Latitude%22%3A%2042.329842993518085%2C%20%22Longitude%22%3A%20-71.08386572459494%2C%20%22Name%22%3A%20%22Dudley%20Square%20-%20Dudley%20St%20at%20Warren%20St%22%2C%20%22Number%22%3A%20%22B32017%22%2C%20%22Public%22%3A%20%22Yes%22%2C%20%22Total%20docks%22%3A%2014%7D%2C%20%22type%22%3A%20%22Feature%22%7D%2C%20%7B%22bbox%22%3A%20%5B-71.075354%2C%2042.325333%2C%20-71.075354%2C%2042.325333%5D%2C%20%22geometry%22%3A%20%7B%22coordinates%22%3A%20%5B-71.075354%2C%2042.325333%5D%2C%20%22type%22%3A%20%22Point%22%7D%2C%20%22id%22%3A%20%22122%22%2C%20%22properties%22%3A%20%7B%22District%22%3A%20%22Boston%22%2C%20%22Latitude%22%3A%2042.325333%2C%20%22Longitude%22%3A%20-71.075354%2C%20%22Name%22%3A%20%22Dudley%20Town%20Common%20-%20Mt%20Pleasant%20Ave%20at%20Blue%20Hill%20Ave%22%2C%20%22Number%22%3A%20%22C32015%22%2C%20%22Public%22%3A%20%22Yes%22%2C%20%22Total%20docks%22%3A%2015%7D%2C%20%22type%22%3A%20%22Feature%22%7D%2C%20%7B%22bbox%22%3A%20%5B-71.06198%2C%2042.320561%2C%20-71.06198%2C%2042.320561%5D%2C%20%22geometry%22%3A%20%7B%22coordinates%22%3A%20%5B-71.06198%2C%2042.320561%5D%2C%20%22type%22%3A%20%22Point%22%7D%2C%20%22id%22%3A%20%22123%22%2C%20%22properties%22%3A%20%7B%22District%22%3A%20%22Boston%22%2C%20%22Latitude%22%3A%2042.320561%2C%20%22Longitude%22%3A%20-71.06198%2C%20%22Name%22%3A%20%22E%20Cottage%20St%20at%20Columbia%20Rd%22%2C%20%22Number%22%3A%20%22C32018%22%2C%20%22Public%22%3A%20%22Yes%22%2C%20%22Total%20docks%22%3A%2019%7D%2C%20%22type%22%3A%20%22Feature%22%7D%2C%20%7B%22bbox%22%3A%20%5B-71.039431%2C%2042.369536%2C%20-71.039431%2C%2042.369536%5D%2C%20%22geometry%22%3A%20%7B%22coordinates%22%3A%20%5B-71.039431%2C%2042.369536%5D%2C%20%22type%22%3A%20%22Point%22%7D%2C%20%22id%22%3A%20%22124%22%2C%20%22properties%22%3A%20%7B%22District%22%3A%20%22Boston%22%2C%20%22Latitude%22%3A%2042.369536%2C%20%22Longitude%22%3A%20-71.039431%2C%20%22Name%22%3A%20%22East%20Boston%20Neighborhood%20Health%20Center%20-%2020%20Maverick%20Square%22%2C%20%22Number%22%3A%20%22A32031%22%2C%20%22Public%22%3A%20%22Yes%22%2C%20%22Total%20docks%22%3A%2016%7D%2C%20%22type%22%3A%20%22Feature%22%7D%2C%20%7B%22bbox%22%3A%20%5B-71.08318716287613%2C%2042.3876281075134%2C%20-71.08318716287613%2C%2042.3876281075134%5D%2C%20%22geometry%22%3A%20%7B%22coordinates%22%3A%20%5B-71.08318716287613%2C%2042.3876281075134%5D%2C%20%22type%22%3A%20%22Point%22%7D%2C%20%22id%22%3A%20%22125%22%2C%20%22properties%22%3A%20%7B%22District%22%3A%20%22Somerville%22%2C%20%22Latitude%22%3A%2042.3876281075134%2C%20%22Longitude%22%3A%20-71.08318716287613%2C%20%22Name%22%3A%20%22East%20Somerville%20Library%20%28Broadway%20and%20Illinois%29%22%2C%20%22Number%22%3A%20%22S32017%22%2C%20%22Public%22%3A%20%22Yes%22%2C%20%22Total%20docks%22%3A%2015%7D%2C%20%22type%22%3A%20%22Feature%22%7D%2C%20%7B%22bbox%22%3A%20%5B-71.08714388528824%2C%2042.38717463348314%2C%20-71.08714388528824%2C%2042.38717463348314%5D%2C%20%22geometry%22%3A%20%7B%22coordinates%22%3A%20%5B-71.08714388528824%2C%2042.38717463348314%5D%2C%20%22type%22%3A%20%22Point%22%7D%2C%20%22id%22%3A%20%22126%22%2C%20%22properties%22%3A%20%7B%22District%22%3A%20%22Somerville%22%2C%20%22Latitude%22%3A%2042.38717463348314%2C%20%22Longitude%22%3A%20-71.08714388528824%2C%20%22Name%22%3A%20%22Edgerly%20Education%20Center%22%2C%20%22Number%22%3A%20%22S32038%22%2C%20%22Public%22%3A%20%22Yes%22%2C%20%22Total%20docks%22%3A%2015%7D%2C%20%22type%22%3A%20%22Feature%22%7D%2C%20%7B%22bbox%22%3A%20%5B-71.068607%2C%2042.378965%2C%20-71.068607%2C%2042.378965%5D%2C%20%22geometry%22%3A%20%7B%22coordinates%22%3A%20%5B-71.068607%2C%2042.378965%5D%2C%20%22type%22%3A%20%22Point%22%7D%2C%20%22id%22%3A%20%22127%22%2C%20%22properties%22%3A%20%7B%22District%22%3A%20%22Boston%22%2C%20%22Latitude%22%3A%2042.378965%2C%20%22Longitude%22%3A%20-71.068607%2C%20%22Name%22%3A%20%22Edwards%20Playground%20-%20Main%20St%20at%20Eden%20St%22%2C%20%22Number%22%3A%20%22A32022%22%2C%20%22Public%22%3A%20%22Yes%22%2C%20%22Total%20docks%22%3A%2019%7D%2C%20%22type%22%3A%20%22Feature%22%7D%2C%20%7B%22bbox%22%3A%20%5B-71.069957%2C%2042.369885%2C%20-71.069957%2C%2042.369885%5D%2C%20%22geometry%22%3A%20%7B%22coordinates%22%3A%20%5B-71.069957%2C%2042.369885%5D%2C%20%22type%22%3A%20%22Point%22%7D%2C%20%22id%22%3A%20%22128%22%2C%20%22properties%22%3A%20%7B%22District%22%3A%20%22Cambridge%22%2C%20%22Latitude%22%3A%2042.369885%2C%20%22Longitude%22%3A%20-71.069957%2C%20%22Name%22%3A%20%22EF%20-%20North%20Point%20Park%22%2C%20%22Number%22%3A%20%22M32034%22%2C%20%22Public%22%3A%20%22Yes%22%2C%20%22Total%20docks%22%3A%2023%7D%2C%20%22type%22%3A%20%22Feature%22%7D%2C%20%7B%22bbox%22%3A%20%5B-71.098634%2C%2042.315692%2C%20-71.098634%2C%2042.315692%5D%2C%20%22geometry%22%3A%20%7B%22coordinates%22%3A%20%5B-71.098634%2C%2042.315692%5D%2C%20%22type%22%3A%20%22Point%22%7D%2C%20%22id%22%3A%20%22129%22%2C%20%22properties%22%3A%20%7B%22District%22%3A%20%22Boston%22%2C%20%22Latitude%22%3A%2042.315692%2C%20%22Longitude%22%3A%20-71.098634%2C%20%22Name%22%3A%20%22Egleston%20Square%20-%20Atherton%20St%20at%20Washington%20St%22%2C%20%22Number%22%3A%20%22E32004%22%2C%20%22Public%22%3A%20%22Yes%22%2C%20%22Total%20docks%22%3A%2015%7D%2C%20%22type%22%3A%20%22Feature%22%7D%2C%20%7B%22bbox%22%3A%20%5B-71.11694140364307%2C%2042.38952436305763%2C%20-71.11694140364307%2C%2042.38952436305763%5D%2C%20%22geometry%22%3A%20%7B%22coordinates%22%3A%20%5B-71.11694140364307%2C%2042.38952436305763%5D%2C%20%22type%22%3A%20%22Point%22%7D%2C%20%22id%22%3A%20%22130%22%2C%20%22properties%22%3A%20%7B%22District%22%3A%20%22Somerville%22%2C%20%22Latitude%22%3A%2042.38952436305763%2C%20%22Longitude%22%3A%20-71.11694140364307%2C%20%22Name%22%3A%20%22Elm%20St%20at%20White%20St%22%2C%20%22Number%22%3A%20%22S32039%22%2C%20%22Public%22%3A%20%22Yes%22%2C%20%22Total%20docks%22%3A%2019%7D%2C%20%22type%22%3A%20%22Feature%22%7D%2C%20%7B%22bbox%22%3A%20%5B-71.0724475979805%2C%2042.39329263225162%2C%20-71.0724475979805%2C%2042.39329263225162%5D%2C%20%22geometry%22%3A%20%7B%22coordinates%22%3A%20%5B-71.0724475979805%2C%2042.39329263225162%5D%2C%20%22type%22%3A%20%22Point%22%7D%2C%20%22id%22%3A%20%22131%22%2C%20%22properties%22%3A%20%7B%22District%22%3A%20%22Everett%22%2C%20%22Latitude%22%3A%2042.39329263225162%2C%20%22Longitude%22%3A%20-71.0724475979805%2C%20%22Name%22%3A%20%22Encore%22%2C%20%22Number%22%3A%20%22V32005%22%2C%20%22Public%22%3A%20%22Yes%22%2C%20%22Total%20docks%22%3A%2015%7D%2C%20%22type%22%3A%20%22Feature%22%7D%2C%20%7B%22bbox%22%3A%20%5B-71.05546381333625%2C%2042.40725945172653%2C%20-71.05546381333625%2C%2042.40725945172653%5D%2C%20%22geometry%22%3A%20%7B%22coordinates%22%3A%20%5B-71.05546381333625%2C%2042.40725945172653%5D%2C%20%22type%22%3A%20%22Point%22%7D%2C%20%22id%22%3A%20%22132%22%2C%20%22properties%22%3A%20%7B%22District%22%3A%20%22Everett%22%2C%20%22Latitude%22%3A%2042.40725945172653%2C%20%22Longitude%22%3A%20-71.05546381333625%2C%20%22Name%22%3A%20%22Everett%20Square%20%28Broadway%20at%20Chelsea%20St%29%22%2C%20%22Number%22%3A%20%22V32003%22%2C%20%22Public%22%3A%20%22Yes%22%2C%20%22Total%20docks%22%3A%2014%7D%2C%20%22type%22%3A%20%22Feature%22%7D%2C%20%7B%22bbox%22%3A%20%5B-71.04457139968872%2C%2042.3533905070523%2C%20-71.04457139968872%2C%2042.3533905070523%5D%2C%20%22geometry%22%3A%20%7B%22coordinates%22%3A%20%5B-71.04457139968872%2C%2042.3533905070523%5D%2C%20%22type%22%3A%20%22Point%22%7D%2C%20%22id%22%3A%20%22133%22%2C%20%22properties%22%3A%20%7B%22District%22%3A%20%22Boston%22%2C%20%22Latitude%22%3A%2042.3533905070523%2C%20%22Longitude%22%3A%20-71.04457139968872%2C%20%22Name%22%3A%20%22Fan%20Pier%22%2C%20%22Number%22%3A%20%22A32000%22%2C%20%22Public%22%3A%20%22Yes%22%2C%20%22Total%20docks%22%3A%2015%7D%2C%20%22type%22%3A%20%22Feature%22%7D%2C%20%7B%22bbox%22%3A%20%5B-71.15988485533308%2C%2042.35276620545606%2C%20-71.15988485533308%2C%2042.35276620545606%5D%2C%20%22geometry%22%3A%20%7B%22coordinates%22%3A%20%5B-71.15988485533308%2C%2042.35276620545606%5D%2C%20%22type%22%3A%20%22Point%22%7D%2C%20%22id%22%3A%20%22134%22%2C%20%22properties%22%3A%20%7B%22District%22%3A%20%22Boston%22%2C%20%22Latitude%22%3A%2042.35276620545606%2C%20%22Longitude%22%3A%20-71.15988485533308%2C%20%22Name%22%3A%20%22Faneuil%20St%20at%20Arlington%20St%22%2C%20%22Number%22%3A%20%22A32038%22%2C%20%22Public%22%3A%20%22Yes%22%2C%20%22Total%20docks%22%3A%2015%7D%2C%20%22type%22%3A%20%22Feature%22%7D%2C%20%7B%22bbox%22%3A%20%5B-71.02495%2C%2042.3334%2C%20-71.02495%2C%2042.3334%5D%2C%20%22geometry%22%3A%20%7B%22coordinates%22%3A%20%5B-71.02495%2C%2042.3334%5D%2C%20%22type%22%3A%20%22Point%22%7D%2C%20%22id%22%3A%20%22135%22%2C%20%22properties%22%3A%20%7B%22District%22%3A%20%22Boston%22%2C%20%22Latitude%22%3A%2042.3334%2C%20%22Longitude%22%3A%20-71.02495%2C%20%22Name%22%3A%20%22Farragut%20Rd%20at%20E.%206th%20St%22%2C%20%22Number%22%3A%20%22C32051%22%2C%20%22Public%22%3A%20%22Yes%22%2C%20%22Total%20docks%22%3A%2023%7D%2C%20%22type%22%3A%20%22Feature%22%7D%2C%20%7B%22bbox%22%3A%20%5B-71.04597684005057%2C%2042.40914877754532%2C%20-71.04597684005057%2C%2042.40914877754532%5D%2C%20%22geometry%22%3A%20%7B%22coordinates%22%3A%20%5B-71.04597684005057%2C%2042.40914877754532%5D%2C%20%22type%22%3A%20%22Point%22%7D%2C%20%22id%22%3A%20%22136%22%2C%20%22properties%22%3A%20%7B%22District%22%3A%20%22Everett%22%2C%20%22Latitude%22%3A%2042.40914877754532%2C%20%22Longitude%22%3A%20-71.04597684005057%2C%20%22Name%22%3A%20%22Ferry%20St%20at%20Pleasantview%20Ave%22%2C%20%22Number%22%3A%20%22V32007%22%2C%20%22Public%22%3A%20%22Yes%22%2C%20%22Total%20docks%22%3A%2015%7D%2C%20%22type%22%3A%20%22Feature%22%7D%2C%20%7B%22bbox%22%3A%20%5B-71.0605833%2C%2042.2996667%2C%20-71.0605833%2C%2042.2996667%5D%2C%20%22geometry%22%3A%20%7B%22coordinates%22%3A%20%5B-71.0605833%2C%2042.2996667%5D%2C%20%22type%22%3A%20%22Point%22%7D%2C%20%22id%22%3A%20%22137%22%2C%20%22properties%22%3A%20%7B%22District%22%3A%20%22Boston%22%2C%20%22Latitude%22%3A%2042.2996667%2C%20%22Longitude%22%3A%20-71.0605833%2C%20%22Name%22%3A%20%22Fields%20Corner%20T%20Stop%22%2C%20%22Number%22%3A%20%22C32041%22%2C%20%22Public%22%3A%20%22Yes%22%2C%20%22Total%20docks%22%3A%200%7D%2C%20%22type%22%3A%20%22Feature%22%7D%2C%20%7B%22bbox%22%3A%20%5B-71.114249%2C%2042.300923%2C%20-71.114249%2C%2042.300923%5D%2C%20%22geometry%22%3A%20%7B%22coordinates%22%3A%20%5B-71.114249%2C%2042.300923%5D%2C%20%22type%22%3A%20%22Point%22%7D%2C%20%22id%22%3A%20%22138%22%2C%20%22properties%22%3A%20%7B%22District%22%3A%20%22Boston%22%2C%20%22Latitude%22%3A%2042.300923%2C%20%22Longitude%22%3A%20-71.114249%2C%20%22Name%22%3A%20%22Forest%20Hills%22%2C%20%22Number%22%3A%20%22E32010%22%2C%20%22Public%22%3A%20%22Yes%22%2C%20%22Total%20docks%22%3A%2040%7D%2C%20%22type%22%3A%20%22Feature%22%7D%2C%20%7B%22bbox%22%3A%20%5B-71.09039425849915%2C%2042.39108438146733%2C%20-71.09039425849915%2C%2042.39108438146733%5D%2C%20%22geometry%22%3A%20%7B%22coordinates%22%3A%20%5B-71.09039425849915%2C%2042.39108438146733%5D%2C%20%22type%22%3A%20%22Point%22%7D%2C%20%22id%22%3A%20%22139%22%2C%20%22properties%22%3A%20%7B%22District%22%3A%20%22Somerville%22%2C%20%22Latitude%22%3A%2042.39108438146733%2C%20%22Longitude%22%3A%20-71.09039425849915%2C%20%22Name%22%3A%20%22Foss%20Park%22%2C%20%22Number%22%3A%20%22S32015%22%2C%20%22Public%22%3A%20%22Yes%22%2C%20%22Total%20docks%22%3A%2015%7D%2C%20%22type%22%3A%20%22Feature%22%7D%2C%20%7B%22bbox%22%3A%20%5B-71.07929527759552%2C%2042.30412792739016%2C%20-71.07929527759552%2C%2042.30412792739016%5D%2C%20%22geometry%22%3A%20%7B%22coordinates%22%3A%20%5B-71.07929527759552%2C%2042.30412792739016%5D%2C%20%22type%22%3A%20%22Point%22%7D%2C%20%22id%22%3A%20%22140%22%2C%20%22properties%22%3A%20%7B%22District%22%3A%20%22Boston%22%2C%20%22Latitude%22%3A%2042.30412792739016%2C%20%22Longitude%22%3A%20-71.07929527759552%2C%20%22Name%22%3A%20%22Four%20Corners%20-%20157%20Washington%20St%22%2C%20%22Number%22%3A%20%22C32037%22%2C%20%22Public%22%3A%20%22Yes%22%2C%20%22Total%20docks%22%3A%2011%7D%2C%20%22type%22%3A%20%22Feature%22%7D%2C%20%7B%22bbox%22%3A%20%5B-71.092225%2C%2042.309796%2C%20-71.092225%2C%2042.309796%5D%2C%20%22geometry%22%3A%20%7B%22coordinates%22%3A%20%5B-71.092225%2C%2042.309796%5D%2C%20%22type%22%3A%20%22Point%22%7D%2C%20%22id%22%3A%20%22141%22%2C%20%22properties%22%3A%20%7B%22District%22%3A%20%22Boston%22%2C%20%22Latitude%22%3A%2042.309796%2C%20%22Longitude%22%3A%20-71.092225%2C%20%22Name%22%3A%20%22Franklin%20Park%20-%20Seaver%20St%20at%20Humbolt%20Ave%22%2C%20%22Number%22%3A%20%22C32027%22%2C%20%22Public%22%3A%20%22Yes%22%2C%20%22Total%20docks%22%3A%2015%7D%2C%20%22type%22%3A%20%22Feature%22%7D%2C%20%7B%22bbox%22%3A%20%5B-71.085347%2C%2042.303469%2C%20-71.085347%2C%2042.303469%5D%2C%20%22geometry%22%3A%20%7B%22coordinates%22%3A%20%5B-71.085347%2C%2042.303469%5D%2C%20%22type%22%3A%20%22Point%22%7D%2C%20%22id%22%3A%20%22142%22%2C%20%22properties%22%3A%20%7B%22District%22%3A%20%22Boston%22%2C%20%22Latitude%22%3A%2042.303469%2C%20%22Longitude%22%3A%20-71.085347%2C%20%22Name%22%3A%20%22Franklin%20Park%20Zoo%20-%20Franklin%20Park%20Rd%20at%20Blue%20Hill%20Ave%22%2C%20%22Number%22%3A%20%22C32030%22%2C%20%22Public%22%3A%20%22Yes%22%2C%20%22Total%20docks%22%3A%2014%7D%2C%20%22type%22%3A%20%22Feature%22%7D%2C%20%7B%22bbox%22%3A%20%5B-71.143478951426%2C%2042.38267827521855%2C%20-71.143478951426%2C%2042.38267827521855%5D%2C%20%22geometry%22%3A%20%7B%22coordinates%22%3A%20%5B-71.143478951426%2C%2042.38267827521855%5D%2C%20%22type%22%3A%20%22Point%22%7D%2C%20%22id%22%3A%20%22143%22%2C%20%22properties%22%3A%20%7B%22District%22%3A%20%22Cambridge%22%2C%20%22Latitude%22%3A%2042.38267827521855%2C%20%22Longitude%22%3A%20-71.143478951426%2C%20%22Name%22%3A%20%22Fresh%20Pond%20Reservation%22%2C%20%22Number%22%3A%20%22M32051%22%2C%20%22Public%22%3A%20%22Yes%22%2C%20%22Total%20docks%22%3A%2017%7D%2C%20%22type%22%3A%20%22Feature%22%7D%2C%20%7B%22bbox%22%3A%20%5B-71.05466698296368%2C%2042.28297567840305%2C%20-71.05466698296368%2C%2042.28297567840305%5D%2C%20%22geometry%22%3A%20%7B%22coordinates%22%3A%20%5B-71.05466698296368%2C%2042.28297567840305%5D%2C%20%22type%22%3A%20%22Point%22%7D%2C%20%22id%22%3A%20%22144%22%2C%20%22properties%22%3A%20%7B%22District%22%3A%20%22Boston%22%2C%20%22Latitude%22%3A%2042.28297567840305%2C%20%22Longitude%22%3A%20-71.05466698296368%2C%20%22Name%22%3A%20%22Gallivan%20Blvd%20at%20Adams%20St%22%2C%20%22Number%22%3A%20%22C32040%22%2C%20%22Public%22%3A%20%22Yes%22%2C%20%22Total%20docks%22%3A%2015%7D%2C%20%22type%22%3A%20%22Feature%22%7D%2C%20%7B%22bbox%22%3A%20%5B-71.04536797860419%2C%2042.31886468217537%2C%20-71.04536797860419%2C%2042.31886468217537%5D%2C%20%22geometry%22%3A%20%7B%22coordinates%22%3A%20%5B-71.04536797860419%2C%2042.31886468217537%5D%2C%20%22type%22%3A%20%22Point%22%7D%2C%20%22id%22%3A%20%22145%22%2C%20%22properties%22%3A%20%7B%22District%22%3A%20%22Boston%22%2C%20%22Latitude%22%3A%2042.31886468217537%2C%20%22Longitude%22%3A%20-71.04536797860419%2C%20%22Name%22%3A%20%22Geiger%20Gibson%20Community%20Health%20Center%22%2C%20%22Number%22%3A%20%22C32090%22%2C%20%22Public%22%3A%20%22Yes%22%2C%20%22Total%20docks%22%3A%2019%7D%2C%20%22type%22%3A%20%22Feature%22%7D%2C%20%7B%22bbox%22%3A%20%5B-71.04772560316633%2C%2042.41480160999569%2C%20-71.04772560316633%2C%2042.41480160999569%5D%2C%20%22geometry%22%3A%20%7B%22coordinates%22%3A%20%5B-71.04772560316633%2C%2042.41480160999569%5D%2C%20%22type%22%3A%20%22Point%22%7D%2C%20%22id%22%3A%20%22146%22%2C%20%22properties%22%3A%20%7B%22District%22%3A%20%22Everett%22%2C%20%22Latitude%22%3A%2042.41480160999569%2C%20%22Longitude%22%3A%20-71.04772560316633%2C%20%22Name%22%3A%20%22Glendale%20Square%20%28Ferry%20St%20at%20Broadway%29%22%2C%20%22Number%22%3A%20%22V32006%22%2C%20%22Public%22%3A%20%22Yes%22%2C%20%22Total%20docks%22%3A%2015%7D%2C%20%22type%22%3A%20%22Feature%22%7D%2C%20%7B%22bbox%22%3A%20%5B-71.03024303913116%2C%2042.38240377674137%2C%20-71.03024303913116%2C%2042.38240377674137%5D%2C%20%22geometry%22%3A%20%7B%22coordinates%22%3A%20%5B-71.03024303913116%2C%2042.38240377674137%5D%2C%20%22type%22%3A%20%22Point%22%7D%2C%20%22id%22%3A%20%22147%22%2C%20%22properties%22%3A%20%7B%22District%22%3A%20%22Boston%22%2C%20%22Latitude%22%3A%2042.38240377674137%2C%20%22Longitude%22%3A%20-71.03024303913116%2C%20%22Name%22%3A%20%22Glendon%20St%20at%20Condor%20St%22%2C%20%22Number%22%3A%20%22A32034%22%2C%20%22Public%22%3A%20%22Yes%22%2C%20%22Total%20docks%22%3A%200%7D%2C%20%22type%22%3A%20%22Feature%22%7D%2C%20%7B%22bbox%22%3A%20%5B-71.05960782626425%2C%2042.359802515995526%2C%20-71.05960782626425%2C%2042.359802515995526%5D%2C%20%22geometry%22%3A%20%7B%22coordinates%22%3A%20%5B-71.05960782626425%2C%2042.359802515995526%5D%2C%20%22type%22%3A%20%22Point%22%7D%2C%20%22id%22%3A%20%22148%22%2C%20%22properties%22%3A%20%7B%22District%22%3A%20%22Boston%22%2C%20%22Latitude%22%3A%2042.359802515995526%2C%20%22Longitude%22%3A%20-71.05960782626425%2C%20%22Name%22%3A%20%22Government%20Center%20-%20Cambridge%20St%20at%20Court%20St%22%2C%20%22Number%22%3A%20%22B32032%22%2C%20%22Public%22%3A%20%22Yes%22%2C%20%22Total%20docks%22%3A%2023%7D%2C%20%22type%22%3A%20%22Feature%22%7D%2C%20%7B%22bbox%22%3A%20%5B-71.107341%2C%2042.310579%2C%20-71.107341%2C%2042.310579%5D%2C%20%22geometry%22%3A%20%7B%22coordinates%22%3A%20%5B-71.107341%2C%2042.310579%5D%2C%20%22type%22%3A%20%22Point%22%7D%2C%20%22id%22%3A%20%22149%22%2C%20%22properties%22%3A%20%7B%22District%22%3A%20%22Boston%22%2C%20%22Latitude%22%3A%2042.310579%2C%20%22Longitude%22%3A%20-71.107341%2C%20%22Name%22%3A%20%22Green%20Street%20T%20Stop%20-%20Green%20St%20at%20Amory%20St%22%2C%20%22Number%22%3A%20%22E32005%22%2C%20%22Public%22%3A%20%22Yes%22%2C%20%22Total%20docks%22%3A%2023%7D%2C%20%22type%22%3A%20%22Feature%22%7D%2C%20%7B%22bbox%22%3A%20%5B-71.080952%2C%2042.30791%2C%20-71.080952%2C%2042.30791%5D%2C%20%22geometry%22%3A%20%7B%22coordinates%22%3A%20%5B-71.080952%2C%2042.30791%5D%2C%20%22type%22%3A%20%22Point%22%7D%2C%20%22id%22%3A%20%22150%22%2C%20%22properties%22%3A%20%7B%22District%22%3A%20%22Boston%22%2C%20%22Latitude%22%3A%2042.30791%2C%20%22Longitude%22%3A%20-71.080952%2C%20%22Name%22%3A%20%22Grove%20Hall%20Library%20-%2041%20Geneva%20Ave%22%2C%20%22Number%22%3A%20%22B32028%22%2C%20%22Public%22%3A%20%22Yes%22%2C%20%22Total%20docks%22%3A%2015%7D%2C%20%22type%22%3A%20%22Feature%22%7D%2C%20%7B%22bbox%22%3A%20%5B-71.12011306006025%2C%2042.396386809455%2C%20-71.12011306006025%2C%2042.396386809455%5D%2C%20%22geometry%22%3A%20%7B%22coordinates%22%3A%20%5B-71.12011306006025%2C%2042.396386809455%5D%2C%20%22type%22%3A%20%22Point%22%7D%2C%20%22id%22%3A%20%22151%22%2C%20%22properties%22%3A%20%7B%22District%22%3A%20%22Somerville%22%2C%20%22Latitude%22%3A%2042.396386809455%2C%20%22Longitude%22%3A%20-71.12011306006025%2C%20%22Name%22%3A%20%22Grove%20St%20at%20Community%20Path%22%2C%20%22Number%22%3A%20%22S32019%22%2C%20%22Public%22%3A%20%22Yes%22%2C%20%22Total%20docks%22%3A%2015%7D%2C%20%22type%22%3A%20%22Feature%22%7D%2C%20%7B%22bbox%22%3A%20%5B-71.06209959843909%2C%2042.34942609892521%2C%20-71.06209959843909%2C%2042.34942609892521%5D%2C%20%22geometry%22%3A%20%7B%22coordinates%22%3A%20%5B-71.06209959843909%2C%2042.34942609892521%5D%2C%20%22type%22%3A%20%22Point%22%7D%2C%20%22id%22%3A%20%22152%22%2C%20%22properties%22%3A%20%7B%22District%22%3A%20%22Boston%22%2C%20%22Latitude%22%3A%2042.34942609892521%2C%20%22Longitude%22%3A%20-71.06209959843909%2C%20%22Name%22%3A%20%22Harrison%20Ave%20at%20Bennet%20St%22%2C%20%22Number%22%3A%20%22D32043%22%2C%20%22Public%22%3A%20%22Yes%22%2C%20%22Total%20docks%22%3A%2019%7D%2C%20%22type%22%3A%20%22Feature%22%7D%2C%20%7B%22bbox%22%3A%20%5B-71.0638403149278%2C%2042.34521562115022%2C%20-71.0638403149278%2C%2042.34521562115022%5D%2C%20%22geometry%22%3A%20%7B%22coordinates%22%3A%20%5B-71.0638403149278%2C%2042.34521562115022%5D%2C%20%22type%22%3A%20%22Point%22%7D%2C%20%22id%22%3A%20%22153%22%2C%20%22properties%22%3A%20%7B%22District%22%3A%20%22Boston%22%2C%20%22Latitude%22%3A%2042.34521562115022%2C%20%22Longitude%22%3A%20-71.0638403149278%2C%20%22Name%22%3A%20%22Harrison%20Ave%20at%20Mullins%20Way%22%2C%20%22Number%22%3A%20%22C32057%22%2C%20%22Public%22%3A%20%22Yes%22%2C%20%22Total%20docks%22%3A%2019%7D%2C%20%22type%22%3A%20%22Feature%22%7D%2C%20%7B%22bbox%22%3A%20%5B-71.13022770741735%2C%2042.34953016890375%2C%20-71.13022770741735%2C%2042.34953016890375%5D%2C%20%22geometry%22%3A%20%7B%22coordinates%22%3A%20%5B-71.13022770741735%2C%2042.34953016890375%5D%2C%20%22type%22%3A%20%22Point%22%7D%2C%20%22id%22%3A%20%22154%22%2C%20%22properties%22%3A%20%7B%22District%22%3A%20%22Boston%22%2C%20%22Latitude%22%3A%2042.34953016890375%2C%20%22Longitude%22%3A%20-71.13022770741735%2C%20%22Name%22%3A%20%22Harvard%20Ave%20at%20Brainerd%20Rd%22%2C%20%22Number%22%3A%20%22D32035%22%2C%20%22Public%22%3A%20%22Yes%22%2C%20%22Total%20docks%22%3A%2015%7D%2C%20%22type%22%3A%20%22Feature%22%7D%2C%20%7B%22bbox%22%3A%20%5B-71.12188071012497%2C%2042.3722168027866%2C%20-71.12188071012497%2C%2042.3722168027866%5D%2C%20%22geometry%22%3A%20%7B%22coordinates%22%3A%20%5B-71.12188071012497%2C%2042.3722168027866%5D%2C%20%22type%22%3A%20%22Point%22%7D%2C%20%22id%22%3A%20%22155%22%2C%20%22properties%22%3A%20%7B%22District%22%3A%20%22Cambridge%22%2C%20%22Latitude%22%3A%2042.3722168027866%2C%20%22Longitude%22%3A%20-71.12188071012497%2C%20%22Name%22%3A%20%22Harvard%20Kennedy%20School%20at%20Bennett%20St%20/%20Eliot%20St%22%2C%20%22Number%22%3A%20%22M32016%22%2C%20%22Public%22%3A%20%22Yes%22%2C%20%22Total%20docks%22%3A%2023%7D%2C%20%22type%22%3A%20%22Feature%22%7D%2C%20%7B%22bbox%22%3A%20%5B-71.119945%2C%2042.379011%2C%20-71.119945%2C%2042.379011%5D%2C%20%22geometry%22%3A%20%7B%22coordinates%22%3A%20%5B-71.119945%2C%2042.379011%5D%2C%20%22type%22%3A%20%22Point%22%7D%2C%20%22id%22%3A%20%22156%22%2C%20%22properties%22%3A%20%7B%22District%22%3A%20%22Cambridge%22%2C%20%22Latitude%22%3A%2042.379011%2C%20%22Longitude%22%3A%20-71.119945%2C%20%22Name%22%3A%20%22Harvard%20Law%20School%20at%20Mass%20Ave%20/%20Jarvis%20St%22%2C%20%22Number%22%3A%20%22M32020%22%2C%20%22Public%22%3A%20%22Yes%22%2C%20%22Total%20docks%22%3A%2019%7D%2C%20%22type%22%3A%20%22Feature%22%7D%2C%20%7B%22bbox%22%3A%20%5B-71.120886%2C%2042.373231%2C%20-71.120886%2C%2042.373231%5D%2C%20%22geometry%22%3A%20%7B%22coordinates%22%3A%20%5B-71.120886%2C%2042.373231%5D%2C%20%22type%22%3A%20%22Point%22%7D%2C%20%22id%22%3A%20%22157%22%2C%20%22properties%22%3A%20%7B%22District%22%3A%20%22Cambridge%22%2C%20%22Latitude%22%3A%2042.373231%2C%20%22Longitude%22%3A%20-71.120886%2C%20%22Name%22%3A%20%22Harvard%20Square%20at%20Brattle%20St%20/%20Eliot%20St%22%2C%20%22Number%22%3A%20%22M32017%22%2C%20%22Public%22%3A%20%22Yes%22%2C%20%22Total%20docks%22%3A%2015%7D%2C%20%22type%22%3A%20%22Feature%22%7D%2C%20%7B%22bbox%22%3A%20%5B-71.118579%2C%2042.373268%2C%20-71.118579%2C%2042.373268%5D%2C%20%22geometry%22%3A%20%7B%22coordinates%22%3A%20%5B-71.118579%2C%2042.373268%5D%2C%20%22type%22%3A%20%22Point%22%7D%2C%20%22id%22%3A%20%22158%22%2C%20%22properties%22%3A%20%7B%22District%22%3A%20%22Cambridge%22%2C%20%22Latitude%22%3A%2042.373268%2C%20%22Longitude%22%3A%20-71.118579%2C%20%22Name%22%3A%20%22Harvard%20Square%20at%20Mass%20Ave/%20Dunster%22%2C%20%22Number%22%3A%20%22M32018%22%2C%20%22Public%22%3A%20%22Yes%22%2C%20%22Total%20docks%22%3A%2019%7D%2C%20%22type%22%3A%20%22Feature%22%7D%2C%20%7B%22bbox%22%3A%20%5B-71.09522221614498%2C%2042.36599432867437%2C%20-71.09522221614498%2C%2042.36599432867437%5D%2C%20%22geometry%22%3A%20%7B%22coordinates%22%3A%20%5B-71.09522221614498%2C%2042.36599432867437%5D%2C%20%22type%22%3A%20%22Point%22%7D%2C%20%22id%22%3A%20%22159%22%2C%20%22properties%22%3A%20%7B%22District%22%3A%20%22Cambridge%22%2C%20%22Latitude%22%3A%2042.36599432867437%2C%20%22Longitude%22%3A%20-71.09522221614498%2C%20%22Name%22%3A%20%22Harvard%20St%20at%20Greene-Rose%20Heritage%20Park%22%2C%20%22Number%22%3A%20%22M32055%22%2C%20%22Public%22%3A%20%22Yes%22%2C%20%22Total%20docks%22%3A%2019%7D%2C%20%22type%22%3A%20%22Feature%22%7D%2C%20%7B%22bbox%22%3A%20%5B-71.116865%2C%2042.377945%2C%20-71.116865%2C%2042.377945%5D%2C%20%22geometry%22%3A%20%7B%22coordinates%22%3A%20%5B-71.116865%2C%2042.377945%5D%2C%20%22type%22%3A%20%22Point%22%7D%2C%20%22id%22%3A%20%22160%22%2C%20%22properties%22%3A%20%7B%22District%22%3A%20%22Cambridge%22%2C%20%22Latitude%22%3A%2042.377945%2C%20%22Longitude%22%3A%20-71.116865%2C%20%22Name%22%3A%20%22Harvard%20University%20/%20SEAS%20Cruft-Pierce%20Halls%20at%2029%20Oxford%20St%22%2C%20%22Number%22%3A%20%22M32023%22%2C%20%22Public%22%3A%20%22Yes%22%2C%20%22Total%20docks%22%3A%2017%7D%2C%20%22type%22%3A%20%22Feature%22%7D%2C%20%7B%22bbox%22%3A%20%5B-71.114025%2C%2042.376369%2C%20-71.114025%2C%2042.376369%5D%2C%20%22geometry%22%3A%20%7B%22coordinates%22%3A%20%5B-71.114025%2C%2042.376369%5D%2C%20%22type%22%3A%20%22Point%22%7D%2C%20%22id%22%3A%20%22161%22%2C%20%22properties%22%3A%20%7B%22District%22%3A%20%22Cambridge%22%2C%20%22Latitude%22%3A%2042.376369%2C%20%22Longitude%22%3A%20-71.114025%2C%20%22Name%22%3A%20%22Harvard%20University%20Gund%20Hall%20at%20Quincy%20St%20/%20Kirkland%20S%22%2C%20%22Number%22%3A%20%22M32021%22%2C%20%22Public%22%3A%20%22Yes%22%2C%20%22Total%20docks%22%3A%2015%7D%2C%20%22type%22%3A%20%22Feature%22%7D%2C%20%7B%22bbox%22%3A%20%5B-71.114214%2C%2042.366621%2C%20-71.114214%2C%2042.366621%5D%2C%20%22geometry%22%3A%20%7B%22coordinates%22%3A%20%5B-71.114214%2C%2042.366621%5D%2C%20%22type%22%3A%20%22Point%22%7D%2C%20%22id%22%3A%20%22162%22%2C%20%22properties%22%3A%20%7B%22District%22%3A%20%22Cambridge%22%2C%20%22Latitude%22%3A%2042.366621%2C%20%22Longitude%22%3A%20-71.114214%2C%20%22Name%22%3A%20%22Harvard%20University%20Housing%20-%20115%20Putnam%20Ave%20at%20Peabody%20Terrace%22%2C%20%22Number%22%3A%20%22M32014%22%2C%20%22Public%22%3A%20%22Yes%22%2C%20%22Total%20docks%22%3A%2015%7D%2C%20%22type%22%3A%20%22Feature%22%7D%2C%20%7B%22bbox%22%3A%20%5B-71.125107%2C%2042.380287%2C%20-71.125107%2C%2042.380287%5D%2C%20%22geometry%22%3A%20%7B%22coordinates%22%3A%20%5B-71.125107%2C%2042.380287%5D%2C%20%22type%22%3A%20%22Point%22%7D%2C%20%22id%22%3A%20%22163%22%2C%20%22properties%22%3A%20%7B%22District%22%3A%20%22Cambridge%22%2C%20%22Latitude%22%3A%2042.380287%2C%20%22Longitude%22%3A%20-71.125107%2C%20%22Name%22%3A%20%22Harvard%20University%20Radcliffe%20Quadrangle%20at%20Shepard%20St%20/%20Garden%20St%22%2C%20%22Number%22%3A%20%22M32024%22%2C%20%22Public%22%3A%20%22Yes%22%2C%20%22Total%20docks%22%3A%2019%7D%2C%20%22type%22%3A%20%22Feature%22%7D%2C%20%7B%22bbox%22%3A%20%5B-71.11714124679565%2C%2042.36919031768079%2C%20-71.11714124679565%2C%2042.36919031768079%5D%2C%20%22geometry%22%3A%20%7B%22coordinates%22%3A%20%5B-71.11714124679565%2C%2042.36919031768079%5D%2C%20%22type%22%3A%20%22Point%22%7D%2C%20%22id%22%3A%20%22164%22%2C%20%22properties%22%3A%20%7B%22District%22%3A%20%22Cambridge%22%2C%20%22Latitude%22%3A%2042.36919031768079%2C%20%22Longitude%22%3A%20-71.11714124679565%2C%20%22Name%22%3A%20%22Harvard%20University%20River%20Houses%20at%20DeWolfe%20St%20/%20Cowperthwaite%20St%22%2C%20%22Number%22%3A%20%22M32038%22%2C%20%22Public%22%3A%20%22Yes%22%2C%20%22Total%20docks%22%3A%2019%7D%2C%20%22type%22%3A%20%22Feature%22%7D%2C%20%7B%22bbox%22%3A%20%5B-71.056605%2C%2042.377022%2C%20-71.056605%2C%2042.377022%5D%2C%20%22geometry%22%3A%20%7B%22coordinates%22%3A%20%5B-71.056605%2C%2042.377022%5D%2C%20%22type%22%3A%20%22Point%22%7D%2C%20%22id%22%3A%20%22165%22%2C%20%22properties%22%3A%20%7B%22District%22%3A%20%22Boston%22%2C%20%22Latitude%22%3A%2042.377022%2C%20%22Longitude%22%3A%20-71.056605%2C%20%22Name%22%3A%20%22Hayes%20Square%20-%20Vine%20St%20at%20Moulton%20St%22%2C%20%22Number%22%3A%20%22D32026%22%2C%20%22Public%22%3A%20%22Yes%22%2C%20%22Total%20docks%22%3A%2019%7D%2C%20%22type%22%3A%20%22Feature%22%7D%2C%20%7B%22bbox%22%3A%20%5B-71.12177595532557%2C%2042.32538435700882%2C%20-71.12177595532557%2C%2042.32538435700882%5D%2C%20%22geometry%22%3A%20%7B%22coordinates%22%3A%20%5B-71.12177595532557%2C%2042.32538435700882%5D%2C%20%22type%22%3A%20%22Point%22%7D%2C%20%22id%22%3A%20%22166%22%2C%20%22properties%22%3A%20%7B%22District%22%3A%20%22Brookline%22%2C%20%22Latitude%22%3A%2042.32538435700882%2C%20%22Longitude%22%3A%20-71.12177595532557%2C%20%22Name%22%3A%20%22High%20St%20at%20Cypress%20St%22%2C%20%22Number%22%3A%20%22K32010%22%2C%20%22Public%22%3A%20%22Yes%22%2C%20%22Total%20docks%22%3A%2015%7D%2C%20%22type%22%3A%20%22Feature%22%7D%2C%20%7B%22bbox%22%3A%20%5B-71.10286116600037%2C%2042.3374174845973%2C%20-71.10286116600037%2C%2042.3374174845973%5D%2C%20%22geometry%22%3A%20%7B%22coordinates%22%3A%20%5B-71.10286116600037%2C%2042.3374174845973%5D%2C%20%22type%22%3A%20%22Point%22%7D%2C%20%22id%22%3A%20%22167%22%2C%20%22properties%22%3A%20%7B%22District%22%3A%20%22Boston%22%2C%20%22Latitude%22%3A%2042.3374174845973%2C%20%22Longitude%22%3A%20-71.10286116600037%2C%20%22Name%22%3A%20%22HMS/HSPH%20-%20Avenue%20Louis%20Pasteur%20at%20Longwood%20Ave%22%2C%20%22Number%22%3A%20%22B32003%22%2C%20%22Public%22%3A%20%22Yes%22%2C%20%22Total%20docks%22%3A%2021%7D%2C%20%22type%22%3A%20%22Feature%22%7D%2C%20%7B%22bbox%22%3A%20%5B-71.12852452327388%2C%2042.36027370454934%2C%20-71.12852452327388%2C%2042.36027370454934%5D%2C%20%22geometry%22%3A%20%7B%22coordinates%22%3A%20%5B-71.12852452327388%2C%2042.36027370454934%5D%2C%20%22type%22%3A%20%22Point%22%7D%2C%20%22id%22%3A%20%22168%22%2C%20%22properties%22%3A%20%7B%22District%22%3A%20%22Boston%22%2C%20%22Latitude%22%3A%2042.36027370454934%2C%20%22Longitude%22%3A%20-71.12852452327388%2C%20%22Name%22%3A%20%22Honan%20Library%22%2C%20%22Number%22%3A%20%22A32040%22%2C%20%22Public%22%3A%20%22Yes%22%2C%20%22Total%20docks%22%3A%2015%7D%2C%20%22type%22%3A%20%22Feature%22%7D%2C%20%7B%22bbox%22%3A%20%5B-71.0988699646623%2C%2042.336585554561154%2C%20-71.0988699646623%2C%2042.336585554561154%5D%2C%20%22geometry%22%3A%20%7B%22coordinates%22%3A%20%5B-71.0988699646623%2C%2042.336585554561154%5D%2C%20%22type%22%3A%20%22Point%22%7D%2C%20%22id%22%3A%20%22169%22%2C%20%22properties%22%3A%20%7B%22District%22%3A%20%22Boston%22%2C%20%22Latitude%22%3A%2042.336585554561154%2C%20%22Longitude%22%3A%20-71.0988699646623%2C%20%22Name%22%3A%20%22Huntington%20Ave%20at%20Mass%20Art%22%2C%20%22Number%22%3A%20%22B32033%22%2C%20%22Public%22%3A%20%22Yes%22%2C%20%22Total%20docks%22%3A%2015%7D%2C%20%22type%22%3A%20%22Feature%22%7D%2C%20%7B%22bbox%22%3A%20%5B-71.13426981498378%2C%2042.381650612901176%2C%20-71.13426981498378%2C%2042.381650612901176%5D%2C%20%22geometry%22%3A%20%7B%22coordinates%22%3A%20%5B-71.13426981498378%2C%2042.381650612901176%5D%2C%20%22type%22%3A%20%22Point%22%7D%2C%20%22id%22%3A%20%22170%22%2C%20%22properties%22%3A%20%7B%22District%22%3A%20%22Cambridge%22%2C%20%22Latitude%22%3A%2042.381650612901176%2C%20%22Longitude%22%3A%20-71.13426981498378%2C%20%22Name%22%3A%20%22Huron%20Ave%20At%20Vassal%20Lane%22%2C%20%22Number%22%3A%20%22M32044%22%2C%20%22Public%22%3A%20%22Yes%22%2C%20%22Total%20docks%22%3A%2019%7D%2C%20%22type%22%3A%20%22Feature%22%7D%2C%20%7B%22bbox%22%3A%20%5B-71.11601199963843%2C%2042.29606704649873%2C%20-71.11601199963843%2C%2042.29606704649873%5D%2C%20%22geometry%22%3A%20%7B%22coordinates%22%3A%20%5B-71.11601199963843%2C%2042.29606704649873%5D%2C%20%22type%22%3A%20%22Point%22%7D%2C%20%22id%22%3A%20%22171%22%2C%20%22properties%22%3A%20%7B%22District%22%3A%20%22Boston%22%2C%20%22Latitude%22%3A%2042.29606704649873%2C%20%22Longitude%22%3A%20-71.11601199963843%2C%20%22Name%22%3A%20%22Hyde%20Park%20Ave%20at%20Walk%20Hill%20St%22%2C%20%22Number%22%3A%20%22C32089%22%2C%20%22Public%22%3A%20%22Yes%22%2C%20%22Total%20docks%22%3A%2015%7D%2C%20%22type%22%3A%20%22Feature%22%7D%2C%20%7B%22bbox%22%3A%20%5B-71.10984160567114%2C%2042.32176525723952%2C%20-71.10984160567114%2C%2042.32176525723952%5D%2C%20%22geometry%22%3A%20%7B%22coordinates%22%3A%20%5B-71.10984160567114%2C%2042.32176525723952%5D%2C%20%22type%22%3A%20%22Point%22%7D%2C%20%22id%22%3A%20%22172%22%2C%20%22properties%22%3A%20%7B%22District%22%3A%20%22Boston%22%2C%20%22Latitude%22%3A%2042.32176525723952%2C%20%22Longitude%22%3A%20-71.10984160567114%2C%20%22Name%22%3A%20%22Hyde%20Square%20-%20Barbara%20St%20at%20Centre%20St%22%2C%20%22Number%22%3A%20%22E32003%22%2C%20%22Public%22%3A%20%22Yes%22%2C%20%22Total%20docks%22%3A%2015%7D%2C%20%22type%22%3A%20%22Feature%22%7D%2C%20%7B%22bbox%22%3A%20%5B-71.028664%2C%2042.344827%2C%20-71.028664%2C%2042.344827%5D%2C%20%22geometry%22%3A%20%7B%22coordinates%22%3A%20%5B-71.028664%2C%2042.344827%5D%2C%20%22type%22%3A%20%22Point%22%7D%2C%20%22id%22%3A%20%22173%22%2C%20%22properties%22%3A%20%7B%22District%22%3A%20%22Boston%22%2C%20%22Latitude%22%3A%2042.344827%2C%20%22Longitude%22%3A%20-71.028664%2C%20%22Name%22%3A%20%22ID%20Building%20East%22%2C%20%22Number%22%3A%20%22C32020%22%2C%20%22Public%22%3A%20%22Yes%22%2C%20%22Total%20docks%22%3A%2017%7D%2C%20%22type%22%3A%20%22Feature%22%7D%2C%20%7B%22bbox%22%3A%20%5B-71.031614%2C%2042.344796%2C%20-71.031614%2C%2042.344796%5D%2C%20%22geometry%22%3A%20%7B%22coordinates%22%3A%20%5B-71.031614%2C%2042.344796%5D%2C%20%22type%22%3A%20%22Point%22%7D%2C%20%22id%22%3A%20%22174%22%2C%20%22properties%22%3A%20%7B%22District%22%3A%20%22Boston%22%2C%20%22Latitude%22%3A%2042.344796%2C%20%22Longitude%22%3A%20-71.031614%2C%20%22Name%22%3A%20%22ID%20Building%20West%22%2C%20%22Number%22%3A%20%22C32021%22%2C%20%22Public%22%3A%20%22Yes%22%2C%20%22Total%20docks%22%3A%2019%7D%2C%20%22type%22%3A%20%22Feature%22%7D%2C%20%7B%22bbox%22%3A%20%5B-71.063187%2C%2042.345901%2C%20-71.063187%2C%2042.345901%5D%2C%20%22geometry%22%3A%20%7B%22coordinates%22%3A%20%5B-71.063187%2C%2042.345901%5D%2C%20%22type%22%3A%20%22Point%22%7D%2C%20%22id%22%3A%20%22175%22%2C%20%22properties%22%3A%20%7B%22District%22%3A%20%22Boston%22%2C%20%22Latitude%22%3A%2042.345901%2C%20%22Longitude%22%3A%20-71.063187%2C%20%22Name%22%3A%20%22Ink%20Block%20-%20Harrison%20Ave%20at%20Herald%20St%22%2C%20%22Number%22%3A%20%22C32025%22%2C%20%22Public%22%3A%20%22Yes%22%2C%20%22Total%20docks%22%3A%2015%7D%2C%20%22type%22%3A%20%22Feature%22%7D%2C%20%7B%22bbox%22%3A%20%5B-71.1001574621514%2C%2042.37438408515815%2C%20-71.1001574621514%2C%2042.37438408515815%5D%2C%20%22geometry%22%3A%20%7B%22coordinates%22%3A%20%5B-71.1001574621514%2C%2042.37438408515815%5D%2C%20%22type%22%3A%20%22Point%22%7D%2C%20%22id%22%3A%20%22176%22%2C%20%22properties%22%3A%20%7B%22District%22%3A%20%22Cambridge%22%2C%20%22Latitude%22%3A%2042.37438408515815%2C%20%22Longitude%22%3A%20-71.1001574621514%2C%20%22Name%22%3A%20%22Inman%20Square%20at%20Springfield%20St.%22%2C%20%22Number%22%3A%20%22M32062%22%2C%20%22Public%22%3A%20%22Yes%22%2C%20%22Total%20docks%22%3A%2019%7D%2C%20%22type%22%3A%20%22Feature%22%7D%2C%20%7B%22bbox%22%3A%20%5B-71.124565%2C%2042.363732%2C%20-71.124565%2C%2042.363732%5D%2C%20%22geometry%22%3A%20%7B%22coordinates%22%3A%20%5B-71.124565%2C%2042.363732%5D%2C%20%22type%22%3A%20%22Point%22%7D%2C%20%22id%22%3A%20%22177%22%2C%20%22properties%22%3A%20%7B%22District%22%3A%20%22Boston%22%2C%20%22Latitude%22%3A%2042.363732%2C%20%22Longitude%22%3A%20-71.124565%2C%20%22Name%22%3A%20%22Innovation%20Lab%20-%20125%20Western%20Ave%20at%20Batten%20Way%22%2C%20%22Number%22%3A%20%22A32011%22%2C%20%22Public%22%3A%20%22Yes%22%2C%20%22Total%20docks%22%3A%2015%7D%2C%20%22type%22%3A%20%22Feature%22%7D%2C%20%7B%22bbox%22%3A%20%5B-71.10014140605927%2C%2042.32293117195949%2C%20-71.10014140605927%2C%2042.32293117195949%5D%2C%20%22geometry%22%3A%20%7B%22coordinates%22%3A%20%5B-71.10014140605927%2C%2042.32293117195949%5D%2C%20%22type%22%3A%20%22Point%22%7D%2C%20%22id%22%3A%20%22178%22%2C%20%22properties%22%3A%20%7B%22District%22%3A%20%22Boston%22%2C%20%22Latitude%22%3A%2042.32293117195949%2C%20%22Longitude%22%3A%20-71.10014140605927%2C%20%22Name%22%3A%20%22Jackson%20Square%20T%20Stop%22%2C%20%22Number%22%3A%20%22E32006%22%2C%20%22Public%22%3A%20%22Yes%22%2C%20%22Total%20docks%22%3A%2018%7D%2C%20%22type%22%3A%20%22Feature%22%7D%2C%20%7B%22bbox%22%3A%20%5B-71.11570891001975%2C%2042.3060456272408%2C%20-71.11570891001975%2C%2042.3060456272408%5D%2C%20%22geometry%22%3A%20%7B%22coordinates%22%3A%20%5B-71.11570891001975%2C%2042.3060456272408%5D%2C%20%22type%22%3A%20%22Point%22%7D%2C%20%22id%22%3A%20%22179%22%2C%20%22properties%22%3A%20%7B%22District%22%3A%20%22Boston%22%2C%20%22Latitude%22%3A%2042.3060456272408%2C%20%22Longitude%22%3A%20-71.11570891001975%2C%20%22Name%22%3A%20%22Jamaica%20St%20at%20South%20St%22%2C%20%22Number%22%3A%20%22D32052%22%2C%20%22Public%22%3A%20%22Yes%22%2C%20%22Total%20docks%22%3A%2019%7D%2C%20%22type%22%3A%20%22Feature%22%7D%2C%20%7B%22bbox%22%3A%20%5B-71.128374%2C%2042.346563%2C%20-71.128374%2C%2042.346563%5D%2C%20%22geometry%22%3A%20%7B%22coordinates%22%3A%20%5B-71.128374%2C%2042.346563%5D%2C%20%22type%22%3A%20%22Point%22%7D%2C%20%22id%22%3A%20%22180%22%2C%20%22properties%22%3A%20%7B%22District%22%3A%20%22Brookline%22%2C%20%22Latitude%22%3A%2042.346563%2C%20%22Longitude%22%3A%20-71.128374%2C%20%22Name%22%3A%20%22JFK%20Crossing%20at%20Harvard%20St.%20/%20Thorndike%20St.%22%2C%20%22Number%22%3A%20%22K32004%22%2C%20%22Public%22%3A%20%22Yes%22%2C%20%22Total%20docks%22%3A%2015%7D%2C%20%22type%22%3A%20%22Feature%22%7D%2C%20%7B%22bbox%22%3A%20%5B-71.05118036270142%2C%2042.32033973515723%2C%20-71.05118036270142%2C%2042.32033973515723%5D%2C%20%22geometry%22%3A%20%7B%22coordinates%22%3A%20%5B-71.05118036270142%2C%2042.32033973515723%5D%2C%20%22type%22%3A%20%22Point%22%7D%2C%20%22id%22%3A%20%22181%22%2C%20%22properties%22%3A%20%7B%22District%22%3A%20%22Boston%22%2C%20%22Latitude%22%3A%2042.32033973515723%2C%20%22Longitude%22%3A%20-71.05118036270142%2C%20%22Name%22%3A%20%22JFK/UMass%20T%20Stop%22%2C%20%22Number%22%3A%20%22C32013%22%2C%20%22Public%22%3A%20%22Yes%22%2C%20%22Total%20docks%22%3A%2015%7D%2C%20%22type%22%3A%20%22Feature%22%7D%2C%20%7B%22bbox%22%3A%20%5B-71.08216792345047%2C%2042.36356015842989%2C%20-71.08216792345047%2C%2042.36356015842989%5D%2C%20%22geometry%22%3A%20%7B%22coordinates%22%3A%20%5B-71.08216792345047%2C%2042.36356015842989%5D%2C%20%22type%22%3A%20%22Point%22%7D%2C%20%22id%22%3A%20%22182%22%2C%20%22properties%22%3A%20%7B%22District%22%3A%20%22Cambridge%22%2C%20%22Latitude%22%3A%2042.36356015842989%2C%20%22Longitude%22%3A%20-71.08216792345047%2C%20%22Name%22%3A%20%22Kendall%20Street%22%2C%20%22Number%22%3A%20%22M32032%22%2C%20%22Public%22%3A%20%22Yes%22%2C%20%22Total%20docks%22%3A%2015%7D%2C%20%22type%22%3A%20%22Feature%22%7D%2C%20%7B%22bbox%22%3A%20%5B-71.08495473861694%2C%2042.3624278429124%2C%20-71.08495473861694%2C%2042.3624278429124%5D%2C%20%22geometry%22%3A%20%7B%22coordinates%22%3A%20%5B-71.08495473861694%2C%2042.3624278429124%5D%2C%20%22type%22%3A%20%22Point%22%7D%2C%20%22id%22%3A%20%22183%22%2C%20%22properties%22%3A%20%7B%22District%22%3A%20%22Cambridge%22%2C%20%22Latitude%22%3A%2042.3624278429124%2C%20%22Longitude%22%3A%20-71.08495473861694%2C%20%22Name%22%3A%20%22Kendall%20T%22%2C%20%22Number%22%3A%20%22M32004%22%2C%20%22Public%22%3A%20%22Yes%22%2C%20%22Total%20docks%22%3A%2023%7D%2C%20%22type%22%3A%20%22Feature%22%7D%2C%20%7B%22bbox%22%3A%20%5B-71.097009%2C%2042.348706%2C%20-71.097009%2C%2042.348706%5D%2C%20%22geometry%22%3A%20%7B%22coordinates%22%3A%20%5B-71.097009%2C%2042.348706%5D%2C%20%22type%22%3A%20%22Point%22%7D%2C%20%22id%22%3A%20%22184%22%2C%20%22properties%22%3A%20%7B%22District%22%3A%20%22Boston%22%2C%20%22Latitude%22%3A%2042.348706%2C%20%22Longitude%22%3A%20-71.097009%2C%20%22Name%22%3A%20%22Kenmore%20Square%22%2C%20%22Number%22%3A%20%22B32010%22%2C%20%22Public%22%3A%20%22Yes%22%2C%20%22Total%20docks%22%3A%2027%7D%2C%20%22type%22%3A%20%22Feature%22%7D%2C%20%7B%22bbox%22%3A%20%5B-71.08579014980933%2C%2042.36955297756508%2C%20-71.08579014980933%2C%2042.36955297756508%5D%2C%20%22geometry%22%3A%20%7B%22coordinates%22%3A%20%5B-71.08579014980933%2C%2042.36955297756508%5D%2C%20%22type%22%3A%20%22Point%22%7D%2C%20%22id%22%3A%20%22185%22%2C%20%22properties%22%3A%20%7B%22District%22%3A%20%22Cambridge%22%2C%20%22Latitude%22%3A%2042.36955297756508%2C%20%22Longitude%22%3A%20-71.08579014980933%2C%20%22Name%22%3A%20%22Kennedy-Longfellow%20School%20158%20Spring%20St%22%2C%20%22Number%22%3A%20%22M32065%22%2C%20%22Public%22%3A%20%22Yes%22%2C%20%22Total%20docks%22%3A%2019%7D%2C%20%22type%22%3A%20%22Feature%22%7D%2C%20%7B%22bbox%22%3A%20%5B-71.10057324171066%2C%2042.36346469304347%2C%20-71.10057324171066%2C%2042.36346469304347%5D%2C%20%22geometry%22%3A%20%7B%22coordinates%22%3A%20%5B-71.10057324171066%2C%2042.36346469304347%5D%2C%20%22type%22%3A%20%22Point%22%7D%2C%20%22id%22%3A%20%22186%22%2C%20%22properties%22%3A%20%7B%22District%22%3A%20%22Cambridge%22%2C%20%22Latitude%22%3A%2042.36346469304347%2C%20%22Longitude%22%3A%20-71.10057324171066%2C%20%22Name%22%3A%20%22Lafayette%20Square%20at%20Mass%20Ave%20/%20Main%20St%20/%20Columbia%20St%22%2C%20%22Number%22%3A%20%22M32009%22%2C%20%22Public%22%3A%20%22Yes%22%2C%20%22Total%20docks%22%3A%2015%7D%2C%20%22type%22%3A%20%22Feature%22%7D%2C%20%7B%22bbox%22%3A%20%5B-71.076529%2C%2042.370677%2C%20-71.076529%2C%2042.370677%5D%2C%20%22geometry%22%3A%20%7B%22coordinates%22%3A%20%5B-71.076529%2C%2042.370677%5D%2C%20%22type%22%3A%20%22Point%22%7D%2C%20%22id%22%3A%20%22187%22%2C%20%22properties%22%3A%20%7B%22District%22%3A%20%22Cambridge%22%2C%20%22Latitude%22%3A%2042.370677%2C%20%22Longitude%22%3A%20-71.076529%2C%20%22Name%22%3A%20%22Lechmere%20Station%20at%20Cambridge%20St%20/%20First%20St%22%2C%20%22Number%22%3A%20%22M32001%22%2C%20%22Public%22%3A%20%22Yes%22%2C%20%22Total%20docks%22%3A%2019%7D%2C%20%22type%22%3A%20%22Feature%22%7D%2C%20%7B%22bbox%22%3A%20%5B-71.11901879310608%2C%2042.38674802045056%2C%20-71.11901879310608%2C%2042.38674802045056%5D%2C%20%22geometry%22%3A%20%7B%22coordinates%22%3A%20%5B-71.11901879310608%2C%2042.38674802045056%5D%2C%20%22type%22%3A%20%22Point%22%7D%2C%20%22id%22%3A%20%22188%22%2C%20%22properties%22%3A%20%7B%22District%22%3A%20%22Cambridge%22%2C%20%22Latitude%22%3A%2042.38674802045056%2C%20%22Longitude%22%3A%20-71.11901879310608%2C%20%22Name%22%3A%20%22Lesley%20University%22%2C%20%22Number%22%3A%20%22M32039%22%2C%20%22Public%22%3A%20%22Yes%22%2C%20%22Total%20docks%22%3A%2015%7D%2C%20%22type%22%3A%20%22Feature%22%7D%2C%20%7B%22bbox%22%3A%20%5B-71.050877%2C%2042.363871%2C%20-71.050877%2C%2042.363871%5D%2C%20%22geometry%22%3A%20%7B%22coordinates%22%3A%20%5B-71.050877%2C%2042.363871%5D%2C%20%22type%22%3A%20%22Point%22%7D%2C%20%22id%22%3A%20%22189%22%2C%20%22properties%22%3A%20%7B%22District%22%3A%20%22Boston%22%2C%20%22Latitude%22%3A%2042.363871%2C%20%22Longitude%22%3A%20-71.050877%2C%20%22Name%22%3A%20%22Lewis%20Wharf%20at%20Atlantic%20Ave%22%2C%20%22Number%22%3A%20%22D32006%22%2C%20%22Public%22%3A%20%22Yes%22%2C%20%22Total%20docks%22%3A%2019%7D%2C%20%22type%22%3A%20%22Feature%22%7D%2C%20%7B%22bbox%22%3A%20%5B-71.130516%2C%2042.397828%2C%20-71.130516%2C%2042.397828%5D%2C%20%22geometry%22%3A%20%7B%22coordinates%22%3A%20%5B-71.130516%2C%2042.397828%5D%2C%20%22type%22%3A%20%22Point%22%7D%2C%20%22id%22%3A%20%22190%22%2C%20%22properties%22%3A%20%7B%22District%22%3A%20%22Cambridge%22%2C%20%22Latitude%22%3A%2042.397828%2C%20%22Longitude%22%3A%20-71.130516%2C%20%22Name%22%3A%20%22Linear%20Park%20-%20Mass.%20Ave.%20at%20Cameron%20Ave.%20%22%2C%20%22Number%22%3A%20%22M32025%22%2C%20%22Public%22%3A%20%22Yes%22%2C%20%22Total%20docks%22%3A%2019%7D%2C%20%22type%22%3A%20%22Feature%22%7D%2C%20%7B%22bbox%22%3A%20%5B-71.1065%2C%2042.338629%2C%20-71.1065%2C%2042.338629%5D%2C%20%22geometry%22%3A%20%7B%22coordinates%22%3A%20%5B-71.1065%2C%2042.338629%5D%2C%20%22type%22%3A%20%22Point%22%7D%2C%20%22id%22%3A%20%22191%22%2C%20%22properties%22%3A%20%7B%22District%22%3A%20%22Boston%22%2C%20%22Latitude%22%3A%2042.338629%2C%20%22Longitude%22%3A%20-71.1065%2C%20%22Name%22%3A%20%22Longwood%20Ave%20at%20Binney%20St%22%2C%20%22Number%22%3A%20%22A32004%22%2C%20%22Public%22%3A%20%22Yes%22%2C%20%22Total%20docks%22%3A%2015%7D%2C%20%22type%22%3A%20%22Feature%22%7D%2C%20%7B%22bbox%22%3A%20%5B-71.1138716340065%2C%2042.357218503176526%2C%20-71.1138716340065%2C%2042.357218503176526%5D%2C%20%22geometry%22%3A%20%7B%22coordinates%22%3A%20%5B-71.1138716340065%2C%2042.357218503176526%5D%2C%20%22type%22%3A%20%22Point%22%7D%2C%20%22id%22%3A%20%22192%22%2C%20%22properties%22%3A%20%7B%22District%22%3A%20%22Cambridge%22%2C%20%22Latitude%22%3A%2042.357218503176526%2C%20%22Longitude%22%3A%20-71.1138716340065%2C%20%22Name%22%3A%20%22Lower%20Cambridgeport%20at%20Magazine%20St%20/%20Riverside%20Rd%22%2C%20%22Number%22%3A%20%22M32022%22%2C%20%22Public%22%3A%20%22Yes%22%2C%20%22Total%20docks%22%3A%2019%7D%2C%20%22type%22%3A%20%22Feature%22%7D%2C%20%7B%22bbox%22%3A%20%5B-71.107818%2C%2042.398365%2C%20-71.107818%2C%2042.398365%5D%2C%20%22geometry%22%3A%20%7B%22coordinates%22%3A%20%5B-71.107818%2C%2042.398365%5D%2C%20%22type%22%3A%20%22Point%22%7D%2C%20%22id%22%3A%20%22193%22%2C%20%22properties%22%3A%20%7B%22District%22%3A%20%22Somerville%22%2C%20%22Latitude%22%3A%2042.398365%2C%20%22Longitude%22%3A%20-71.107818%2C%20%22Name%22%3A%20%22Magoun%20Square%20at%20Trum%20Field%22%2C%20%22Number%22%3A%20%22S32013%22%2C%20%22Public%22%3A%20%22Yes%22%2C%20%22Total%20docks%22%3A%2015%7D%2C%20%22type%22%3A%20%22Feature%22%7D%2C%20%7B%22bbox%22%3A%20%5B-71.064608%2C%2042.375603%2C%20-71.064608%2C%2042.375603%5D%2C%20%22geometry%22%3A%20%7B%22coordinates%22%3A%20%5B-71.064608%2C%2042.375603%5D%2C%20%22type%22%3A%20%22Point%22%7D%2C%20%22id%22%3A%20%22194%22%2C%20%22properties%22%3A%20%7B%22District%22%3A%20%22Boston%22%2C%20%22Latitude%22%3A%2042.375603%2C%20%22Longitude%22%3A%20-71.064608%2C%20%22Name%22%3A%20%22Main%20St%20at%20Austin%20St%22%2C%20%22Number%22%3A%20%22D32020%22%2C%20%22Public%22%3A%20%22Yes%22%2C%20%22Total%20docks%22%3A%2011%7D%2C%20%22type%22%3A%20%22Feature%22%7D%2C%20%7B%22bbox%22%3A%20%5B-71.070629%2C%2042.380857%2C%20-71.070629%2C%2042.380857%5D%2C%20%22geometry%22%3A%20%7B%22coordinates%22%3A%20%5B-71.070629%2C%2042.380857%5D%2C%20%22type%22%3A%20%22Point%22%7D%2C%20%22id%22%3A%20%22195%22%2C%20%22properties%22%3A%20%7B%22District%22%3A%20%22Boston%22%2C%20%22Latitude%22%3A%2042.380857%2C%20%22Longitude%22%3A%20-71.070629%2C%20%22Name%22%3A%20%22Main%20St%20at%20Baldwin%20St%22%2C%20%22Number%22%3A%20%22D32036%22%2C%20%22Public%22%3A%20%22Yes%22%2C%20%22Total%20docks%22%3A%2019%7D%2C%20%22type%22%3A%20%22Feature%22%7D%2C%20%7B%22bbox%22%3A%20%5B-71.06266822675025%2C%2042.41072713868097%2C%20-71.06266822675025%2C%2042.41072713868097%5D%2C%20%22geometry%22%3A%20%7B%22coordinates%22%3A%20%5B-71.06266822675025%2C%2042.41072713868097%5D%2C%20%22type%22%3A%20%22Point%22%7D%2C%20%22id%22%3A%20%22196%22%2C%20%22properties%22%3A%20%7B%22District%22%3A%20%22Everett%22%2C%20%22Latitude%22%3A%2042.41072713868097%2C%20%22Longitude%22%3A%20-71.06266822675025%2C%20%22Name%22%3A%20%22Main%20St%20at%20Beacon%20St%22%2C%20%22Number%22%3A%20%22V32010%22%2C%20%22Public%22%3A%20%22Yes%22%2C%20%22Total%20docks%22%3A%2015%7D%2C%20%22type%22%3A%20%22Feature%22%7D%2C%20%7B%22bbox%22%3A%20%5B-71.06383498767171%2C%2042.374878467440965%2C%20-71.06383498767171%2C%2042.374878467440965%5D%2C%20%22geometry%22%3A%20%7B%22coordinates%22%3A%20%5B-71.06383498767171%2C%2042.374878467440965%5D%2C%20%22type%22%3A%20%22Point%22%7D%2C%20%22id%22%3A%20%22197%22%2C%20%22properties%22%3A%20%7B%22District%22%3A%20%22Boston%22%2C%20%22Latitude%22%3A%2042.374878467440965%2C%20%22Longitude%22%3A%20-71.06383498767171%2C%20%22Name%22%3A%20%22Main%20St%20at%20Thompson%20Sq%22%2C%20%22Number%22%3A%20%22D32038%22%2C%20%22Public%22%3A%20%22Yes%22%2C%20%22Total%20docks%22%3A%2015%7D%2C%20%22type%22%3A%20%22Feature%22%7D%2C%20%7B%22bbox%22%3A%20%5B-71.0613%2C%2042.40413%2C%20-71.0613%2C%2042.40413%5D%2C%20%22geometry%22%3A%20%7B%22coordinates%22%3A%20%5B-71.0613%2C%2042.40413%5D%2C%20%22type%22%3A%20%22Point%22%7D%2C%20%22id%22%3A%20%22198%22%2C%20%22properties%22%3A%20%7B%22District%22%3A%20%22Everett%22%2C%20%22Latitude%22%3A%2042.40413%2C%20%22Longitude%22%3A%20-71.0613%2C%20%22Name%22%3A%20%22Main%20Street%20at%20Carter%20Street%22%2C%20%22Number%22%3A%20%22V32002%22%2C%20%22Public%22%3A%20%22Yes%22%2C%20%22Total%20docks%22%3A%2015%7D%2C%20%22type%22%3A%20%22Feature%22%7D%2C%20%7B%22bbox%22%3A%20%5B-71.12133350232398%2C%2042.33978052668946%2C%20-71.12133350232398%2C%2042.33978052668946%5D%2C%20%22geometry%22%3A%20%7B%22coordinates%22%3A%20%5B-71.12133350232398%2C%2042.33978052668946%5D%2C%20%22type%22%3A%20%22Point%22%7D%2C%20%22id%22%3A%20%22199%22%2C%20%22properties%22%3A%20%7B%22District%22%3A%20%22Brookline%22%2C%20%22Latitude%22%3A%2042.33978052668946%2C%20%22Longitude%22%3A%20-71.12133350232398%2C%20%22Name%22%3A%20%22Marion%20St%20at%20Harvard%20St%22%2C%20%22Number%22%3A%20%22K32012%22%2C%20%22Public%22%3A%20%22Yes%22%2C%20%22Total%20docks%22%3A%2015%7D%2C%20%22type%22%3A%20%22Feature%22%7D%2C%20%7B%22bbox%22%3A%20%5B-71.09670273977825%2C%2042.36135837662249%2C%20-71.09670273977825%2C%2042.36135837662249%5D%2C%20%22geometry%22%3A%20%7B%22coordinates%22%3A%20%5B-71.09670273977825%2C%2042.36135837662249%5D%2C%20%22type%22%3A%20%22Point%22%7D%2C%20%22id%22%3A%20%22200%22%2C%20%22properties%22%3A%20%7B%22District%22%3A%20%22Cambridge%22%2C%20%22Latitude%22%3A%2042.36135837662249%2C%20%22Longitude%22%3A%20-71.09670273977825%2C%20%22Name%22%3A%20%22Mass%20Ave%20at%20Albany%20St%22%2C%20%22Number%22%3A%20%22M32061%22%2C%20%22Public%22%3A%20%22Yes%22%2C%20%22Total%20docks%22%3A%2018%7D%2C%20%22type%22%3A%20%22Feature%22%7D%2C%20%7B%22bbox%22%3A%20%5B-71.12260755160605%2C%2042.39120971915856%2C%20-71.12260755160605%2C%2042.39120971915856%5D%2C%20%22geometry%22%3A%20%7B%22coordinates%22%3A%20%5B-71.12260755160605%2C%2042.39120971915856%5D%2C%20%22type%22%3A%20%22Point%22%7D%2C%20%22id%22%3A%20%22201%22%2C%20%22properties%22%3A%20%7B%22District%22%3A%20%22Cambridge%22%2C%20%22Latitude%22%3A%2042.39120971915856%2C%20%22Longitude%22%3A%20-71.12260755160605%2C%20%22Name%22%3A%20%22Mass%20Ave%20at%20Hadley/Walden%22%2C%20%22Number%22%3A%20%22M32056%22%2C%20%22Public%22%3A%20%22Yes%22%2C%20%22Total%20docks%22%3A%2019%7D%2C%20%22type%22%3A%20%22Feature%22%7D%2C%20%7B%22bbox%22%3A%20%5B-71.08336953450817%2C%2042.34135615767354%2C%20-71.08336953450817%2C%2042.34135615767354%5D%2C%20%22geometry%22%3A%20%7B%22coordinates%22%3A%20%5B-71.08336953450817%2C%2042.34135615767354%5D%2C%20%22type%22%3A%20%22Point%22%7D%2C%20%22id%22%3A%20%22202%22%2C%20%22properties%22%3A%20%7B%22District%22%3A%20%22Boston%22%2C%20%22Latitude%22%3A%2042.34135615767354%2C%20%22Longitude%22%3A%20-71.08336953450817%2C%20%22Name%22%3A%20%22Mass%20Ave%20T%20Station%22%2C%20%22Number%22%3A%20%22C32063%22%2C%20%22Public%22%3A%20%22Yes%22%2C%20%22Total%20docks%22%3A%2016%7D%2C%20%22type%22%3A%20%22Feature%22%7D%2C%20%7B%22bbox%22%3A%20%5B-71.09325%2C%2042.2773889%2C%20-71.09325%2C%2042.2773889%5D%2C%20%22geometry%22%3A%20%7B%22coordinates%22%3A%20%5B-71.09325%2C%2042.2773889%5D%2C%20%22type%22%3A%20%22Point%22%7D%2C%20%22id%22%3A%20%22203%22%2C%20%22properties%22%3A%20%7B%22District%22%3A%20%22Boston%22%2C%20%22Latitude%22%3A%2042.2773889%2C%20%22Longitude%22%3A%20-71.09325%2C%20%22Name%22%3A%20%22Mattapan%20Library%22%2C%20%22Number%22%3A%20%22C32050%22%2C%20%22Public%22%3A%20%22Yes%22%2C%20%22Total%20docks%22%3A%2015%7D%2C%20%22type%22%3A%20%22Feature%22%7D%2C%20%7B%22bbox%22%3A%20%5B-71.093641%2C%2042.267902%2C%20-71.093641%2C%2042.267902%5D%2C%20%22geometry%22%3A%20%7B%22coordinates%22%3A%20%5B-71.093641%2C%2042.267902%5D%2C%20%22type%22%3A%20%22Point%22%7D%2C%20%22id%22%3A%20%22204%22%2C%20%22properties%22%3A%20%7B%22District%22%3A%20%22Boston%22%2C%20%22Latitude%22%3A%2042.267902%2C%20%22Longitude%22%3A%20-71.093641%2C%20%22Name%22%3A%20%22Mattapan%20T%20Stop%22%2C%20%22Number%22%3A%20%22C32045%22%2C%20%22Public%22%3A%20%22Yes%22%2C%20%22Total%20docks%22%3A%2015%7D%2C%20%22type%22%3A%20%22Feature%22%7D%2C%20%7B%22bbox%22%3A%20%5B-71.03977829217911%2C%2042.36884408289836%2C%20-71.03977829217911%2C%2042.36884408289836%5D%2C%20%22geometry%22%3A%20%7B%22coordinates%22%3A%20%5B-71.03977829217911%2C%2042.36884408289836%5D%2C%20%22type%22%3A%20%22Point%22%7D%2C%20%22id%22%3A%20%22205%22%2C%20%22properties%22%3A%20%7B%22District%22%3A%20%22Boston%22%2C%20%22Latitude%22%3A%2042.36884408289836%2C%20%22Longitude%22%3A%20-71.03977829217911%2C%20%22Name%22%3A%20%22Maverick%20Square%20-%20Lewis%20Mall%22%2C%20%22Number%22%3A%20%22A32030%22%2C%20%22Public%22%3A%20%22Yes%22%2C%20%22Total%20docks%22%3A%2033%7D%2C%20%22type%22%3A%20%22Feature%22%7D%2C%20%7B%22bbox%22%3A%20%5B-71.0333597474255%2C%2042.36774122306014%2C%20-71.0333597474255%2C%2042.36774122306014%5D%2C%20%22geometry%22%3A%20%7B%22coordinates%22%3A%20%5B-71.0333597474255%2C%2042.36774122306014%5D%2C%20%22type%22%3A%20%22Point%22%7D%2C%20%22id%22%3A%20%22206%22%2C%20%22properties%22%3A%20%7B%22District%22%3A%20%22Boston%22%2C%20%22Latitude%22%3A%2042.36774122306014%2C%20%22Longitude%22%3A%20-71.0333597474255%2C%20%22Name%22%3A%20%22Maverick%20St%20at%20Massport%20Path%22%2C%20%22Number%22%3A%20%22A32044%22%2C%20%22Public%22%3A%20%22Yes%22%2C%20%22Total%20docks%22%3A%2015%7D%2C%20%22type%22%3A%20%22Feature%22%7D%2C%20%7B%22bbox%22%3A%20%5B-71.06055721676967%2C%2042.380429474494896%2C%20-71.06055721676967%2C%2042.380429474494896%5D%2C%20%22geometry%22%3A%20%7B%22coordinates%22%3A%20%5B-71.06055721676967%2C%2042.380429474494896%5D%2C%20%22type%22%3A%20%22Point%22%7D%2C%20%22id%22%3A%20%22207%22%2C%20%22properties%22%3A%20%7B%22District%22%3A%20%22Boston%22%2C%20%22Latitude%22%3A%2042.380429474494896%2C%20%22Longitude%22%3A%20-71.06055721676967%2C%20%22Name%22%3A%20%22Medford%20St%20at%20Charlestown%20BCYF%22%2C%20%22Number%22%3A%20%22D32037%22%2C%20%22Public%22%3A%20%22Yes%22%2C%20%22Total%20docks%22%3A%2019%7D%2C%20%22type%22%3A%20%22Feature%22%7D%2C%20%7B%22bbox%22%3A%20%5B-71.093198%2C%2042.3581%2C%20-71.093198%2C%2042.3581%5D%2C%20%22geometry%22%3A%20%7B%22coordinates%22%3A%20%5B-71.093198%2C%2042.3581%5D%2C%20%22type%22%3A%20%22Point%22%7D%2C%20%22id%22%3A%20%22208%22%2C%20%22properties%22%3A%20%7B%22District%22%3A%20%22Cambridge%22%2C%20%22Latitude%22%3A%2042.3581%2C%20%22Longitude%22%3A%20-71.093198%2C%20%22Name%22%3A%20%22MIT%20at%20Mass%20Ave%20/%20Amherst%20St%22%2C%20%22Number%22%3A%20%22M32006%22%2C%20%22Public%22%3A%20%22Yes%22%2C%20%22Total%20docks%22%3A%2027%7D%2C%20%22type%22%3A%20%22Feature%22%7D%2C%20%7B%22bbox%22%3A%20%5B-71.10129475593567%2C%2042.35957320109044%2C%20-71.10129475593567%2C%2042.35957320109044%5D%2C%20%22geometry%22%3A%20%7B%22coordinates%22%3A%20%5B-71.10129475593567%2C%2042.35957320109044%5D%2C%20%22type%22%3A%20%22Point%22%7D%2C%20%22id%22%3A%20%22209%22%2C%20%22properties%22%3A%20%7B%22District%22%3A%20%22Cambridge%22%2C%20%22Latitude%22%3A%2042.35957320109044%2C%20%22Longitude%22%3A%20-71.10129475593567%2C%20%22Name%22%3A%20%22MIT%20Pacific%20St%20at%20Purrington%20St%22%2C%20%22Number%22%3A%20%22M32041%22%2C%20%22Public%22%3A%20%22Yes%22%2C%20%22Total%20docks%22%3A%2019%7D%2C%20%22type%22%3A%20%22Feature%22%7D%2C%20%7B%22bbox%22%3A%20%5B-71.09115600585936%2C%2042.3621312344991%2C%20-71.09115600585936%2C%2042.3621312344991%5D%2C%20%22geometry%22%3A%20%7B%22coordinates%22%3A%20%5B-71.09115600585936%2C%2042.3621312344991%5D%2C%20%22type%22%3A%20%22Point%22%7D%2C%20%22id%22%3A%20%22210%22%2C%20%22properties%22%3A%20%7B%22District%22%3A%20%22Cambridge%22%2C%20%22Latitude%22%3A%2042.3621312344991%2C%20%22Longitude%22%3A%20-71.09115600585936%2C%20%22Name%22%3A%20%22MIT%20Stata%20Center%20at%20Vassar%20St%20/%20Main%20St%22%2C%20%22Number%22%3A%20%22M32005%22%2C%20%22Public%22%3A%20%22Yes%22%2C%20%22Total%20docks%22%3A%2035%7D%2C%20%22type%22%3A%20%22Feature%22%7D%2C%20%7B%22bbox%22%3A%20%5B-71.10394477844238%2C%2042.35560121327927%2C%20-71.10394477844238%2C%2042.35560121327927%5D%2C%20%22geometry%22%3A%20%7B%22coordinates%22%3A%20%5B-71.10394477844238%2C%2042.35560121327927%5D%2C%20%22type%22%3A%20%22Point%22%7D%2C%20%22id%22%3A%20%22211%22%2C%20%22properties%22%3A%20%7B%22District%22%3A%20%22Cambridge%22%2C%20%22Latitude%22%3A%2042.35560121327927%2C%20%22Longitude%22%3A%20-71.10394477844238%2C%20%22Name%22%3A%20%22MIT%20Vassar%20St%22%2C%20%22Number%22%3A%20%22M32042%22%2C%20%22Public%22%3A%20%22Yes%22%2C%20%22Total%20docks%22%3A%2025%7D%2C%20%22type%22%3A%20%22Feature%22%7D%2C%20%7B%22bbox%22%3A%20%5B-71.09126061201096%2C%2042.32143814183195%2C%20-71.09126061201096%2C%2042.32143814183195%5D%2C%20%22geometry%22%3A%20%7B%22coordinates%22%3A%20%5B-71.09126061201096%2C%2042.32143814183195%5D%2C%20%22type%22%3A%20%22Point%22%7D%2C%20%22id%22%3A%20%22212%22%2C%20%22properties%22%3A%20%7B%22District%22%3A%20%22Boston%22%2C%20%22Latitude%22%3A%2042.32143814183195%2C%20%22Longitude%22%3A%20-71.09126061201096%2C%20%22Name%22%3A%20%22MLK%20Blvd%20at%20Washington%20St%22%2C%20%22Number%22%3A%20%22B32023%22%2C%20%22Public%22%3A%20%22Yes%22%2C%20%22Total%20docks%22%3A%2015%7D%2C%20%22type%22%3A%20%22Feature%22%7D%2C%20%7B%22bbox%22%3A%20%5B-71.08617242434775%2C%2042.280725142920296%2C%20-71.08617242434775%2C%2042.280725142920296%5D%2C%20%22geometry%22%3A%20%7B%22coordinates%22%3A%20%5B-71.08617242434775%2C%2042.280725142920296%5D%2C%20%22type%22%3A%20%22Point%22%7D%2C%20%22id%22%3A%20%22213%22%2C%20%22properties%22%3A%20%7B%22District%22%3A%20%22Boston%22%2C%20%22Latitude%22%3A%2042.280725142920296%2C%20%22Longitude%22%3A%20-71.08617242434775%2C%20%22Name%22%3A%20%22Morton%20St%20T%22%2C%20%22Number%22%3A%20%22C23045%22%2C%20%22Public%22%3A%20%22Yes%22%2C%20%22Total%20docks%22%3A%2015%7D%2C%20%22type%22%3A%20%22Feature%22%7D%2C%20%7B%22bbox%22%3A%20%5B-71.13320231437683%2C%2042.37478628706384%2C%20-71.13320231437683%2C%2042.37478628706384%5D%2C%20%22geometry%22%3A%20%7B%22coordinates%22%3A%20%5B-71.13320231437683%2C%2042.37478628706384%5D%2C%20%22type%22%3A%20%22Point%22%7D%2C%20%22id%22%3A%20%22214%22%2C%20%22properties%22%3A%20%7B%22District%22%3A%20%22Cambridge%22%2C%20%22Latitude%22%3A%2042.37478628706384%2C%20%22Longitude%22%3A%20-71.13320231437683%2C%20%22Name%22%3A%20%22Mt%20Auburn%22%2C%20%22Number%22%3A%20%22M32043%22%2C%20%22Public%22%3A%20%22Yes%22%2C%20%22Total%20docks%22%3A%2019%7D%2C%20%22type%22%3A%20%22Feature%22%7D%2C%20%7B%22bbox%22%3A%20%5B-71.11874517062459%2C%2042.28484472443536%2C%20-71.11874517062459%2C%2042.28484472443536%5D%2C%20%22geometry%22%3A%20%7B%22coordinates%22%3A%20%5B-71.11874517062459%2C%2042.28484472443536%5D%2C%20%22type%22%3A%20%22Point%22%7D%2C%20%22id%22%3A%20%22215%22%2C%20%22properties%22%3A%20%7B%22District%22%3A%20%22Boston%22%2C%20%22Latitude%22%3A%2042.28484472443536%2C%20%22Longitude%22%3A%20-71.11874517062459%2C%20%22Name%22%3A%20%22Mt.%20Hope%20St%20at%20Hyde%20Park%20Ave%22%2C%20%22Number%22%3A%20%22C32080%22%2C%20%22Public%22%3A%20%22Yes%22%2C%20%22Total%20docks%22%3A%2019%7D%2C%20%22type%22%3A%20%22Feature%22%7D%2C%20%7B%22bbox%22%3A%20%5B-71.07286870479584%2C%2042.35553628489709%2C%20-71.07286870479584%2C%2042.35553628489709%5D%2C%20%22geometry%22%3A%20%7B%22coordinates%22%3A%20%5B-71.07286870479584%2C%2042.35553628489709%5D%2C%20%22type%22%3A%20%22Point%22%7D%2C%20%22id%22%3A%20%22216%22%2C%20%22properties%22%3A%20%7B%22District%22%3A%20%22Boston%22%2C%20%22Latitude%22%3A%2042.35553628489709%2C%20%22Longitude%22%3A%20-71.07286870479584%2C%20%22Name%22%3A%20%22Mugar%20Way%20at%20Beacon%20St%22%2C%20%22Number%22%3A%20%22D32017%22%2C%20%22Public%22%3A%20%22Yes%22%2C%20%22Total%20docks%22%3A%2015%7D%2C%20%22type%22%3A%20%22Feature%22%7D%2C%20%7B%22bbox%22%3A%20%5B-71.023739%2C%2042.336448%2C%20-71.023739%2C%2042.336448%5D%2C%20%22geometry%22%3A%20%7B%22coordinates%22%3A%20%5B-71.023739%2C%2042.336448%5D%2C%20%22type%22%3A%20%22Point%22%7D%2C%20%22id%22%3A%20%22217%22%2C%20%22properties%22%3A%20%7B%22District%22%3A%20%22Boston%22%2C%20%22Latitude%22%3A%2042.336448%2C%20%22Longitude%22%3A%20-71.023739%2C%20%22Name%22%3A%20%22Murphy%20Skating%20Rink%20-%201880%20Day%20Blvd%22%2C%20%22Number%22%3A%20%22C32023%22%2C%20%22Public%22%3A%20%22Yes%22%2C%20%22Total%20docks%22%3A%2019%7D%2C%20%22type%22%3A%20%22Feature%22%7D%2C%20%7B%22bbox%22%3A%20%5B-71.07116281986237%2C%2042.36769018024484%2C%20-71.07116281986237%2C%2042.36769018024484%5D%2C%20%22geometry%22%3A%20%7B%22coordinates%22%3A%20%5B-71.07116281986237%2C%2042.36769018024484%5D%2C%20%22type%22%3A%20%22Point%22%7D%2C%20%22id%22%3A%20%22218%22%2C%20%22properties%22%3A%20%7B%22District%22%3A%20%22Cambridge%22%2C%20%22Latitude%22%3A%2042.36769018024484%2C%20%22Longitude%22%3A%20-71.07116281986237%2C%20%22Name%22%3A%20%22Museum%20of%20Science%22%2C%20%22Number%22%3A%20%22M32045%22%2C%20%22Public%22%3A%20%22Yes%22%2C%20%22Total%20docks%22%3A%2019%7D%2C%20%22type%22%3A%20%22Feature%22%7D%2C%20%7B%22bbox%22%3A%20%5B-71.064263%2C%2042.365673%2C%20-71.064263%2C%2042.365673%5D%2C%20%22geometry%22%3A%20%7B%22coordinates%22%3A%20%5B-71.064263%2C%2042.365673%5D%2C%20%22type%22%3A%20%22Point%22%7D%2C%20%22id%22%3A%20%22219%22%2C%20%22properties%22%3A%20%7B%22District%22%3A%20%22Boston%22%2C%20%22Latitude%22%3A%2042.365673%2C%20%22Longitude%22%3A%20-71.064263%2C%20%22Name%22%3A%20%22Nashua%20Street%20at%20Red%20Auerbach%20Way%22%2C%20%22Number%22%3A%20%22A32025%22%2C%20%22Public%22%3A%20%22Yes%22%2C%20%22Total%20docks%22%3A%2037%7D%2C%20%22type%22%3A%20%22Feature%22%7D%2C%20%7B%22bbox%22%3A%20%5B-71.091946%2C%2042.316902%2C%20-71.091946%2C%2042.316902%5D%2C%20%22geometry%22%3A%20%7B%22coordinates%22%3A%20%5B-71.091946%2C%2042.316902%5D%2C%20%22type%22%3A%20%22Point%22%7D%2C%20%22id%22%3A%20%22220%22%2C%20%22properties%22%3A%20%7B%22District%22%3A%20%22Boston%22%2C%20%22Latitude%22%3A%2042.316902%2C%20%22Longitude%22%3A%20-71.091946%2C%20%22Name%22%3A%20%22NCAAA%20-%20Walnut%20Ave%20at%20Crawford%20St%22%2C%20%22Number%22%3A%20%22B32027%22%2C%20%22Public%22%3A%20%22Yes%22%2C%20%22Total%20docks%22%3A%2015%7D%2C%20%22type%22%3A%20%22Feature%22%7D%2C%20%7B%22bbox%22%3A%20%5B-71.14673539996147%2C%2042.35732921867706%2C%20-71.14673539996147%2C%2042.35732921867706%5D%2C%20%22geometry%22%3A%20%7B%22coordinates%22%3A%20%5B-71.14673539996147%2C%2042.35732921867706%5D%2C%20%22type%22%3A%20%22Point%22%7D%2C%20%22id%22%3A%20%22221%22%2C%20%22properties%22%3A%20%7B%22District%22%3A%20%22Boston%22%2C%20%22Latitude%22%3A%2042.35732921867706%2C%20%22Longitude%22%3A%20-71.14673539996147%2C%20%22Name%22%3A%20%22New%20Balance%20-%2020%20Guest%20St%22%2C%20%22Number%22%3A%20%22D32001%22%2C%20%22Public%22%3A%20%22Yes%22%2C%20%22Total%20docks%22%3A%2015%7D%2C%20%22type%22%3A%20%22Feature%22%7D%2C%20%7B%22bbox%22%3A%20%5B-71.085954%2C%2042.348717%2C%20-71.085954%2C%2042.348717%5D%2C%20%22geometry%22%3A%20%7B%22coordinates%22%3A%20%5B-71.085954%2C%2042.348717%5D%2C%20%22type%22%3A%20%22Point%22%7D%2C%20%22id%22%3A%20%22222%22%2C%20%22properties%22%3A%20%7B%22District%22%3A%20%22Boston%22%2C%20%22Latitude%22%3A%2042.348717%2C%20%22Longitude%22%3A%20-71.085954%2C%20%22Name%22%3A%20%22Newbury%20St%20at%20Hereford%20St%22%2C%20%22Number%22%3A%20%22B32000%22%2C%20%22Public%22%3A%20%22Yes%22%2C%20%22Total%20docks%22%3A%2023%7D%2C%20%22type%22%3A%20%22Feature%22%7D%2C%20%7B%22bbox%22%3A%20%5B-71.066498%2C%2042.326599%2C%20-71.066498%2C%2042.326599%5D%2C%20%22geometry%22%3A%20%7B%22coordinates%22%3A%20%5B-71.066498%2C%2042.326599%5D%2C%20%22type%22%3A%20%22Point%22%7D%2C%20%22id%22%3A%20%22223%22%2C%20%22properties%22%3A%20%7B%22District%22%3A%20%22Boston%22%2C%20%22Latitude%22%3A%2042.326599%2C%20%22Longitude%22%3A%20-71.066498%2C%20%22Name%22%3A%20%22Newmarket%20Square%20T%20Stop%20-%20Massachusetts%20Ave%20at%20Newmarket%20Square%22%2C%20%22Number%22%3A%20%22C32022%22%2C%20%22Public%22%3A%20%22Yes%22%2C%20%22Total%20docks%22%3A%2015%7D%2C%20%22type%22%3A%20%22Feature%22%7D%2C%20%7B%22bbox%22%3A%20%5B-71.06708850720679%2C%2042.40581171700586%2C%20-71.06708850720679%2C%2042.40581171700586%5D%2C%20%22geometry%22%3A%20%7B%22coordinates%22%3A%20%5B-71.06708850720679%2C%2042.40581171700586%5D%2C%20%22type%22%3A%20%22Point%22%7D%2C%20%22id%22%3A%20%22224%22%2C%20%22properties%22%3A%20%7B%22District%22%3A%20%22Everett%22%2C%20%22Latitude%22%3A%2042.40581171700586%2C%20%22Longitude%22%3A%20-71.06708850720679%2C%20%22Name%22%3A%20%22Norman%20St%20at%20Kelvin%20St%22%2C%20%22Number%22%3A%20%22V32001%22%2C%20%22Public%22%3A%20%22Yes%22%2C%20%22Total%20docks%22%3A%2015%7D%2C%20%22type%22%3A%20%22Feature%22%7D%2C%20%7B%22bbox%22%3A%20%5B-71.117736660035%2C%2042.29118034790426%2C%20-71.117736660035%2C%2042.29118034790426%5D%2C%20%22geometry%22%3A%20%7B%22coordinates%22%3A%20%5B-71.117736660035%2C%2042.29118034790426%5D%2C%20%22type%22%3A%20%22Point%22%7D%2C%20%22id%22%3A%20%22225%22%2C%20%22properties%22%3A%20%7B%22District%22%3A%20%22Boston%22%2C%20%22Latitude%22%3A%2042.29118034790426%2C%20%22Longitude%22%3A%20-71.117736660035%2C%20%22Name%22%3A%20%22Northbourne%20Rd%20at%20Hyde%20Park%20Ave%22%2C%20%22Number%22%3A%20%22C32078%22%2C%20%22Public%22%3A%20%22Yes%22%2C%20%22Total%20docks%22%3A%200%7D%2C%20%22type%22%3A%20%22Feature%22%7D%2C%20%7B%22bbox%22%3A%20%5B-71.090179%2C%2042.341814%2C%20-71.090179%2C%2042.341814%5D%2C%20%22geometry%22%3A%20%7B%22coordinates%22%3A%20%5B-71.090179%2C%2042.341814%5D%2C%20%22type%22%3A%20%22Point%22%7D%2C%20%22id%22%3A%20%22226%22%2C%20%22properties%22%3A%20%7B%22District%22%3A%20%22Boston%22%2C%20%22Latitude%22%3A%2042.341814%2C%20%22Longitude%22%3A%20-71.090179%2C%20%22Name%22%3A%20%22Northeastern%20University%20-%20North%20Parking%20Lot%22%2C%20%22Number%22%3A%20%22B32012%22%2C%20%22Public%22%3A%20%22Yes%22%2C%20%22Total%20docks%22%3A%2015%7D%2C%20%22type%22%3A%20%22Feature%22%7D%2C%20%7B%22bbox%22%3A%20%5B-71.166491%2C%2042.35057%2C%20-71.166491%2C%2042.35057%5D%2C%20%22geometry%22%3A%20%7B%22coordinates%22%3A%20%5B-71.166491%2C%2042.35057%5D%2C%20%22type%22%3A%20%22Point%22%7D%2C%20%22id%22%3A%20%22227%22%2C%20%22properties%22%3A%20%7B%22District%22%3A%20%22Boston%22%2C%20%22Latitude%22%3A%2042.35057%2C%20%22Longitude%22%3A%20-71.166491%2C%20%22Name%22%3A%20%22Oak%20Square%20-%20615%20Washington%20St%22%2C%20%22Number%22%3A%20%22D32031%22%2C%20%22Public%22%3A%20%22Yes%22%2C%20%22Total%20docks%22%3A%2015%7D%2C%20%22type%22%3A%20%22Feature%22%7D%2C%20%7B%22bbox%22%3A%20%5B-71.10446508982932%2C%2042.33392270136997%2C%20-71.10446508982932%2C%2042.33392270136997%5D%2C%20%22geometry%22%3A%20%7B%22coordinates%22%3A%20%5B-71.10446508982932%2C%2042.33392270136997%5D%2C%20%22type%22%3A%20%22Point%22%7D%2C%20%22id%22%3A%20%22228%22%2C%20%22properties%22%3A%20%7B%22District%22%3A%20%22Boston%22%2C%20%22Latitude%22%3A%2042.33392270136997%2C%20%22Longitude%22%3A%20-71.10446508982932%2C%20%22Name%22%3A%20%22One%20Brigham%20Circle%22%2C%20%22Number%22%3A%20%22B32036%22%2C%20%22Public%22%3A%20%22Yes%22%2C%20%22Total%20docks%22%3A%2015%7D%2C%20%22type%22%3A%20%22Feature%22%7D%2C%20%7B%22bbox%22%3A%20%5B-71.0831107199192%2C%2042.36224178650923%2C%20-71.0831107199192%2C%2042.36224178650923%5D%2C%20%22geometry%22%3A%20%7B%22coordinates%22%3A%20%5B-71.0831107199192%2C%2042.36224178650923%5D%2C%20%22type%22%3A%20%22Point%22%7D%2C%20%22id%22%3A%20%22229%22%2C%20%22properties%22%3A%20%7B%22District%22%3A%20%22Cambridge%22%2C%20%22Latitude%22%3A%2042.36224178650923%2C%20%22Longitude%22%3A%20-71.0831107199192%2C%20%22Name%22%3A%20%22One%20Broadway%20/%20Kendall%20Sq%20at%20Main%20St%20/%203rd%20St%22%2C%20%22Number%22%3A%20%22M32003%22%2C%20%22Public%22%3A%20%22Yes%22%2C%20%22Total%20docks%22%3A%2023%7D%2C%20%22type%22%3A%20%22Feature%22%7D%2C%20%7B%22bbox%22%3A%20%5B-71.09169%2C%2042.366277%2C%20-71.09169%2C%2042.366277%5D%2C%20%22geometry%22%3A%20%7B%22coordinates%22%3A%20%5B-71.09169%2C%2042.366277%5D%2C%20%22type%22%3A%20%22Point%22%7D%2C%20%22id%22%3A%20%22230%22%2C%20%22properties%22%3A%20%7B%22District%22%3A%20%22Cambridge%22%2C%20%22Latitude%22%3A%2042.366277%2C%20%22Longitude%22%3A%20-71.09169%2C%20%22Name%22%3A%20%22One%20Kendall%20Square%20at%20Hampshire%20St%20/%20Portland%20St%22%2C%20%22Number%22%3A%20%22M32002%22%2C%20%22Public%22%3A%20%22Yes%22%2C%20%22Total%20docks%22%3A%2019%7D%2C%20%22type%22%3A%20%22Feature%22%7D%2C%20%7B%22bbox%22%3A%20%5B-71.0804355052096%2C%2042.361619320766856%2C%20-71.0804355052096%2C%2042.361619320766856%5D%2C%20%22geometry%22%3A%20%7B%22coordinates%22%3A%20%5B-71.0804355052096%2C%2042.361619320766856%5D%2C%20%22type%22%3A%20%22Point%22%7D%2C%20%22id%22%3A%20%22231%22%2C%20%22properties%22%3A%20%7B%22District%22%3A%20%22Cambridge%22%2C%20%22Latitude%22%3A%2042.361619320766856%2C%20%22Longitude%22%3A%20-71.0804355052096%2C%20%22Name%22%3A%20%22One%20Memorial%20Drive%22%2C%20%22Number%22%3A%20%22M32053%22%2C%20%22Public%22%3A%20%22Yes%22%2C%20%22Total%20docks%22%3A%2019%7D%2C%20%22type%22%3A%20%22Feature%22%7D%2C%20%7B%22bbox%22%3A%20%5B-71.006098%2C%2042.386781%2C%20-71.006098%2C%2042.386781%5D%2C%20%22geometry%22%3A%20%7B%22coordinates%22%3A%20%5B-71.006098%2C%2042.386781%5D%2C%20%22type%22%3A%20%22Point%22%7D%2C%20%22id%22%3A%20%22232%22%2C%20%22properties%22%3A%20%7B%22District%22%3A%20%22Boston%22%2C%20%22Latitude%22%3A%2042.386781%2C%20%22Longitude%22%3A%20-71.006098%2C%20%22Name%22%3A%20%22Orient%20Heights%20T%20Stop%20-%20Bennington%20St%20at%20Saratoga%20St%22%2C%20%22Number%22%3A%20%22A32035%22%2C%20%22Public%22%3A%20%22Yes%22%2C%20%22Total%20docks%22%3A%2019%7D%2C%20%22type%22%3A%20%22Feature%22%7D%2C%20%7B%22bbox%22%3A%20%5B-71.123413%2C%2042.40449%2C%20-71.123413%2C%2042.40449%5D%2C%20%22geometry%22%3A%20%7B%22coordinates%22%3A%20%5B-71.123413%2C%2042.40449%5D%2C%20%22type%22%3A%20%22Point%22%7D%2C%20%22id%22%3A%20%22233%22%2C%20%22properties%22%3A%20%7B%22District%22%3A%20%22Somerville%22%2C%20%22Latitude%22%3A%2042.40449%2C%20%22Longitude%22%3A%20-71.123413%2C%20%22Name%22%3A%20%22Packard%20Ave%20at%20Powderhouse%20Blvd%22%2C%20%22Number%22%3A%20%22S32009%22%2C%20%22Public%22%3A%20%22Yes%22%2C%20%22Total%20docks%22%3A%2015%7D%2C%20%22type%22%3A%20%22Feature%22%7D%2C%20%7B%22bbox%22%3A%20%5B-71.123831%2C%2042.352261%2C%20-71.123831%2C%2042.352261%5D%2C%20%22geometry%22%3A%20%7B%22coordinates%22%3A%20%5B-71.123831%2C%2042.352261%5D%2C%20%22type%22%3A%20%22Point%22%7D%2C%20%22id%22%3A%20%22234%22%2C%20%22properties%22%3A%20%7B%22District%22%3A%20%22Boston%22%2C%20%22Latitude%22%3A%2042.352261%2C%20%22Longitude%22%3A%20-71.123831%2C%20%22Name%22%3A%20%22Packard%5Cu0027s%20Corner%20-%20Commonwealth%20Ave%20at%20Brighton%20Ave%22%2C%20%22Number%22%3A%20%22A32012%22%2C%20%22Public%22%3A%20%22Yes%22%2C%20%22Total%20docks%22%3A%2027%7D%2C%20%22type%22%3A%20%22Feature%22%7D%2C%20%7B%22bbox%22%3A%20%5B-71.105301%2C%2042.347241%2C%20-71.105301%2C%2042.347241%5D%2C%20%22geometry%22%3A%20%7B%22coordinates%22%3A%20%5B-71.105301%2C%2042.347241%5D%2C%20%22type%22%3A%20%22Point%22%7D%2C%20%22id%22%3A%20%22235%22%2C%20%22properties%22%3A%20%7B%22District%22%3A%20%22Boston%22%2C%20%22Latitude%22%3A%2042.347241%2C%20%22Longitude%22%3A%20-71.105301%2C%20%22Name%22%3A%20%22Park%20Dr%20at%20Buswell%20St%22%2C%20%22Number%22%3A%20%22A32008%22%2C%20%22Public%22%3A%20%22Yes%22%2C%20%22Total%20docks%22%3A%2015%7D%2C%20%22type%22%3A%20%22Feature%22%7D%2C%20%7B%22bbox%22%3A%20%5B-71.06781138111728%2C%2042.35182806892068%2C%20-71.06781138111728%2C%2042.35182806892068%5D%2C%20%22geometry%22%3A%20%7B%22coordinates%22%3A%20%5B-71.06781138111728%2C%2042.35182806892068%5D%2C%20%22type%22%3A%20%22Point%22%7D%2C%20%22id%22%3A%20%22236%22%2C%20%22properties%22%3A%20%7B%22District%22%3A%20%22Boston%22%2C%20%22Latitude%22%3A%2042.35182806892068%2C%20%22Longitude%22%3A%20-71.06781138111728%2C%20%22Name%22%3A%20%22Park%20Plaza%20at%20Charles%20St%20S.%22%2C%20%22Number%22%3A%20%22D32042%22%2C%20%22Public%22%3A%20%22Yes%22%2C%20%22Total%20docks%22%3A%2019%7D%2C%20%22type%22%3A%20%22Feature%22%7D%2C%20%7B%22bbox%22%3A%20%5B-71.0783056%2C%2042.2944167%2C%20-71.0783056%2C%2042.2944167%5D%2C%20%22geometry%22%3A%20%7B%22coordinates%22%3A%20%5B-71.0783056%2C%2042.2944167%5D%2C%20%22type%22%3A%20%22Point%22%7D%2C%20%22id%22%3A%20%22237%22%2C%20%22properties%22%3A%20%7B%22District%22%3A%20%22Boston%22%2C%20%22Latitude%22%3A%2042.2944167%2C%20%22Longitude%22%3A%20-71.0783056%2C%20%22Name%22%3A%20%22Park%20St%20at%20Norwell%20St%22%2C%20%22Number%22%3A%20%22C32039%22%2C%20%22Public%22%3A%20%22Yes%22%2C%20%22Total%20docks%22%3A%2015%7D%2C%20%22type%22%3A%20%22Feature%22%7D%2C%20%7B%22bbox%22%3A%20%5B-71.10341902831351%2C%2042.37927324600841%2C%20-71.10341902831351%2C%2042.37927324600841%5D%2C%20%22geometry%22%3A%20%7B%22coordinates%22%3A%20%5B-71.10341902831351%2C%2042.37927324600841%5D%2C%20%22type%22%3A%20%22Point%22%7D%2C%20%22id%22%3A%20%22238%22%2C%20%22properties%22%3A%20%7B%22District%22%3A%20%22Somerville%22%2C%20%22Latitude%22%3A%2042.37927324600841%2C%20%22Longitude%22%3A%20-71.10341902831351%2C%20%22Name%22%3A%20%22Perry%20Park%22%2C%20%22Number%22%3A%20%22S32034%22%2C%20%22Public%22%3A%20%22Yes%22%2C%20%22Total%20docks%22%3A%2019%7D%2C%20%22type%22%3A%20%22Feature%22%7D%2C%20%7B%22bbox%22%3A%20%5B-71.03497177362442%2C%2042.3648929326648%2C%20-71.03497177362442%2C%2042.3648929326648%5D%2C%20%22geometry%22%3A%20%7B%22coordinates%22%3A%20%5B-71.03497177362442%2C%2042.3648929326648%5D%2C%20%22type%22%3A%20%22Point%22%7D%2C%20%22id%22%3A%20%22239%22%2C%20%22properties%22%3A%20%7B%22District%22%3A%20%22Boston%22%2C%20%22Latitude%22%3A%2042.3648929326648%2C%20%22Longitude%22%3A%20-71.03497177362442%2C%20%22Name%22%3A%20%22Piers%20Park%22%2C%20%22Number%22%3A%20%22A32029%22%2C%20%22Public%22%3A%20%22Yes%22%2C%20%22Total%20docks%22%3A%200%7D%2C%20%22type%22%3A%20%22Feature%22%7D%2C%20%7B%22bbox%22%3A%20%5B-71.119084%2C%2042.387995%2C%20-71.119084%2C%2042.387995%5D%2C%20%22geometry%22%3A%20%7B%22coordinates%22%3A%20%5B-71.119084%2C%2042.387995%5D%2C%20%22type%22%3A%20%22Point%22%7D%2C%20%22id%22%3A%20%22240%22%2C%20%22properties%22%3A%20%7B%22District%22%3A%20%22Cambridge%22%2C%20%22Latitude%22%3A%2042.387995%2C%20%22Longitude%22%3A%20-71.119084%2C%20%22Name%22%3A%20%22Porter%20Square%20Station%22%2C%20%22Number%22%3A%20%22M32029%22%2C%20%22Public%22%3A%20%22Yes%22%2C%20%22Total%20docks%22%3A%2019%7D%2C%20%22type%22%3A%20%22Feature%22%7D%2C%20%7B%22bbox%22%3A%20%5B-71.05459745998814%2C%2042.35585435522005%2C%20-71.05459745998814%2C%2042.35585435522005%5D%2C%20%22geometry%22%3A%20%7B%22coordinates%22%3A%20%5B-71.05459745998814%2C%2042.35585435522005%5D%2C%20%22type%22%3A%20%22Point%22%7D%2C%20%22id%22%3A%20%22241%22%2C%20%22properties%22%3A%20%7B%22District%22%3A%20%22Boston%22%2C%20%22Latitude%22%3A%2042.35585435522005%2C%20%22Longitude%22%3A%20-71.05459745998814%2C%20%22Name%22%3A%20%22Post%20Office%20Square%22%2C%20%22Number%22%3A%20%22D32012%22%2C%20%22Public%22%3A%20%22Yes%22%2C%20%22Total%20docks%22%3A%2019%7D%2C%20%22type%22%3A%20%22Feature%22%7D%2C%20%7B%22bbox%22%3A%20%5B-71.116772%2C%2042.400877%2C%20-71.116772%2C%2042.400877%5D%2C%20%22geometry%22%3A%20%7B%22coordinates%22%3A%20%5B-71.116772%2C%2042.400877%5D%2C%20%22type%22%3A%20%22Point%22%7D%2C%20%22id%22%3A%20%22242%22%2C%20%22properties%22%3A%20%7B%22District%22%3A%20%22Somerville%22%2C%20%22Latitude%22%3A%2042.400877%2C%20%22Longitude%22%3A%20-71.116772%2C%20%22Name%22%3A%20%22Powder%20House%20Circle%20-%20Nathan%20Tufts%20Park%22%2C%20%22Number%22%3A%20%22S32008%22%2C%20%22Public%22%3A%20%22Yes%22%2C%20%22Total%20docks%22%3A%2013%7D%2C%20%22type%22%3A%20%22Feature%22%7D%2C%20%7B%22bbox%22%3A%20%5B-71.08065776545118%2C%2042.34652003998412%2C%20-71.08065776545118%2C%2042.34652003998412%5D%2C%20%22geometry%22%3A%20%7B%22coordinates%22%3A%20%5B-71.08065776545118%2C%2042.34652003998412%5D%2C%20%22type%22%3A%20%22Point%22%7D%2C%20%22id%22%3A%20%22243%22%2C%20%22properties%22%3A%20%7B%22District%22%3A%20%22Boston%22%2C%20%22Latitude%22%3A%2042.34652003998412%2C%20%22Longitude%22%3A%20-71.08065776545118%2C%20%22Name%22%3A%20%22Prudential%20Center%20-%20Belvedere%20St%22%2C%20%22Number%22%3A%20%22C32007%22%2C%20%22Public%22%3A%20%22Yes%22%2C%20%22Total%20docks%22%3A%2018%7D%2C%20%22type%22%3A%20%22Feature%22%7D%2C%20%7B%22bbox%22%3A%20%5B-71.053181%2C%2042.354659%2C%20-71.053181%2C%2042.354659%5D%2C%20%22geometry%22%3A%20%7B%22coordinates%22%3A%20%5B-71.053181%2C%2042.354659%5D%2C%20%22type%22%3A%20%22Point%22%7D%2C%20%22id%22%3A%20%22244%22%2C%20%22properties%22%3A%20%7B%22District%22%3A%20%22Boston%22%2C%20%22Latitude%22%3A%2042.354659%2C%20%22Longitude%22%3A%20-71.053181%2C%20%22Name%22%3A%20%22Purchase%20St%20at%20Pearl%20St%22%2C%20%22Number%22%3A%20%22A32026%22%2C%20%22Public%22%3A%20%22Yes%22%2C%20%22Total%20docks%22%3A%2019%7D%2C%20%22type%22%3A%20%22Feature%22%7D%2C%20%7B%22bbox%22%3A%20%5B-71.129042%2C%2042.392766%2C%20-71.129042%2C%2042.392766%5D%2C%20%22geometry%22%3A%20%7B%22coordinates%22%3A%20%5B-71.129042%2C%2042.392766%5D%2C%20%22type%22%3A%20%22Point%22%7D%2C%20%22id%22%3A%20%22245%22%2C%20%22properties%22%3A%20%7B%22District%22%3A%20%22Cambridge%22%2C%20%22Latitude%22%3A%2042.392766%2C%20%22Longitude%22%3A%20-71.129042%2C%20%22Name%22%3A%20%22Rindge%20Avenue%20-%20O%5Cu0027Neill%20Library%22%2C%20%22Number%22%3A%20%22M32036%22%2C%20%22Public%22%3A%20%22Yes%22%2C%20%22Total%20docks%22%3A%2019%7D%2C%20%22type%22%3A%20%22Feature%22%7D%2C%20%7B%22bbox%22%3A%20%5B-71.08044855314802%2C%2042.348278385426255%2C%20-71.08044855314802%2C%2042.348278385426255%5D%2C%20%22geometry%22%3A%20%7B%22coordinates%22%3A%20%5B-71.08044855314802%2C%2042.348278385426255%5D%2C%20%22type%22%3A%20%22Point%22%7D%2C%20%22id%22%3A%20%22246%22%2C%20%22properties%22%3A%20%7B%22District%22%3A%20%22Boston%22%2C%20%22Latitude%22%3A%2042.348278385426255%2C%20%22Longitude%22%3A%20-71.08044855314802%2C%20%22Name%22%3A%20%22Ring%20Rd%22%2C%20%22Number%22%3A%20%22C32058%22%2C%20%22Public%22%3A%20%22Yes%22%2C%20%22Total%20docks%22%3A%2015%7D%2C%20%22type%22%3A%20%22Feature%22%7D%2C%20%7B%22bbox%22%3A%20%5B-71.07699394226073%2C%2042.36575798214837%2C%20-71.07699394226073%2C%2042.36575798214837%5D%2C%20%22geometry%22%3A%20%7B%22coordinates%22%3A%20%5B-71.07699394226073%2C%2042.36575798214837%5D%2C%20%22type%22%3A%20%22Point%22%7D%2C%20%22id%22%3A%20%22247%22%2C%20%22properties%22%3A%20%7B%22District%22%3A%20%22Cambridge%22%2C%20%22Latitude%22%3A%2042.36575798214837%2C%20%22Longitude%22%3A%20-71.07699394226073%2C%20%22Name%22%3A%20%22Rogers%20St%20%5Cu0026%20Land%20Blvd%22%2C%20%22Number%22%3A%20%22M32035%22%2C%20%22Public%22%3A%20%22Yes%22%2C%20%22Total%20docks%22%3A%2019%7D%2C%20%22type%22%3A%20%22Feature%22%7D%2C%20%7B%22bbox%22%3A%20%5B-71.127754%2C%2042.287072%2C%20-71.127754%2C%2042.287072%5D%2C%20%22geometry%22%3A%20%7B%22coordinates%22%3A%20%5B-71.127754%2C%2042.287072%5D%2C%20%22type%22%3A%20%22Point%22%7D%2C%20%22id%22%3A%20%22248%22%2C%20%22properties%22%3A%20%7B%22District%22%3A%20%22Boston%22%2C%20%22Latitude%22%3A%2042.287072%2C%20%22Longitude%22%3A%20-71.127754%2C%20%22Name%22%3A%20%22Roslindale%20Village%20-%20South%20St%22%2C%20%22Number%22%3A%20%22C32047%22%2C%20%22Public%22%3A%20%22Yes%22%2C%20%22Total%20docks%22%3A%2015%7D%2C%20%22type%22%3A%20%22Feature%22%7D%2C%20%7B%22bbox%22%3A%20%5B-71.12820532182013%2C%2042.28630716010807%2C%20-71.12820532182013%2C%2042.28630716010807%5D%2C%20%22geometry%22%3A%20%7B%22coordinates%22%3A%20%5B-71.12820532182013%2C%2042.28630716010807%5D%2C%20%22type%22%3A%20%22Point%22%7D%2C%20%22id%22%3A%20%22249%22%2C%20%22properties%22%3A%20%7B%22District%22%3A%20%22Boston%22%2C%20%22Latitude%22%3A%2042.28630716010807%2C%20%22Longitude%22%3A%20-71.12820532182013%2C%20%22Name%22%3A%20%22Roslindale%20Village%20-%20Washington%20St%22%2C%20%22Number%22%3A%20%22C32046%22%2C%20%22Public%22%3A%20%22Yes%22%2C%20%22Total%20docks%22%3A%2015%7D%2C%20%22type%22%3A%20%22Feature%22%7D%2C%20%7B%22bbox%22%3A%20%5B-71.050699%2C%2042.357143%2C%20-71.050699%2C%2042.357143%5D%2C%20%22geometry%22%3A%20%7B%22coordinates%22%3A%20%5B-71.050699%2C%2042.357143%5D%2C%20%22type%22%3A%20%22Point%22%7D%2C%20%22id%22%3A%20%22250%22%2C%20%22properties%22%3A%20%7B%22District%22%3A%20%22Boston%22%2C%20%22Latitude%22%3A%2042.357143%2C%20%22Longitude%22%3A%20-71.050699%2C%20%22Name%22%3A%20%22Rowes%20Wharf%20at%20Atlantic%20Ave%22%2C%20%22Number%22%3A%20%22D32008%22%2C%20%22Public%22%3A%20%22Yes%22%2C%20%22Total%20docks%22%3A%2015%7D%2C%20%22type%22%3A%20%22Feature%22%7D%2C%20%7B%22bbox%22%3A%20%5B-71.095171%2C%2042.331184%2C%20-71.095171%2C%2042.331184%5D%2C%20%22geometry%22%3A%20%7B%22coordinates%22%3A%20%5B-71.095171%2C%2042.331184%5D%2C%20%22type%22%3A%20%22Point%22%7D%2C%20%22id%22%3A%20%22251%22%2C%20%22properties%22%3A%20%7B%22District%22%3A%20%22Boston%22%2C%20%22Latitude%22%3A%2042.331184%2C%20%22Longitude%22%3A%20-71.095171%2C%20%22Name%22%3A%20%22Roxbury%20Crossing%20T%20Stop%20-%20Columbus%20Ave%20at%20Tremont%20St%22%2C%20%22Number%22%3A%20%22C32001%22%2C%20%22Public%22%3A%20%22Yes%22%2C%20%22Total%20docks%22%3A%2023%7D%2C%20%22type%22%3A%20%22Feature%22%7D%2C%20%7B%22bbox%22%3A%20%5B-71.08243077993393%2C%2042.31787329345602%2C%20-71.08243077993393%2C%2042.31787329345602%5D%2C%20%22geometry%22%3A%20%7B%22coordinates%22%3A%20%5B-71.08243077993393%2C%2042.31787329345602%5D%2C%20%22type%22%3A%20%22Point%22%7D%2C%20%22id%22%3A%20%22252%22%2C%20%22properties%22%3A%20%7B%22District%22%3A%20%22Boston%22%2C%20%22Latitude%22%3A%2042.31787329345602%2C%20%22Longitude%22%3A%20-71.08243077993393%2C%20%22Name%22%3A%20%22Roxbury%20YMCA%20-%20Warren%20St%20at%20MLK%20Blvd%22%2C%20%22Number%22%3A%20%22B32022%22%2C%20%22Public%22%3A%20%22Yes%22%2C%20%22Total%20docks%22%3A%2010%7D%2C%20%22type%22%3A%20%22Feature%22%7D%2C%20%7B%22bbox%22%3A%20%5B-71.08798563480377%2C%2042.33624444796878%2C%20-71.08798563480377%2C%2042.33624444796878%5D%2C%20%22geometry%22%3A%20%7B%22coordinates%22%3A%20%5B-71.08798563480377%2C%2042.33624444796878%5D%2C%20%22type%22%3A%20%22Point%22%7D%2C%20%22id%22%3A%20%22253%22%2C%20%22properties%22%3A%20%7B%22District%22%3A%20%22Boston%22%2C%20%22Latitude%22%3A%2042.33624444796878%2C%20%22Longitude%22%3A%20-71.08798563480377%2C%20%22Name%22%3A%20%22Ruggles%20T%20Stop%20-%20Columbus%20Ave%20at%20Melnea%20Cass%20Blvd%22%2C%20%22Number%22%3A%20%22B32002%22%2C%20%22Public%22%3A%20%22Yes%22%2C%20%22Total%20docks%22%3A%2018%7D%2C%20%22type%22%3A%20%22Feature%22%7D%2C%20%7B%22bbox%22%3A%20%5B-71.056664%2C%2042.317642%2C%20-71.056664%2C%2042.317642%5D%2C%20%22geometry%22%3A%20%7B%22coordinates%22%3A%20%5B-71.056664%2C%2042.317642%5D%2C%20%22type%22%3A%20%22Point%22%7D%2C%20%22id%22%3A%20%22254%22%2C%20%22properties%22%3A%20%7B%22District%22%3A%20%22Boston%22%2C%20%22Latitude%22%3A%2042.317642%2C%20%22Longitude%22%3A%20-71.056664%2C%20%22Name%22%3A%20%22Ryan%20Playground%20-%20Dorchester%20Ave%20at%20Harbor%20View%20St%22%2C%20%22Number%22%3A%20%22C32031%22%2C%20%22Public%22%3A%20%22Yes%22%2C%20%22Total%20docks%22%3A%2015%7D%2C%20%22type%22%3A%20%22Feature%22%7D%2C%20%7B%22bbox%22%3A%20%5B-71.11089169979095%2C%2042.32760387040573%2C%20-71.11089169979095%2C%2042.32760387040573%5D%2C%20%22geometry%22%3A%20%7B%22coordinates%22%3A%20%5B-71.11089169979095%2C%2042.32760387040573%5D%2C%20%22type%22%3A%20%22Point%22%7D%2C%20%22id%22%3A%20%22255%22%2C%20%22properties%22%3A%20%7B%22District%22%3A%20%22Boston%22%2C%20%22Latitude%22%3A%2042.32760387040573%2C%20%22Longitude%22%3A%20-71.11089169979095%2C%20%22Name%22%3A%20%22S%20Huntington%20Ave%20at%20Heath%20St%22%2C%20%22Number%22%3A%20%22E32007%22%2C%20%22Public%22%3A%20%22Yes%22%2C%20%22Total%20docks%22%3A%2015%7D%2C%20%22type%22%3A%20%22Feature%22%7D%2C%20%7B%22bbox%22%3A%20%5B-71.0539%2C%2042.3106%2C%20-71.0539%2C%2042.3106%5D%2C%20%22geometry%22%3A%20%7B%22coordinates%22%3A%20%5B-71.0539%2C%2042.3106%5D%2C%20%22type%22%3A%20%22Point%22%7D%2C%20%22id%22%3A%20%22256%22%2C%20%22properties%22%3A%20%7B%22District%22%3A%20%22Boston%22%2C%20%22Latitude%22%3A%2042.3106%2C%20%22Longitude%22%3A%20-71.0539%2C%20%22Name%22%3A%20%22Savin%20Hill%20T%20Stop%20-%20S%20Sydney%20St%20at%20Bay%20St%22%2C%20%22Number%22%3A%20%22C32033%22%2C%20%22Public%22%3A%20%22Yes%22%2C%20%22Total%20docks%22%3A%2014%7D%2C%20%22type%22%3A%20%22Feature%22%7D%2C%20%7B%22bbox%22%3A%20%5B-71.04817356923377%2C%2042.35317809186252%2C%20-71.04817356923377%2C%2042.35317809186252%5D%2C%20%22geometry%22%3A%20%7B%22coordinates%22%3A%20%5B-71.04817356923377%2C%2042.35317809186252%5D%2C%20%22type%22%3A%20%22Point%22%7D%2C%20%22id%22%3A%20%22257%22%2C%20%22properties%22%3A%20%7B%22District%22%3A%20%22Boston%22%2C%20%22Latitude%22%3A%2042.35317809186252%2C%20%22Longitude%22%3A%20-71.04817356923377%2C%20%22Name%22%3A%20%22Seaport%20Blvd%20at%20Sleeper%20St%22%2C%20%22Number%22%3A%20%22C32036%22%2C%20%22Public%22%3A%20%22Yes%22%2C%20%22Total%20docks%22%3A%2015%7D%2C%20%22type%22%3A%20%22Feature%22%7D%2C%20%7B%22bbox%22%3A%20%5B-71.04167744055303%2C%2042.34881026188269%2C%20-71.04167744055303%2C%2042.34881026188269%5D%2C%20%22geometry%22%3A%20%7B%22coordinates%22%3A%20%5B-71.04167744055303%2C%2042.34881026188269%5D%2C%20%22type%22%3A%20%22Point%22%7D%2C%20%22id%22%3A%20%22258%22%2C%20%22properties%22%3A%20%7B%22District%22%3A%20%22Boston%22%2C%20%22Latitude%22%3A%2042.34881026188269%2C%20%22Longitude%22%3A%20-71.04167744055303%2C%20%22Name%22%3A%20%22Seaport%20Hotel%20-%20Congress%20St%20at%20Seaport%20Ln%22%2C%20%22Number%22%3A%20%22B32014%22%2C%20%22Public%22%3A%20%22Yes%22%2C%20%22Total%20docks%22%3A%2019%7D%2C%20%22type%22%3A%20%22Feature%22%7D%2C%20%7B%22bbox%22%3A%20%5B-71.04436084628105%2C%2042.35148193460858%2C%20-71.04436084628105%2C%2042.35148193460858%5D%2C%20%22geometry%22%3A%20%7B%22coordinates%22%3A%20%5B-71.04436084628105%2C%2042.35148193460858%5D%2C%20%22type%22%3A%20%22Point%22%7D%2C%20%22id%22%3A%20%22259%22%2C%20%22properties%22%3A%20%7B%22District%22%3A%20%22Boston%22%2C%20%22Latitude%22%3A%2042.35148193460858%2C%20%22Longitude%22%3A%20-71.04436084628105%2C%20%22Name%22%3A%20%22Seaport%20Square%20-%20Seaport%20Blvd%20at%20Northern%20Ave%22%2C%20%22Number%22%3A%20%22B32007%22%2C%20%22Public%22%3A%20%22Yes%22%2C%20%22Total%20docks%22%3A%2019%7D%2C%20%22type%22%3A%20%22Feature%22%7D%2C%20%7B%22bbox%22%3A%20%5B-71.09930185605663%2C%2042.36860524248197%2C%20-71.09930185605663%2C%2042.36860524248197%5D%2C%20%22geometry%22%3A%20%7B%22coordinates%22%3A%20%5B-71.09930185605663%2C%2042.36860524248197%5D%2C%20%22type%22%3A%20%22Point%22%7D%2C%20%22id%22%3A%20%22260%22%2C%20%22properties%22%3A%20%7B%22District%22%3A%20%22Cambridge%22%2C%20%22Latitude%22%3A%2042.36860524248197%2C%20%22Longitude%22%3A%20-71.09930185605663%2C%20%22Name%22%3A%20%22Sennott%20Park%20%20Broadway%20at%20Norfolk%20Street%22%2C%20%22Number%22%3A%20%22M32063%22%2C%20%22Public%22%3A%20%22Yes%22%2C%20%22Total%20docks%22%3A%2019%7D%2C%20%22type%22%3A%20%22Feature%22%7D%2C%20%7B%22bbox%22%3A%20%5B-71.06559185315746%2C%2042.34854543411198%2C%20-71.06559185315746%2C%2042.34854543411198%5D%2C%20%22geometry%22%3A%20%7B%22coordinates%22%3A%20%5B-71.06559185315746%2C%2042.34854543411198%5D%2C%20%22type%22%3A%20%22Point%22%7D%2C%20%22id%22%3A%20%22261%22%2C%20%22properties%22%3A%20%7B%22District%22%3A%20%22Boston%22%2C%20%22Latitude%22%3A%2042.34854543411198%2C%20%22Longitude%22%3A%20-71.06559185315746%2C%20%22Name%22%3A%20%22Shawmut%20Ave%20at%20Oak%20St%20W%22%2C%20%22Number%22%3A%20%22D32048%22%2C%20%22Public%22%3A%20%22Yes%22%2C%20%22Total%20docks%22%3A%2015%7D%2C%20%22type%22%3A%20%22Feature%22%7D%2C%20%7B%22bbox%22%3A%20%5B-71.06575%2C%2042.292917%2C%20-71.06575%2C%2042.292917%5D%2C%20%22geometry%22%3A%20%7B%22coordinates%22%3A%20%5B-71.06575%2C%2042.292917%5D%2C%20%22type%22%3A%20%22Point%22%7D%2C%20%22id%22%3A%20%22262%22%2C%20%22properties%22%3A%20%7B%22District%22%3A%20%22Boston%22%2C%20%22Latitude%22%3A%2042.292917%2C%20%22Longitude%22%3A%20-71.06575%2C%20%22Name%22%3A%20%22Shawmut%20T%20Stop%22%2C%20%22Number%22%3A%20%22E32009%22%2C%20%22Public%22%3A%20%22Yes%22%2C%20%22Total%20docks%22%3A%2018%7D%2C%20%22type%22%3A%20%22Feature%22%7D%2C%20%7B%22bbox%22%3A%20%5B-71.10393404960632%2C%2042.35775309465199%2C%20-71.10393404960632%2C%2042.35775309465199%5D%2C%20%22geometry%22%3A%20%7B%22coordinates%22%3A%20%5B-71.10393404960632%2C%2042.35775309465199%5D%2C%20%22type%22%3A%20%22Point%22%7D%2C%20%22id%22%3A%20%22263%22%2C%20%22properties%22%3A%20%7B%22District%22%3A%20%22Cambridge%22%2C%20%22Latitude%22%3A%2042.35775309465199%2C%20%22Longitude%22%3A%20-71.10393404960632%2C%20%22Name%22%3A%20%22Sidney%20Research%20Campus/%20Erie%20Street%20at%20Waverly%22%2C%20%22Number%22%3A%20%22M32047%22%2C%20%22Public%22%3A%20%22Yes%22%2C%20%22Total%20docks%22%3A%2019%7D%2C%20%22type%22%3A%20%22Feature%22%7D%2C%20%7B%22bbox%22%3A%20%5B-71.10057592391968%2C%2042.34949599514002%2C%20-71.10057592391968%2C%2042.34949599514002%5D%2C%20%22geometry%22%3A%20%7B%22coordinates%22%3A%20%5B-71.10057592391968%2C%2042.34949599514002%5D%2C%20%22type%22%3A%20%22Point%22%7D%2C%20%22id%22%3A%20%22264%22%2C%20%22properties%22%3A%20%7B%22District%22%3A%20%22Boston%22%2C%20%22Latitude%22%3A%2042.34949599514002%2C%20%22Longitude%22%3A%20-71.10057592391968%2C%20%22Name%22%3A%20%22Silber%20Way%22%2C%20%22Number%22%3A%20%22D32032%22%2C%20%22Public%22%3A%20%22Yes%22%2C%20%22Total%20docks%22%3A%2019%7D%2C%20%22type%22%3A%20%22Feature%22%7D%2C%20%7B%22bbox%22%3A%20%5B-71.1182756971175%2C%2042.36426344063853%2C%20-71.1182756971175%2C%2042.36426344063853%5D%2C%20%22geometry%22%3A%20%7B%22coordinates%22%3A%20%5B-71.1182756971175%2C%2042.36426344063853%5D%2C%20%22type%22%3A%20%22Point%22%7D%2C%20%22id%22%3A%20%22265%22%2C%20%22properties%22%3A%20%7B%22District%22%3A%20%22Boston%22%2C%20%22Latitude%22%3A%2042.36426344063853%2C%20%22Longitude%22%3A%20-71.1182756971175%2C%20%22Name%22%3A%20%22Soldiers%20Field%20Park%20-%20111%20Western%20Ave%22%2C%20%22Number%22%3A%20%22A32006%22%2C%20%22Public%22%3A%20%22Yes%22%2C%20%22Total%20docks%22%3A%2015%7D%2C%20%22type%22%3A%20%22Feature%22%7D%2C%20%7B%22bbox%22%3A%20%5B-71.09812%2C%2042.386844%2C%20-71.09812%2C%2042.386844%5D%2C%20%22geometry%22%3A%20%7B%22coordinates%22%3A%20%5B-71.09812%2C%2042.386844%5D%2C%20%22type%22%3A%20%22Point%22%7D%2C%20%22id%22%3A%20%22266%22%2C%20%22properties%22%3A%20%7B%22District%22%3A%20%22Somerville%22%2C%20%22Latitude%22%3A%2042.386844%2C%20%22Longitude%22%3A%20-71.09812%2C%20%22Name%22%3A%20%22Somerville%20City%20Hall%22%2C%20%22Number%22%3A%20%22S32001%22%2C%20%22Public%22%3A%20%22Yes%22%2C%20%22Total%20docks%22%3A%2015%7D%2C%20%22type%22%3A%20%22Feature%22%7D%2C%20%7B%22bbox%22%3A%20%5B-71.09745375830244%2C%2042.39189811591863%2C%20-71.09745375830244%2C%2042.39189811591863%5D%2C%20%22geometry%22%3A%20%7B%22coordinates%22%3A%20%5B-71.09745375830244%2C%2042.39189811591863%5D%2C%20%22type%22%3A%20%22Point%22%7D%2C%20%22id%22%3A%20%22267%22%2C%20%22properties%22%3A%20%7B%22District%22%3A%20%22Somerville%22%2C%20%22Latitude%22%3A%2042.39189811591863%2C%20%22Longitude%22%3A%20-71.09745375830244%2C%20%22Name%22%3A%20%22Somerville%20City%20Hall%20Annex%22%2C%20%22Number%22%3A%20%22S32036%22%2C%20%22Public%22%3A%20%22Yes%22%2C%20%22Total%20docks%22%3A%2015%7D%2C%20%22type%22%3A%20%22Feature%22%7D%2C%20%7B%22bbox%22%3A%20%5B-71.10962569713591%2C%2042.39088801721338%2C%20-71.10962569713591%2C%2042.39088801721338%5D%2C%20%22geometry%22%3A%20%7B%22coordinates%22%3A%20%5B-71.10962569713591%2C%2042.39088801721338%5D%2C%20%22type%22%3A%20%22Point%22%7D%2C%20%22id%22%3A%20%22268%22%2C%20%22properties%22%3A%20%7B%22District%22%3A%20%22Somerville%22%2C%20%22Latitude%22%3A%2042.39088801721338%2C%20%22Longitude%22%3A%20-71.10962569713591%2C%20%22Name%22%3A%20%22Somerville%20Hospital%22%2C%20%22Number%22%3A%20%22S32020%22%2C%20%22Public%22%3A%20%22Yes%22%2C%20%22Total%20docks%22%3A%2015%7D%2C%20%22type%22%3A%20%22Feature%22%7D%2C%20%7B%22bbox%22%3A%20%5B-71.03877%2C%2042.335741%2C%20-71.03877%2C%2042.335741%5D%2C%20%22geometry%22%3A%20%7B%22coordinates%22%3A%20%5B-71.03877%2C%2042.335741%5D%2C%20%22type%22%3A%20%22Point%22%7D%2C%20%22id%22%3A%20%22269%22%2C%20%22properties%22%3A%20%7B%22District%22%3A%20%22Boston%22%2C%20%22Latitude%22%3A%2042.335741%2C%20%22Longitude%22%3A%20-71.03877%2C%20%22Name%22%3A%20%22South%20Boston%20Library%20-%20646%20E%20Broadway%22%2C%20%22Number%22%3A%20%22C32017%22%2C%20%22Public%22%3A%20%22Yes%22%2C%20%22Total%20docks%22%3A%2015%7D%2C%20%22type%22%3A%20%22Feature%22%7D%2C%20%7B%22bbox%22%3A%20%5B-71.076847%2C%2042.341332%2C%20-71.076847%2C%2042.341332%5D%2C%20%22geometry%22%3A%20%7B%22coordinates%22%3A%20%5B-71.076847%2C%2042.341332%5D%2C%20%22type%22%3A%20%22Point%22%7D%2C%20%22id%22%3A%20%22270%22%2C%20%22properties%22%3A%20%7B%22District%22%3A%20%22Boston%22%2C%20%22Latitude%22%3A%2042.341332%2C%20%22Longitude%22%3A%20-71.076847%2C%20%22Name%22%3A%20%22South%20End%20Library%20-%20Tremont%20St%20at%20W%20Newton%20St%22%2C%20%22Number%22%3A%20%22A32009%22%2C%20%22Public%22%3A%20%22Yes%22%2C%20%22Total%20docks%22%3A%2015%7D%2C%20%22type%22%3A%20%22Feature%22%7D%2C%20%7B%22bbox%22%3A%20%5B-71.055547%2C%2042.352175%2C%20-71.055547%2C%2042.352175%5D%2C%20%22geometry%22%3A%20%7B%22coordinates%22%3A%20%5B-71.055547%2C%2042.352175%5D%2C%20%22type%22%3A%20%22Point%22%7D%2C%20%22id%22%3A%20%22271%22%2C%20%22properties%22%3A%20%7B%22District%22%3A%20%22Boston%22%2C%20%22Latitude%22%3A%2042.352175%2C%20%22Longitude%22%3A%20-71.055547%2C%20%22Name%22%3A%20%22South%20Station%20-%20700%20Atlantic%20Ave%22%2C%20%22Number%22%3A%20%22A32010%22%2C%20%22Public%22%3A%20%22Yes%22%2C%20%22Total%20docks%22%3A%2047%7D%2C%20%22type%22%3A%20%22Feature%22%7D%2C%20%7B%22bbox%22%3A%20%5B-71.048927%2C%2042.378338%2C%20-71.048927%2C%2042.378338%5D%2C%20%22geometry%22%3A%20%7B%22coordinates%22%3A%20%5B-71.048927%2C%2042.378338%5D%2C%20%22type%22%3A%20%22Point%22%7D%2C%20%22id%22%3A%20%22272%22%2C%20%22properties%22%3A%20%7B%22District%22%3A%20%22Boston%22%2C%20%22Latitude%22%3A%2042.378338%2C%20%22Longitude%22%3A%20-71.048927%2C%20%22Name%22%3A%20%22Spaulding%20Rehabilitation%20Hospital%20-%20Charlestown%20Navy%20Yard%22%2C%20%22Number%22%3A%20%22D32023%22%2C%20%22Public%22%3A%20%22Yes%22%2C%20%22Total%20docks%22%3A%2019%7D%2C%20%22type%22%3A%20%22Feature%22%7D%2C%20%7B%22bbox%22%3A%20%5B-71.16341467955863%2C%2042.277484442008216%2C%20-71.16341467955863%2C%2042.277484442008216%5D%2C%20%22geometry%22%3A%20%7B%22coordinates%22%3A%20%5B-71.16341467955863%2C%2042.277484442008216%5D%2C%20%22type%22%3A%20%22Point%22%7D%2C%20%22id%22%3A%20%22273%22%2C%20%22properties%22%3A%20%7B%22District%22%3A%20%22Boston%22%2C%20%22Latitude%22%3A%2042.277484442008216%2C%20%22Longitude%22%3A%20-71.16341467955863%2C%20%22Name%22%3A%20%22Spring%20St%20at%20Powell%20St%22%2C%20%22Number%22%3A%20%22C32087%22%2C%20%22Public%22%3A%20%22Yes%22%2C%20%22Total%20docks%22%3A%2019%7D%2C%20%22type%22%3A%20%22Feature%22%7D%2C%20%7B%22bbox%22%3A%20%5B-71.10728681087494%2C%2042.346197076555455%2C%20-71.10728681087494%2C%2042.346197076555455%5D%2C%20%22geometry%22%3A%20%7B%22coordinates%22%3A%20%5B-71.10728681087494%2C%2042.346197076555455%5D%2C%20%22type%22%3A%20%22Point%22%7D%2C%20%22id%22%3A%20%22274%22%2C%20%22properties%22%3A%20%7B%22District%22%3A%20%22Brookline%22%2C%20%22Latitude%22%3A%2042.346197076555455%2C%20%22Longitude%22%3A%20-71.10728681087494%2C%20%22Name%22%3A%20%22St%20Mary%5Cu0027s%22%2C%20%22Number%22%3A%20%22K32007%22%2C%20%22Public%22%3A%20%22Yes%22%2C%20%22Total%20docks%22%3A%2015%7D%2C%20%22type%22%3A%20%22Feature%22%7D%2C%20%7B%22bbox%22%3A%20%5B-71.052608%2C%2042.344137%2C%20-71.052608%2C%2042.344137%5D%2C%20%22geometry%22%3A%20%7B%22coordinates%22%3A%20%5B-71.052608%2C%2042.344137%5D%2C%20%22type%22%3A%20%22Point%22%7D%2C%20%22id%22%3A%20%22275%22%2C%20%22properties%22%3A%20%7B%22District%22%3A%20%22Boston%22%2C%20%22Latitude%22%3A%2042.344137%2C%20%22Longitude%22%3A%20-71.052608%2C%20%22Name%22%3A%20%22State%20Street%20at%20Channel%20Center%22%2C%20%22Number%22%3A%20%22C32024%22%2C%20%22Public%22%3A%20%22Yes%22%2C%20%22Total%20docks%22%3A%2019%7D%2C%20%22type%22%3A%20%22Feature%22%7D%2C%20%7B%22bbox%22%3A%20%5B-71.104374%2C%2042.316966%2C%20-71.104374%2C%2042.316966%5D%2C%20%22geometry%22%3A%20%7B%22coordinates%22%3A%20%5B-71.104374%2C%2042.316966%5D%2C%20%22type%22%3A%20%22Point%22%7D%2C%20%22id%22%3A%20%22276%22%2C%20%22properties%22%3A%20%7B%22District%22%3A%20%22Boston%22%2C%20%22Latitude%22%3A%2042.316966%2C%20%22Longitude%22%3A%20-71.104374%2C%20%22Name%22%3A%20%22Stony%20Brook%20T%20Stop%22%2C%20%22Number%22%3A%20%22D32041%22%2C%20%22Public%22%3A%20%22Yes%22%2C%20%22Total%20docks%22%3A%2015%7D%2C%20%22type%22%3A%20%22Feature%22%7D%2C%20%7B%22bbox%22%3A%20%5B-71.0724207387284%2C%2042.34954403114251%2C%20-71.0724207387284%2C%2042.34954403114251%5D%2C%20%22geometry%22%3A%20%7B%22coordinates%22%3A%20%5B-71.0724207387284%2C%2042.34954403114251%5D%2C%20%22type%22%3A%20%22Point%22%7D%2C%20%22id%22%3A%20%22277%22%2C%20%22properties%22%3A%20%7B%22District%22%3A%20%22Boston%22%2C%20%22Latitude%22%3A%2042.34954403114251%2C%20%22Longitude%22%3A%20-71.0724207387284%2C%20%22Name%22%3A%20%22Stuart%20St%20at%20Berkeley%20St%22%2C%20%22Number%22%3A%20%22D32049%22%2C%20%22Public%22%3A%20%22Yes%22%2C%20%22Total%20docks%22%3A%2019%7D%2C%20%22type%22%3A%20%22Feature%22%7D%2C%20%7B%22bbox%22%3A%20%5B-71.066289%2C%2042.351146%2C%20-71.066289%2C%2042.351146%5D%2C%20%22geometry%22%3A%20%7B%22coordinates%22%3A%20%5B-71.066289%2C%2042.351146%5D%2C%20%22type%22%3A%20%22Point%22%7D%2C%20%22id%22%3A%20%22278%22%2C%20%22properties%22%3A%20%7B%22District%22%3A%20%22Boston%22%2C%20%22Latitude%22%3A%2042.351146%2C%20%22Longitude%22%3A%20-71.066289%2C%20%22Name%22%3A%20%22Stuart%20St%20at%20Charles%20St%22%2C%20%22Number%22%3A%20%22D32011%22%2C%20%22Public%22%3A%20%22Yes%22%2C%20%22Total%20docks%22%3A%2018%7D%2C%20%22type%22%3A%20%22Feature%22%7D%2C%20%7B%22bbox%22%3A%20%5B-71.07514854529654%2C%2042.38445225635844%2C%20-71.07514854529654%2C%2042.38445225635844%5D%2C%20%22geometry%22%3A%20%7B%22coordinates%22%3A%20%5B-71.07514854529654%2C%2042.38445225635844%5D%2C%20%22type%22%3A%20%22Point%22%7D%2C%20%22id%22%3A%20%22279%22%2C%20%22properties%22%3A%20%7B%22District%22%3A%20%22Boston%22%2C%20%22Latitude%22%3A%2042.38445225635844%2C%20%22Longitude%22%3A%20-71.07514854529654%2C%20%22Name%22%3A%20%22Sullivan%20Square%22%2C%20%22Number%22%3A%20%22D32053%22%2C%20%22Public%22%3A%20%22Yes%22%2C%20%22Total%20docks%22%3A%2019%7D%2C%20%22type%22%3A%20%22Feature%22%7D%2C%20%7B%22bbox%22%3A%20%5B-71.052163%2C%2042.358155%2C%20-71.052163%2C%2042.358155%5D%2C%20%22geometry%22%3A%20%7B%22coordinates%22%3A%20%5B-71.052163%2C%2042.358155%5D%2C%20%22type%22%3A%20%22Point%22%7D%2C%20%22id%22%3A%20%22280%22%2C%20%22properties%22%3A%20%7B%22District%22%3A%20%22Boston%22%2C%20%22Latitude%22%3A%2042.358155%2C%20%22Longitude%22%3A%20-71.052163%2C%20%22Name%22%3A%20%22Surface%20Rd%20at%20India%20St%22%2C%20%22Number%22%3A%20%22A32013%22%2C%20%22Public%22%3A%20%22Yes%22%2C%20%22Total%20docks%22%3A%2019%7D%2C%20%22type%22%3A%20%22Feature%22%7D%2C%20%7B%22bbox%22%3A%20%5B-71.05656400803126%2C%2042.35294569782581%2C%20-71.05656400803126%2C%2042.35294569782581%5D%2C%20%22geometry%22%3A%20%7B%22coordinates%22%3A%20%5B-71.05656400803126%2C%2042.35294569782581%5D%2C%20%22type%22%3A%20%22Point%22%7D%2C%20%22id%22%3A%20%22281%22%2C%20%22properties%22%3A%20%7B%22District%22%3A%20%22Boston%22%2C%20%22Latitude%22%3A%2042.35294569782581%2C%20%22Longitude%22%3A%20-71.05656400803126%2C%20%22Name%22%3A%20%22Surface%20Rd%20at%20Summer%20St%22%2C%20%22Number%22%3A%20%22A32042%22%2C%20%22Public%22%3A%20%22Yes%22%2C%20%22Total%20docks%22%3A%2027%7D%2C%20%22type%22%3A%20%22Feature%22%7D%2C%20%7B%22bbox%22%3A%20%5B-71.05355408051764%2C%2042.32039374304257%2C%20-71.05355408051764%2C%2042.32039374304257%5D%2C%20%22geometry%22%3A%20%7B%22coordinates%22%3A%20%5B-71.05355408051764%2C%2042.32039374304257%5D%2C%20%22type%22%3A%20%22Point%22%7D%2C%20%22id%22%3A%20%22282%22%2C%20%22properties%22%3A%20%7B%22District%22%3A%20%22Boston%22%2C%20%22Latitude%22%3A%2042.32039374304257%2C%20%22Longitude%22%3A%20-71.05355408051764%2C%20%22Name%22%3A%20%22Sydney%20St%20at%20Carson%20St%22%2C%20%22Number%22%3A%20%22C32064%22%2C%20%22Public%22%3A%20%22Yes%22%2C%20%22Total%20docks%22%3A%2019%7D%2C%20%22type%22%3A%20%22Feature%22%7D%2C%20%7B%22bbox%22%3A%20%5B-71.087111%2C%2042.2945833%2C%20-71.087111%2C%2042.2945833%5D%2C%20%22geometry%22%3A%20%7B%22coordinates%22%3A%20%5B-71.087111%2C%2042.2945833%5D%2C%20%22type%22%3A%20%22Point%22%7D%2C%20%22id%22%3A%20%22283%22%2C%20%22properties%22%3A%20%7B%22District%22%3A%20%22Boston%22%2C%20%22Latitude%22%3A%2042.2945833%2C%20%22Longitude%22%3A%20-71.087111%2C%20%22Name%22%3A%20%22Talbot%20Ave%20At%20Blue%20Hill%20Ave%22%2C%20%22Number%22%3A%20%22C32043%22%2C%20%22Public%22%3A%20%22Yes%22%2C%20%22Total%20docks%22%3A%2015%7D%2C%20%22type%22%3A%20%22Feature%22%7D%2C%20%7B%22bbox%22%3A%20%5B-71.128458827734%2C%2042.33209606301936%2C%20-71.128458827734%2C%2042.33209606301936%5D%2C%20%22geometry%22%3A%20%7B%22coordinates%22%3A%20%5B-71.128458827734%2C%2042.33209606301936%5D%2C%20%22type%22%3A%20%22Point%22%7D%2C%20%22id%22%3A%20%22284%22%2C%20%22properties%22%3A%20%7B%22District%22%3A%20%22Brookline%22%2C%20%22Latitude%22%3A%2042.33209606301936%2C%20%22Longitude%22%3A%20-71.128458827734%2C%20%22Name%22%3A%20%22Tappan%20St%20at%20Brookline%20Hills%20MBTA%22%2C%20%22Number%22%3A%20%22K32008%22%2C%20%22Public%22%3A%20%22Yes%22%2C%20%22Total%20docks%22%3A%2015%7D%2C%20%22type%22%3A%20%22Feature%22%7D%2C%20%7B%22bbox%22%3A%20%5B-71.1265329148955%2C%2042.40203828065014%2C%20-71.1265329148955%2C%2042.40203828065014%5D%2C%20%22geometry%22%3A%20%7B%22coordinates%22%3A%20%5B-71.1265329148955%2C%2042.40203828065014%5D%2C%20%22type%22%3A%20%22Point%22%7D%2C%20%22id%22%3A%20%22285%22%2C%20%22properties%22%3A%20%7B%22District%22%3A%20%22Somerville%22%2C%20%22Latitude%22%3A%2042.40203828065014%2C%20%22Longitude%22%3A%20-71.1265329148955%2C%20%22Name%22%3A%20%22Teele%20Square%22%2C%20%22Number%22%3A%20%22S32011%22%2C%20%22Public%22%3A%20%22Yes%22%2C%20%22Total%20docks%22%3A%2015%7D%2C%20%22type%22%3A%20%22Feature%22%7D%2C%20%7B%22bbox%22%3A%20%5B-71.09639923859504%2C%2042.3193094317828%2C%20-71.09639923859504%2C%2042.3193094317828%5D%2C%20%22geometry%22%3A%20%7B%22coordinates%22%3A%20%5B-71.09639923859504%2C%2042.3193094317828%5D%2C%20%22type%22%3A%20%22Point%22%7D%2C%20%22id%22%3A%20%22286%22%2C%20%22properties%22%3A%20%7B%22District%22%3A%20%22Boston%22%2C%20%22Latitude%22%3A%2042.3193094317828%2C%20%22Longitude%22%3A%20-71.09639923859504%2C%20%22Name%22%3A%20%22The%20Dimock%20Center%22%2C%20%22Number%22%3A%20%22E32011%22%2C%20%22Public%22%3A%20%22Yes%22%2C%20%22Total%20docks%22%3A%2016%7D%2C%20%22type%22%3A%20%22Feature%22%7D%2C%20%7B%22bbox%22%3A%20%5B-71.044201%2C%2042.370744%2C%20-71.044201%2C%2042.370744%5D%2C%20%22geometry%22%3A%20%7B%22coordinates%22%3A%20%5B-71.044201%2C%2042.370744%5D%2C%20%22type%22%3A%20%22Point%22%7D%2C%20%22id%22%3A%20%22287%22%2C%20%22properties%22%3A%20%7B%22District%22%3A%20%22Boston%22%2C%20%22Latitude%22%3A%2042.370744%2C%20%22Longitude%22%3A%20-71.044201%2C%20%22Name%22%3A%20%22The%20Eddy%20-%20New%20St%20at%20Sumner%20St%22%2C%20%22Number%22%3A%20%22A32033%22%2C%20%22Public%22%3A%20%22Yes%22%2C%20%22Total%20docks%22%3A%2015%7D%2C%20%22type%22%3A%20%22Feature%22%7D%2C%20%7B%22bbox%22%3A%20%5B-71.044024%2C%2042.344792%2C%20-71.044024%2C%2042.344792%5D%2C%20%22geometry%22%3A%20%7B%22coordinates%22%3A%20%5B-71.044024%2C%2042.344792%5D%2C%20%22type%22%3A%20%22Point%22%7D%2C%20%22id%22%3A%20%22288%22%2C%20%22properties%22%3A%20%7B%22District%22%3A%20%22Boston%22%2C%20%22Latitude%22%3A%2042.344792%2C%20%22Longitude%22%3A%20-71.044024%2C%20%22Name%22%3A%20%22The%20Lawn%20on%20D%22%2C%20%22Number%22%3A%20%22C32028%22%2C%20%22Public%22%3A%20%22Yes%22%2C%20%22Total%20docks%22%3A%2019%7D%2C%20%22type%22%3A%20%22Feature%22%7D%2C%20%7B%22bbox%22%3A%20%5B-71.07942931372236%2C%2042.286212948246096%2C%20-71.07942931372236%2C%2042.286212948246096%5D%2C%20%22geometry%22%3A%20%7B%22coordinates%22%3A%20%5B-71.07942931372236%2C%2042.286212948246096%5D%2C%20%22type%22%3A%20%22Point%22%7D%2C%20%22id%22%3A%20%22289%22%2C%20%22properties%22%3A%20%7B%22District%22%3A%20%22Boston%22%2C%20%22Latitude%22%3A%2042.286212948246096%2C%20%22Longitude%22%3A%20-71.07942931372236%2C%20%22Name%22%3A%20%22Thetford%20Ave%20at%20Norfolk%20St%22%2C%20%22Number%22%3A%20%22C32049%22%2C%20%22Public%22%3A%20%22Yes%22%2C%20%22Total%20docks%22%3A%2015%7D%2C%20%22type%22%3A%20%22Feature%22%7D%2C%20%7B%22bbox%22%3A%20%5B-71.08277142047882%2C%2042.36544486137399%2C%20-71.08277142047882%2C%2042.36544486137399%5D%2C%20%22geometry%22%3A%20%7B%22coordinates%22%3A%20%5B-71.08277142047882%2C%2042.36544486137399%5D%2C%20%22type%22%3A%20%22Point%22%7D%2C%20%22id%22%3A%20%22290%22%2C%20%22properties%22%3A%20%7B%22District%22%3A%20%22Cambridge%22%2C%20%22Latitude%22%3A%2042.36544486137399%2C%20%22Longitude%22%3A%20-71.08277142047882%2C%20%22Name%22%3A%20%22Third%20at%20Binney%22%2C%20%22Number%22%3A%20%22M32048%22%2C%20%22Public%22%3A%20%22Yes%22%2C%20%22Total%20docks%22%3A%2015%7D%2C%20%22type%22%3A%20%22Feature%22%7D%2C%20%7B%22bbox%22%3A%20%5B-71.069616%2C%2042.345392%2C%20-71.069616%2C%2042.345392%5D%2C%20%22geometry%22%3A%20%7B%22coordinates%22%3A%20%5B-71.069616%2C%2042.345392%5D%2C%20%22type%22%3A%20%22Point%22%7D%2C%20%22id%22%3A%20%22291%22%2C%20%22properties%22%3A%20%7B%22District%22%3A%20%22Boston%22%2C%20%22Latitude%22%3A%2042.345392%2C%20%22Longitude%22%3A%20-71.069616%2C%20%22Name%22%3A%20%22Tremont%20St%20at%20E%20Berkeley%20St%22%2C%20%22Number%22%3A%20%22C32000%22%2C%20%22Public%22%3A%20%22Yes%22%2C%20%22Total%20docks%22%3A%2019%7D%2C%20%22type%22%3A%20%22Feature%22%7D%2C%20%7B%22bbox%22%3A%20%5B-71.06166645884514%2C%2042.35668334969929%2C%20-71.06166645884514%2C%2042.35668334969929%5D%2C%20%22geometry%22%3A%20%7B%22coordinates%22%3A%20%5B-71.06166645884514%2C%2042.35668334969929%5D%2C%20%22type%22%3A%20%22Point%22%7D%2C%20%22id%22%3A%20%22292%22%2C%20%22properties%22%3A%20%7B%22District%22%3A%20%22Boston%22%2C%20%22Latitude%22%3A%2042.35668334969929%2C%20%22Longitude%22%3A%20-71.06166645884514%2C%20%22Name%22%3A%20%22Tremont%20St%20at%20Hamilton%20Pl%22%2C%20%22Number%22%3A%20%22B32056%22%2C%20%22Public%22%3A%20%22Yes%22%2C%20%22Total%20docks%22%3A%2019%7D%2C%20%22type%22%3A%20%22Feature%22%7D%2C%20%7B%22bbox%22%3A%20%5B-71.08149975611013%2C%2042.33889559644165%2C%20-71.08149975611013%2C%2042.33889559644165%5D%2C%20%22geometry%22%3A%20%7B%22coordinates%22%3A%20%5B-71.08149975611013%2C%2042.33889559644165%5D%2C%20%22type%22%3A%20%22Point%22%7D%2C%20%22id%22%3A%20%22293%22%2C%20%22properties%22%3A%20%7B%22District%22%3A%20%22Boston%22%2C%20%22Latitude%22%3A%2042.33889559644165%2C%20%22Longitude%22%3A%20-71.08149975611013%2C%20%22Name%22%3A%20%22Tremont%20St%20at%20Northampton%20St%22%2C%20%22Number%22%3A%20%22C32056%22%2C%20%22Public%22%3A%20%22Yes%22%2C%20%22Total%20docks%22%3A%2019%7D%2C%20%22type%22%3A%20%22Feature%22%7D%2C%20%7B%22bbox%22%3A%20%5B-71.07421449387857%2C%2042.34254913737952%2C%20-71.07421449387857%2C%2042.34254913737952%5D%2C%20%22geometry%22%3A%20%7B%22coordinates%22%3A%20%5B-71.07421449387857%2C%2042.34254913737952%5D%2C%20%22type%22%3A%20%22Point%22%7D%2C%20%22id%22%3A%20%22294%22%2C%20%22properties%22%3A%20%7B%22District%22%3A%20%22Boston%22%2C%20%22Latitude%22%3A%2042.34254913737952%2C%20%22Longitude%22%3A%20-71.07421449387857%2C%20%22Name%22%3A%20%22Tremont%20St%20at%20W.%20Dedham%20St%22%2C%20%22Number%22%3A%20%22C32060%22%2C%20%22Public%22%3A%20%22Yes%22%2C%20%22Total%20docks%22%3A%2015%7D%2C%20%22type%22%3A%20%22Feature%22%7D%2C%20%7B%22bbox%22%3A%20%5B-71.063348%2C%2042.354979%2C%20-71.063348%2C%2042.354979%5D%2C%20%22geometry%22%3A%20%7B%22coordinates%22%3A%20%5B-71.063348%2C%2042.354979%5D%2C%20%22type%22%3A%20%22Point%22%7D%2C%20%22id%22%3A%20%22295%22%2C%20%22properties%22%3A%20%7B%22District%22%3A%20%22Boston%22%2C%20%22Latitude%22%3A%2042.354979%2C%20%22Longitude%22%3A%20-71.063348%2C%20%22Name%22%3A%20%22Tremont%20St%20at%20West%20St%22%2C%20%22Number%22%3A%20%22D32014%22%2C%20%22Public%22%3A%20%22Yes%22%2C%20%22Total%20docks%22%3A%2015%7D%2C%20%22type%22%3A%20%22Feature%22%7D%2C%20%7B%22bbox%22%3A%20%5B-71.062256%2C%2042.343749%2C%20-71.062256%2C%2042.343749%5D%2C%20%22geometry%22%3A%20%7B%22coordinates%22%3A%20%5B-71.062256%2C%2042.343749%5D%2C%20%22type%22%3A%20%22Point%22%7D%2C%20%22id%22%3A%20%22296%22%2C%20%22properties%22%3A%20%7B%22District%22%3A%20%22Boston%22%2C%20%22Latitude%22%3A%2042.343749%2C%20%22Longitude%22%3A%20-71.062256%2C%20%22Name%22%3A%20%22Troy%20Boston%22%2C%20%22Number%22%3A%20%22C32035%22%2C%20%22Public%22%3A%20%22Yes%22%2C%20%22Total%20docks%22%3A%2014%7D%2C%20%22type%22%3A%20%22Feature%22%7D%2C%20%7B%22bbox%22%3A%20%5B-71.137313%2C%2042.353334%2C%20-71.137313%2C%2042.353334%5D%2C%20%22geometry%22%3A%20%7B%22coordinates%22%3A%20%5B-71.137313%2C%2042.353334%5D%2C%20%22type%22%3A%20%22Point%22%7D%2C%20%22id%22%3A%20%22297%22%2C%20%22properties%22%3A%20%7B%22District%22%3A%20%22Boston%22%2C%20%22Latitude%22%3A%2042.353334%2C%20%22Longitude%22%3A%20-71.137313%2C%20%22Name%22%3A%20%22Union%20Square%20-%20Brighton%20Ave%20at%20Cambridge%20St%22%2C%20%22Number%22%3A%20%22A32001%22%2C%20%22Public%22%3A%20%22Yes%22%2C%20%22Total%20docks%22%3A%2019%7D%2C%20%22type%22%3A%20%22Feature%22%7D%2C%20%7B%22bbox%22%3A%20%5B-71.09394280244487%2C%2042.37965809715277%2C%20-71.09394280244487%2C%2042.37965809715277%5D%2C%20%22geometry%22%3A%20%7B%22coordinates%22%3A%20%5B-71.09394280244487%2C%2042.37965809715277%5D%2C%20%22type%22%3A%20%22Point%22%7D%2C%20%22id%22%3A%20%22298%22%2C%20%22properties%22%3A%20%7B%22District%22%3A%20%22Somerville%22%2C%20%22Latitude%22%3A%2042.37965809715277%2C%20%22Longitude%22%3A%20-71.09394280244487%2C%20%22Name%22%3A%20%22Union%20Square%20-%20Somerville%22%2C%20%22Number%22%3A%20%22S32002%22%2C%20%22Public%22%3A%20%22Yes%22%2C%20%22Total%20docks%22%3A%2019%7D%2C%20%22type%22%3A%20%22Feature%22%7D%2C%20%7B%22bbox%22%3A%20%5B-71.03648586203235%2C%2042.31218918475612%2C%20-71.03648586203235%2C%2042.31218918475612%5D%2C%20%22geometry%22%3A%20%7B%22coordinates%22%3A%20%5B-71.03648586203235%2C%2042.31218918475612%5D%2C%20%22type%22%3A%20%22Point%22%7D%2C%20%22id%22%3A%20%22299%22%2C%20%22properties%22%3A%20%7B%22District%22%3A%20%22Boston%22%2C%20%22Latitude%22%3A%2042.31218918475612%2C%20%22Longitude%22%3A%20-71.03648586203235%2C%20%22Name%22%3A%20%22University%20of%20Massachusetts%20Boston%20-%20Campus%20Center%22%2C%20%22Number%22%3A%20%22C32014%22%2C%20%22Public%22%3A%20%22Yes%22%2C%20%22Total%20docks%22%3A%2019%7D%2C%20%22type%22%3A%20%22Feature%22%7D%2C%20%7B%22bbox%22%3A%20%5B-71.10006093978882%2C%2042.36264779118595%2C%20-71.10006093978882%2C%2042.36264779118595%5D%2C%20%22geometry%22%3A%20%7B%22coordinates%22%3A%20%5B-71.10006093978882%2C%2042.36264779118595%5D%2C%20%22type%22%3A%20%22Point%22%7D%2C%20%22id%22%3A%20%22300%22%2C%20%22properties%22%3A%20%7B%22District%22%3A%20%22Cambridge%22%2C%20%22Latitude%22%3A%2042.36264779118595%2C%20%22Longitude%22%3A%20-71.10006093978882%2C%20%22Name%22%3A%20%22University%20Park%22%2C%20%22Number%22%3A%20%22M32040%22%2C%20%22Public%22%3A%20%22Yes%22%2C%20%22Total%20docks%22%3A%2019%7D%2C%20%22type%22%3A%20%22Feature%22%7D%2C%20%7B%22bbox%22%3A%20%5B-71.06537003967787%2C%2042.31727474327453%2C%20-71.06537003967787%2C%2042.31727474327453%5D%2C%20%22geometry%22%3A%20%7B%22coordinates%22%3A%20%5B-71.06537003967787%2C%2042.31727474327453%5D%2C%20%22type%22%3A%20%22Point%22%7D%2C%20%22id%22%3A%20%22301%22%2C%20%22properties%22%3A%20%7B%22District%22%3A%20%22Boston%22%2C%20%22Latitude%22%3A%2042.31727474327453%2C%20%22Longitude%22%3A%20-71.06537003967787%2C%20%22Name%22%3A%20%22Upham%5Cu0027s%20Corner%22%2C%20%22Number%22%3A%20%22C32019%22%2C%20%22Public%22%3A%20%22Yes%22%2C%20%22Total%20docks%22%3A%200%7D%2C%20%22type%22%3A%20%22Feature%22%7D%2C%20%7B%22bbox%22%3A%20%5B-71.0697814822197%2C%2042.318697341722434%2C%20-71.0697814822197%2C%2042.318697341722434%5D%2C%20%22geometry%22%3A%20%7B%22coordinates%22%3A%20%5B-71.0697814822197%2C%2042.318697341722434%5D%2C%20%22type%22%3A%20%22Point%22%7D%2C%20%22id%22%3A%20%22302%22%2C%20%22properties%22%3A%20%7B%22District%22%3A%20%22Boston%22%2C%20%22Latitude%22%3A%2042.318697341722434%2C%20%22Longitude%22%3A%20-71.0697814822197%2C%20%22Name%22%3A%20%22Upham%5Cu0027s%20Corner%20T%20Stop%20-%20Magnolia%20St%20at%20Dudley%20St%22%2C%20%22Number%22%3A%20%22B32025%22%2C%20%22Public%22%3A%20%22Yes%22%2C%20%22Total%20docks%22%3A%2015%7D%2C%20%22type%22%3A%20%22Feature%22%7D%2C%20%7B%22bbox%22%3A%20%5B-71.13961271959852%2C%2042.3839322489048%2C%20-71.13961271959852%2C%2042.3839322489048%5D%2C%20%22geometry%22%3A%20%7B%22coordinates%22%3A%20%5B-71.13961271959852%2C%2042.3839322489048%5D%2C%20%22type%22%3A%20%22Point%22%7D%2C%20%22id%22%3A%20%22303%22%2C%20%22properties%22%3A%20%7B%22District%22%3A%20%22Cambridge%22%2C%20%22Latitude%22%3A%2042.3839322489048%2C%20%22Longitude%22%3A%20-71.13961271959852%2C%20%22Name%22%3A%20%22Vassal%20Lane%20at%20Tobin/VLUS%22%2C%20%22Number%22%3A%20%22M32057%22%2C%20%22Public%22%3A%20%22Yes%22%2C%20%22Total%20docks%22%3A%2019%7D%2C%20%22type%22%3A%20%22Feature%22%7D%2C%20%7B%22bbox%22%3A%20%5B-71.11305356025696%2C%2042.37250864997261%2C%20-71.11305356025696%2C%2042.37250864997261%5D%2C%20%22geometry%22%3A%20%7B%22coordinates%22%3A%20%5B-71.11305356025696%2C%2042.37250864997261%5D%2C%20%22type%22%3A%20%22Point%22%7D%2C%20%22id%22%3A%20%22304%22%2C%20%22properties%22%3A%20%7B%22District%22%3A%20%22Cambridge%22%2C%20%22Latitude%22%3A%2042.37250864997261%2C%20%22Longitude%22%3A%20-71.11305356025696%2C%20%22Name%22%3A%20%22Verizon%20Innovation%20Hub%2010%20Ware%20Street%22%2C%20%22Number%22%3A%20%22M32050%22%2C%20%22Public%22%3A%20%22Yes%22%2C%20%22Total%20docks%22%3A%2019%7D%2C%20%22type%22%3A%20%22Feature%22%7D%2C%20%7B%22bbox%22%3A%20%5B-71.0514432%2C%2042.3391085%2C%20-71.0514432%2C%2042.3391085%5D%2C%20%22geometry%22%3A%20%7B%22coordinates%22%3A%20%5B-71.0514432%2C%2042.3391085%5D%2C%20%22type%22%3A%20%22Point%22%7D%2C%20%22id%22%3A%20%22305%22%2C%20%22properties%22%3A%20%7B%22District%22%3A%20%22Boston%22%2C%20%22Latitude%22%3A%2042.3391085%2C%20%22Longitude%22%3A%20-71.0514432%2C%20%22Name%22%3A%20%22W%20Broadway%20at%20D%20St%22%2C%20%22Number%22%3A%20%22C32029%22%2C%20%22Public%22%3A%20%22Yes%22%2C%20%22Total%20docks%22%3A%2023%7D%2C%20%22type%22%3A%20%22Feature%22%7D%2C%20%7B%22bbox%22%3A%20%5B-71.04622899561036%2C%2042.33595897943309%2C%20-71.04622899561036%2C%2042.33595897943309%5D%2C%20%22geometry%22%3A%20%7B%22coordinates%22%3A%20%5B-71.04622899561036%2C%2042.33595897943309%5D%2C%20%22type%22%3A%20%22Point%22%7D%2C%20%22id%22%3A%20%22306%22%2C%20%22properties%22%3A%20%7B%22District%22%3A%20%22Boston%22%2C%20%22Latitude%22%3A%2042.33595897943309%2C%20%22Longitude%22%3A%20-71.04622899561036%2C%20%22Name%22%3A%20%22W%20Broadway%20at%20Dorchester%20St%22%2C%20%22Number%22%3A%20%22C32016%22%2C%20%22Public%22%3A%20%22Yes%22%2C%20%22Total%20docks%22%3A%2017%7D%2C%20%22type%22%3A%20%22Feature%22%7D%2C%20%7B%22bbox%22%3A%20%5B-71.083235%2C%2042.324081%2C%20-71.083235%2C%2042.324081%5D%2C%20%22geometry%22%3A%20%7B%22coordinates%22%3A%20%5B-71.083235%2C%2042.324081%5D%2C%20%22type%22%3A%20%22Point%22%7D%2C%20%22id%22%3A%20%22307%22%2C%20%22properties%22%3A%20%7B%22District%22%3A%20%22Boston%22%2C%20%22Latitude%22%3A%2042.324081%2C%20%22Longitude%22%3A%20-71.083235%2C%20%22Name%22%3A%20%22Walnut%20Ave%20at%20Warren%20St%22%2C%20%22Number%22%3A%20%22B32030%22%2C%20%22Public%22%3A%20%22Yes%22%2C%20%22Total%20docks%22%3A%200%7D%2C%20%22type%22%3A%20%22Feature%22%7D%2C%20%7B%22bbox%22%3A%20%5B-71.060292%2C%2042.371848%2C%20-71.060292%2C%2042.371848%5D%2C%20%22geometry%22%3A%20%7B%22coordinates%22%3A%20%5B-71.060292%2C%2042.371848%5D%2C%20%22type%22%3A%20%22Point%22%7D%2C%20%22id%22%3A%20%22308%22%2C%20%22properties%22%3A%20%7B%22District%22%3A%20%22Boston%22%2C%20%22Latitude%22%3A%2042.371848%2C%20%22Longitude%22%3A%20-71.060292%2C%20%22Name%22%3A%20%22Warren%20St%20at%20Chelsea%20St%22%2C%20%22Number%22%3A%20%22D32021%22%2C%20%22Public%22%3A%20%22Yes%22%2C%20%22Total%20docks%22%3A%2023%7D%2C%20%22type%22%3A%20%22Feature%22%7D%2C%20%7B%22bbox%22%3A%20%5B-71.07345871645519%2C%2042.29916497936589%2C%20-71.07345871645519%2C%2042.29916497936589%5D%2C%20%22geometry%22%3A%20%7B%22coordinates%22%3A%20%5B-71.07345871645519%2C%2042.29916497936589%5D%2C%20%22type%22%3A%20%22Point%22%7D%2C%20%22id%22%3A%20%22309%22%2C%20%22properties%22%3A%20%7B%22District%22%3A%20%22Boston%22%2C%20%22Latitude%22%3A%2042.29916497936589%2C%20%22Longitude%22%3A%20-71.07345871645519%2C%20%22Name%22%3A%20%22Washington%20St%20at%20Bradlee%20St%22%2C%20%22Number%22%3A%20%22C32042%22%2C%20%22Public%22%3A%20%22Yes%22%2C%20%22Total%20docks%22%3A%200%7D%2C%20%22type%22%3A%20%22Feature%22%7D%2C%20%7B%22bbox%22%3A%20%5B-71.16031676530838%2C%2042.3489528466951%2C%20-71.16031676530838%2C%2042.3489528466951%5D%2C%20%22geometry%22%3A%20%7B%22coordinates%22%3A%20%5B-71.16031676530838%2C%2042.3489528466951%5D%2C%20%22type%22%3A%20%22Point%22%7D%2C%20%22id%22%3A%20%22310%22%2C%20%22properties%22%3A%20%7B%22District%22%3A%20%22Boston%22%2C%20%22Latitude%22%3A%2042.3489528466951%2C%20%22Longitude%22%3A%20-71.16031676530838%2C%20%22Name%22%3A%20%22Washington%20St%20at%20Brock%20St%22%2C%20%22Number%22%3A%20%22D32029%22%2C%20%22Public%22%3A%20%22Yes%22%2C%20%22Total%20docks%22%3A%2015%7D%2C%20%22type%22%3A%20%22Feature%22%7D%2C%20%7B%22bbox%22%3A%20%5B-71.13423757273267%2C%2042.280728147169015%2C%20-71.13423757273267%2C%2042.280728147169015%5D%2C%20%22geometry%22%3A%20%7B%22coordinates%22%3A%20%5B-71.13423757273267%2C%2042.280728147169015%5D%2C%20%22type%22%3A%20%22Point%22%7D%2C%20%22id%22%3A%20%22311%22%2C%20%22properties%22%3A%20%7B%22District%22%3A%20%22Boston%22%2C%20%22Latitude%22%3A%2042.280728147169015%2C%20%22Longitude%22%3A%20-71.13423757273267%2C%20%22Name%22%3A%20%22Washington%20St%20at%20Denton%20Terr%22%2C%20%22Number%22%3A%20%22C32081%22%2C%20%22Public%22%3A%20%22Yes%22%2C%20%22Total%20docks%22%3A%2019%7D%2C%20%22type%22%3A%20%22Feature%22%7D%2C%20%7B%22bbox%22%3A%20%5B-71.14127840855872%2C%2042.34286835071959%2C%20-71.14127840855872%2C%2042.34286835071959%5D%2C%20%22geometry%22%3A%20%7B%22coordinates%22%3A%20%5B-71.14127840855872%2C%2042.34286835071959%5D%2C%20%22type%22%3A%20%22Point%22%7D%2C%20%22id%22%3A%20%22312%22%2C%20%22properties%22%3A%20%7B%22District%22%3A%20%22Boston%22%2C%20%22Latitude%22%3A%2042.34286835071959%2C%20%22Longitude%22%3A%20-71.14127840855872%2C%20%22Name%22%3A%20%22Washington%20St%20at%20Egremont%20Rd%22%2C%20%22Number%22%3A%20%22A32037%22%2C%20%22Public%22%3A%20%22Yes%22%2C%20%22Total%20docks%22%3A%2015%7D%2C%20%22type%22%3A%20%22Feature%22%7D%2C%20%7B%22bbox%22%3A%20%5B-71.07147924620222%2C%2042.281986277339136%2C%20-71.07147924620222%2C%2042.281986277339136%5D%2C%20%22geometry%22%3A%20%7B%22coordinates%22%3A%20%5B-71.07147924620222%2C%2042.281986277339136%5D%2C%20%22type%22%3A%20%22Point%22%7D%2C%20%22id%22%3A%20%22313%22%2C%20%22properties%22%3A%20%7B%22District%22%3A%20%22Boston%22%2C%20%22Latitude%22%3A%2042.281986277339136%2C%20%22Longitude%22%3A%20-71.07147924620222%2C%20%22Name%22%3A%20%22Washington%20St%20at%20Fuller%20St%22%2C%20%22Number%22%3A%20%22C32084%22%2C%20%22Public%22%3A%20%22Yes%22%2C%20%22Total%20docks%22%3A%2015%7D%2C%20%22type%22%3A%20%22Feature%22%7D%2C%20%7B%22bbox%22%3A%20%5B-71.13050930220197%2C%2042.33833423719901%2C%20-71.13050930220197%2C%2042.33833423719901%5D%2C%20%22geometry%22%3A%20%7B%22coordinates%22%3A%20%5B-71.13050930220197%2C%2042.33833423719901%5D%2C%20%22type%22%3A%20%22Point%22%7D%2C%20%22id%22%3A%20%22314%22%2C%20%22properties%22%3A%20%7B%22District%22%3A%20%22Brookline%22%2C%20%22Latitude%22%3A%2042.33833423719901%2C%20%22Longitude%22%3A%20-71.13050930220197%2C%20%22Name%22%3A%20%22Washington%20St%20at%20Griggs%20Rd%22%2C%20%22Number%22%3A%20%22K32011%22%2C%20%22Public%22%3A%20%22Yes%22%2C%20%22Total%20docks%22%3A%2015%7D%2C%20%22type%22%3A%20%22Feature%22%7D%2C%20%7B%22bbox%22%3A%20%5B-71.07903778553009%2C%2042.3350989929096%2C%20-71.07903778553009%2C%2042.3350989929096%5D%2C%20%22geometry%22%3A%20%7B%22coordinates%22%3A%20%5B-71.07903778553009%2C%2042.3350989929096%5D%2C%20%22type%22%3A%20%22Point%22%7D%2C%20%22id%22%3A%20%22315%22%2C%20%22properties%22%3A%20%7B%22District%22%3A%20%22Boston%22%2C%20%22Latitude%22%3A%2042.3350989929096%2C%20%22Longitude%22%3A%20-71.07903778553009%2C%20%22Name%22%3A%20%22Washington%20St%20at%20Lenox%20St%22%2C%20%22Number%22%3A%20%22C32005%22%2C%20%22Public%22%3A%20%22Yes%22%2C%20%22Total%20docks%22%3A%2015%7D%2C%20%22type%22%3A%20%22Feature%22%7D%2C%20%7B%22bbox%22%3A%20%5B-71.081198%2C%2042.332817%2C%20-71.081198%2C%2042.332817%5D%2C%20%22geometry%22%3A%20%7B%22coordinates%22%3A%20%5B-71.081198%2C%2042.332817%5D%2C%20%22type%22%3A%20%22Point%22%7D%2C%20%22id%22%3A%20%22316%22%2C%20%22properties%22%3A%20%7B%22District%22%3A%20%22Boston%22%2C%20%22Latitude%22%3A%2042.332817%2C%20%22Longitude%22%3A%20-71.081198%2C%20%22Name%22%3A%20%22Washington%20St%20at%20Melnea%20Cass%20Blvd%22%2C%20%22Number%22%3A%20%22B32026%22%2C%20%22Public%22%3A%20%22Yes%22%2C%20%22Total%20docks%22%3A%2015%7D%2C%20%22type%22%3A%20%22Feature%22%7D%2C%20%7B%22bbox%22%3A%20%5B-71.08377588917392%2C%2042.381699831636816%2C%20-71.08377588917392%2C%2042.381699831636816%5D%2C%20%22geometry%22%3A%20%7B%22coordinates%22%3A%20%5B-71.08377588917392%2C%2042.381699831636816%5D%2C%20%22type%22%3A%20%22Point%22%7D%2C%20%22id%22%3A%20%22317%22%2C%20%22properties%22%3A%20%7B%22District%22%3A%20%22Somerville%22%2C%20%22Latitude%22%3A%2042.381699831636816%2C%20%22Longitude%22%3A%20-71.08377588917392%2C%20%22Name%22%3A%20%22Washington%20St%20at%20Myrtle%20St%22%2C%20%22Number%22%3A%20%22S32021%22%2C%20%22Public%22%3A%20%22Yes%22%2C%20%22Total%20docks%22%3A%2015%7D%2C%20%22type%22%3A%20%22Feature%22%7D%2C%20%7B%22bbox%22%3A%20%5B-71.06688730436872%2C%2042.34303291130257%2C%20-71.06688730436872%2C%2042.34303291130257%5D%2C%20%22geometry%22%3A%20%7B%22coordinates%22%3A%20%5B-71.06688730436872%2C%2042.34303291130257%5D%2C%20%22type%22%3A%20%22Point%22%7D%2C%20%22id%22%3A%20%22318%22%2C%20%22properties%22%3A%20%7B%22District%22%3A%20%22Boston%22%2C%20%22Latitude%22%3A%2042.34303291130257%2C%20%22Longitude%22%3A%20-71.06688730436872%2C%20%22Name%22%3A%20%22Washington%20St%20at%20Peters%20Park%22%2C%20%22Number%22%3A%20%22C32067%22%2C%20%22Public%22%3A%20%22Yes%22%2C%20%22Total%20docks%22%3A%2019%7D%2C%20%22type%22%3A%20%22Feature%22%7D%2C%20%7B%22bbox%22%3A%20%5B-71.07404083013535%2C%2042.338514601786%2C%20-71.07404083013535%2C%2042.338514601786%5D%2C%20%22geometry%22%3A%20%7B%22coordinates%22%3A%20%5B-71.07404083013535%2C%2042.338514601786%5D%2C%20%22type%22%3A%20%22Point%22%7D%2C%20%22id%22%3A%20%22319%22%2C%20%22properties%22%3A%20%7B%22District%22%3A%20%22Boston%22%2C%20%22Latitude%22%3A%2042.338514601786%2C%20%22Longitude%22%3A%20-71.07404083013535%2C%20%22Name%22%3A%20%22Washington%20St%20at%20Rutland%20St%22%2C%20%22Number%22%3A%20%22C32006%22%2C%20%22Public%22%3A%20%22Yes%22%2C%20%22Total%20docks%22%3A%2023%7D%2C%20%22type%22%3A%20%22Feature%22%7D%2C%20%7B%22bbox%22%3A%20%5B-71.071806%2C%2042.290333%2C%20-71.071806%2C%2042.290333%5D%2C%20%22geometry%22%3A%20%7B%22coordinates%22%3A%20%5B-71.071806%2C%2042.290333%5D%2C%20%22type%22%3A%20%22Point%22%7D%2C%20%22id%22%3A%20%22320%22%2C%20%22properties%22%3A%20%7B%22District%22%3A%20%22Boston%22%2C%20%22Latitude%22%3A%2042.290333%2C%20%22Longitude%22%3A%20-71.071806%2C%20%22Name%22%3A%20%22Washington%20St%20at%20Talbot%20Ave%22%2C%20%22Number%22%3A%20%22C32038%22%2C%20%22Public%22%3A%20%22Yes%22%2C%20%22Total%20docks%22%3A%2017%7D%2C%20%22type%22%3A%20%22Feature%22%7D%2C%20%7B%22bbox%22%3A%20%5B-71.06955613950048%2C%2042.27719469639791%2C%20-71.06955613950048%2C%2042.27719469639791%5D%2C%20%22geometry%22%3A%20%7B%22coordinates%22%3A%20%5B-71.06955613950048%2C%2042.27719469639791%5D%2C%20%22type%22%3A%20%22Point%22%7D%2C%20%22id%22%3A%20%22321%22%2C%20%22properties%22%3A%20%7B%22District%22%3A%20%22Boston%22%2C%20%22Latitude%22%3A%2042.27719469639791%2C%20%22Longitude%22%3A%20-71.06955613950048%2C%20%22Name%22%3A%20%22Washington%20St%20at%20Walsh%20Playground%22%2C%20%22Number%22%3A%20%22C32083%22%2C%20%22Public%22%3A%20%22Yes%22%2C%20%22Total%20docks%22%3A%2019%7D%2C%20%22type%22%3A%20%22Feature%22%7D%2C%20%7B%22bbox%22%3A%20%5B-71.06886953115463%2C%2042.34155984972459%2C%20-71.06886953115463%2C%2042.34155984972459%5D%2C%20%22geometry%22%3A%20%7B%22coordinates%22%3A%20%5B-71.06886953115463%2C%2042.34155984972459%5D%2C%20%22type%22%3A%20%22Point%22%7D%2C%20%22id%22%3A%20%22322%22%2C%20%22properties%22%3A%20%7B%22District%22%3A%20%22Boston%22%2C%20%22Latitude%22%3A%2042.34155984972459%2C%20%22Longitude%22%3A%20-71.06886953115463%2C%20%22Name%22%3A%20%22Washington%20St%20at%20Waltham%20St%22%2C%20%22Number%22%3A%20%22D32002%22%2C%20%22Public%22%3A%20%22Yes%22%2C%20%22Total%20docks%22%3A%2015%7D%2C%20%22type%22%3A%20%22Feature%22%7D%2C%20%7B%22bbox%22%3A%20%5B-71.04569256305693%2C%2042.351586001198456%2C%20-71.04569256305693%2C%2042.351586001198456%5D%2C%20%22geometry%22%3A%20%7B%22coordinates%22%3A%20%5B-71.04569256305693%2C%2042.351586001198456%5D%2C%20%22type%22%3A%20%22Point%22%7D%2C%20%22id%22%3A%20%22323%22%2C%20%22properties%22%3A%20%7B%22District%22%3A%20%22Boston%22%2C%20%22Latitude%22%3A%2042.351586001198456%2C%20%22Longitude%22%3A%20-71.04569256305693%2C%20%22Name%22%3A%20%22Watermark%20Seaport%20-%20Boston%20Wharf%20Rd%20at%20Seaport%20Blvd%22%2C%20%22Number%22%3A%20%22C32034%22%2C%20%22Public%22%3A%20%22Yes%22%2C%20%22Total%20docks%22%3A%2015%7D%2C%20%22type%22%3A%20%22Feature%22%7D%2C%20%7B%22bbox%22%3A%20%5B-71.09627097845076%2C%2042.33758601097239%2C%20-71.09627097845076%2C%2042.33758601097239%5D%2C%20%22geometry%22%3A%20%7B%22coordinates%22%3A%20%5B-71.09627097845076%2C%2042.33758601097239%5D%2C%20%22type%22%3A%20%22Point%22%7D%2C%20%22id%22%3A%20%22324%22%2C%20%22properties%22%3A%20%7B%22District%22%3A%20%22Boston%22%2C%20%22Latitude%22%3A%2042.33758601097239%2C%20%22Longitude%22%3A%20-71.09627097845076%2C%20%22Name%22%3A%20%22Wentworth%20Institute%20of%20Technology%20-%20Huntington%20Ave%20at%20Vancouver%20St%22%2C%20%22Number%22%3A%20%22B32021%22%2C%20%22Public%22%3A%20%22Yes%22%2C%20%22Total%20docks%22%3A%2014%7D%2C%20%22type%22%3A%20%22Feature%22%7D%2C%20%7B%22bbox%22%3A%20%5B-71.06446668505669%2C%2042.36590788445084%2C%20-71.06446668505669%2C%2042.36590788445084%5D%2C%20%22geometry%22%3A%20%7B%22coordinates%22%3A%20%5B-71.06446668505669%2C%2042.36590788445084%5D%2C%20%22type%22%3A%20%22Point%22%7D%2C%20%22id%22%3A%20%22325%22%2C%20%22properties%22%3A%20%7B%22District%22%3A%20%22Boston%22%2C%20%22Latitude%22%3A%2042.36590788445084%2C%20%22Longitude%22%3A%20-71.06446668505669%2C%20%22Name%22%3A%20%22West%20End%20Park%22%2C%20%22Number%22%3A%20%22D32022%22%2C%20%22Public%22%3A%20%22Yes%22%2C%20%22Total%20docks%22%3A%2035%7D%2C%20%22type%22%3A%20%22Feature%22%7D%2C%20%7B%22bbox%22%3A%20%5B-71.14393111327445%2C%2042.36178741066188%2C%20-71.14393111327445%2C%2042.36178741066188%5D%2C%20%22geometry%22%3A%20%7B%22coordinates%22%3A%20%5B-71.14393111327445%2C%2042.36178741066188%5D%2C%20%22type%22%3A%20%22Point%22%7D%2C%20%22id%22%3A%20%22326%22%2C%20%22properties%22%3A%20%7B%22District%22%3A%20%22Boston%22%2C%20%22Latitude%22%3A%2042.36178741066188%2C%20%22Longitude%22%3A%20-71.14393111327445%2C%20%22Name%22%3A%20%22Western%20Ave%20at%20Richardson%20St%22%2C%20%22Number%22%3A%20%22A32043%22%2C%20%22Public%22%3A%20%22Yes%22%2C%20%22Total%20docks%22%3A%2019%7D%2C%20%22type%22%3A%20%22Feature%22%7D%2C%20%7B%22bbox%22%3A%20%5B-71.09218861916816%2C%2042.33286288486264%2C%20-71.09218861916816%2C%2042.33286288486264%5D%2C%20%22geometry%22%3A%20%7B%22coordinates%22%3A%20%5B-71.09218861916816%2C%2042.33286288486264%5D%2C%20%22type%22%3A%20%22Point%22%7D%2C%20%22id%22%3A%20%22327%22%2C%20%22properties%22%3A%20%7B%22District%22%3A%20%22Boston%22%2C%20%22Latitude%22%3A%2042.33286288486264%2C%20%22Longitude%22%3A%20-71.09218861916816%2C%20%22Name%22%3A%20%22Whittier%20St%20Health%20Center%22%2C%20%22Number%22%3A%20%22B32059%22%2C%20%22Public%22%3A%20%22Yes%22%2C%20%22Total%20docks%22%3A%2019%7D%2C%20%22type%22%3A%20%22Feature%22%7D%2C%20%7B%22bbox%22%3A%20%5B-71.107669%2C%2042.306539%2C%20-71.107669%2C%2042.306539%5D%2C%20%22geometry%22%3A%20%7B%22coordinates%22%3A%20%5B-71.107669%2C%2042.306539%5D%2C%20%22type%22%3A%20%22Point%22%7D%2C%20%22id%22%3A%20%22328%22%2C%20%22properties%22%3A%20%7B%22District%22%3A%20%22Boston%22%2C%20%22Latitude%22%3A%2042.306539%2C%20%22Longitude%22%3A%20-71.107669%2C%20%22Name%22%3A%20%22Williams%20St%20at%20Washington%20St%22%2C%20%22Number%22%3A%20%22D32040%22%2C%20%22Public%22%3A%20%22Yes%22%2C%20%22Total%20docks%22%3A%2019%7D%2C%20%22type%22%3A%20%22Feature%22%7D%2C%20%7B%22bbox%22%3A%20%5B-71.113341%2C%2042.385582%2C%20-71.113341%2C%2042.385582%5D%2C%20%22geometry%22%3A%20%7B%22coordinates%22%3A%20%5B-71.113341%2C%2042.385582%5D%2C%20%22type%22%3A%20%22Point%22%7D%2C%20%22id%22%3A%20%22329%22%2C%20%22properties%22%3A%20%7B%22District%22%3A%20%22Somerville%22%2C%20%22Latitude%22%3A%2042.385582%2C%20%22Longitude%22%3A%20-71.113341%2C%20%22Name%22%3A%20%22Wilson%20Square%22%2C%20%22Number%22%3A%20%22S32005%22%2C%20%22Public%22%3A%20%22Yes%22%2C%20%22Total%20docks%22%3A%2015%7D%2C%20%22type%22%3A%20%22Feature%22%7D%5D%2C%20%22type%22%3A%20%22FeatureCollection%22%7D%29%3B%0A%0A%20%20%20%20%20%20%20%20%0A%3C/script%3E onload=\"this.contentDocument.open();this.contentDocument.write(    decodeURIComponent(this.getAttribute('data-html')));this.contentDocument.close();\" allowfullscreen webkitallowfullscreen mozallowfullscreen></iframe></div></div>"
      ],
      "text/plain": [
       "<folium.folium.Map at 0x7f365974aa60>"
      ]
     },
     "execution_count": 8,
     "metadata": {},
     "output_type": "execute_result"
    }
   ],
   "source": [
    "m = folium.Map([mean_lat, mean_lon], zoom_start= 11, tiles='cartodbpositron')\n",
    "folium.GeoJson(gdf_stations).add_to(m)\n",
    "\n",
    "m\n"
   ]
  },
  {
   "cell_type": "markdown",
   "id": "touched-feeling",
   "metadata": {},
   "source": [
    "<img src=\"img/Station_Maps.png\" />"
   ]
  },
  {
   "cell_type": "markdown",
   "id": "sporting-bobby",
   "metadata": {},
   "source": [
    "## 4. Data Analysis\n",
    "\n",
    "In this section we analyze the data sets to find answer to the questions we posed in the introduction."
   ]
  },
  {
   "cell_type": "markdown",
   "id": "prime-aruba",
   "metadata": {},
   "source": [
    "### 4.1 Trends in time?\n",
    "\n",
    "In this section we check to see how usage are changing over the years, months, and daya of the week. "
   ]
  },
  {
   "cell_type": "markdown",
   "id": "little-judges",
   "metadata": {},
   "source": [
    "#### Yearly trends!"
   ]
  },
  {
   "cell_type": "code",
   "execution_count": 235,
   "id": "increased-treasurer",
   "metadata": {},
   "outputs": [
    {
     "data": {
      "image/png": "[encoded data removed]",
      "text/plain": [
       "<Figure size 432x288 with 1 Axes>"
      ]
     },
     "metadata": {
      "needs_background": "light"
     },
     "output_type": "display_data"
    }
   ],
   "source": [
    "import matplotlib.pylab as plt\n",
    "import matplotlib.dates as mdates\n",
    "\n",
    "import calendar\n",
    "calendar.setfirstweekday(calendar.SUNDAY)\n",
    "\n",
    "ax = df_2015_2020.starttime.groupby(df_2015_2020.starttime.dt.year).agg('count').plot(kind=\"bar\", xlabel='Years', ylabel='Number of trips')\n",
    "\n",
    "# ax = df_2015_2020_monthly_sum.plot(kind=\"bar\")\n",
    "# set monthly locator\n",
    "# ax.xaxis.set_major_locator(mdates.MonthLocator(interval=1))\n",
    "# # set formatter\n",
    "# ax.xaxis.set_major_formatter(mdates.DateFormatter('%b'))\n",
    "# # set font and rotation for date tick labels\n",
    "# plt.gcf().autofmt_xdate()\n",
    "\n",
    "plt.savefig('Yearly_Sum_Number_of_Trips.png')"
   ]
  },
  {
   "cell_type": "markdown",
   "id": "lasting-sharing",
   "metadata": {},
   "source": [
    "Looking at the usage rate over the years we can easily seen that usage has been grown rapidly from 2015 to 2019. Then there is a **drop in 2020**. It might be relevant to the COVID-19. We can check it out more later. "
   ]
  },
  {
   "cell_type": "markdown",
   "id": "upper-hebrew",
   "metadata": {},
   "source": [
    "#### Monthly usage"
   ]
  },
  {
   "cell_type": "code",
   "execution_count": 345,
   "id": "stupid-saudi",
   "metadata": {},
   "outputs": [],
   "source": [
    "df_2015_2020_monthly_sum = df_2015_2020.set_index('starttime').resample('M', convention='end').agg({'tripduration':'sum'})"
   ]
  },
  {
   "cell_type": "code",
   "execution_count": 347,
   "id": "fancy-czech",
   "metadata": {},
   "outputs": [
    {
     "data": {
      "text/html": [
       "<div>\n",
       "<style scoped>\n",
       "    .dataframe tbody tr th:only-of-type {\n",
       "        vertical-align: middle;\n",
       "    }\n",
       "\n",
       "    .dataframe tbody tr th {\n",
       "        vertical-align: top;\n",
       "    }\n",
       "\n",
       "    .dataframe thead th {\n",
       "        text-align: right;\n",
       "    }\n",
       "</style>\n",
       "<table border=\"1\" class=\"dataframe\">\n",
       "  <thead>\n",
       "    <tr style=\"text-align: right;\">\n",
       "      <th></th>\n",
       "      <th>tripduration</th>\n",
       "    </tr>\n",
       "    <tr>\n",
       "      <th>starttime</th>\n",
       "      <th></th>\n",
       "    </tr>\n",
       "  </thead>\n",
       "  <tbody>\n",
       "    <tr>\n",
       "      <th>2015-01-31</th>\n",
       "      <td>5079367</td>\n",
       "    </tr>\n",
       "    <tr>\n",
       "      <th>2015-02-28</th>\n",
       "      <td>2843948</td>\n",
       "    </tr>\n",
       "    <tr>\n",
       "      <th>2015-03-31</th>\n",
       "      <td>25190823</td>\n",
       "    </tr>\n",
       "    <tr>\n",
       "      <th>2015-04-30</th>\n",
       "      <td>54941656</td>\n",
       "    </tr>\n",
       "    <tr>\n",
       "      <th>2015-05-31</th>\n",
       "      <td>149762042</td>\n",
       "    </tr>\n",
       "    <tr>\n",
       "      <th>...</th>\n",
       "      <td>...</td>\n",
       "    </tr>\n",
       "    <tr>\n",
       "      <th>2020-08-31</th>\n",
       "      <td>538516228</td>\n",
       "    </tr>\n",
       "    <tr>\n",
       "      <th>2020-09-30</th>\n",
       "      <td>578481998</td>\n",
       "    </tr>\n",
       "    <tr>\n",
       "      <th>2020-10-31</th>\n",
       "      <td>363635392</td>\n",
       "    </tr>\n",
       "    <tr>\n",
       "      <th>2020-11-30</th>\n",
       "      <td>238534096</td>\n",
       "    </tr>\n",
       "    <tr>\n",
       "      <th>2020-12-31</th>\n",
       "      <td>98022852</td>\n",
       "    </tr>\n",
       "  </tbody>\n",
       "</table>\n",
       "<p>72 rows × 1 columns</p>\n",
       "</div>"
      ],
      "text/plain": [
       "            tripduration\n",
       "starttime               \n",
       "2015-01-31       5079367\n",
       "2015-02-28       2843948\n",
       "2015-03-31      25190823\n",
       "2015-04-30      54941656\n",
       "2015-05-31     149762042\n",
       "...                  ...\n",
       "2020-08-31     538516228\n",
       "2020-09-30     578481998\n",
       "2020-10-31     363635392\n",
       "2020-11-30     238534096\n",
       "2020-12-31      98022852\n",
       "\n",
       "[72 rows x 1 columns]"
      ]
     },
     "execution_count": 347,
     "metadata": {},
     "output_type": "execute_result"
    }
   ],
   "source": [
    "df_2015_2020_monthly_sum"
   ]
  },
  {
   "cell_type": "code",
   "execution_count": 346,
   "id": "miniature-bangkok",
   "metadata": {},
   "outputs": [
    {
     "data": {
      "text/plain": [
       "starttime\n",
       "1      278815\n",
       "2      312453\n",
       "3      356505\n",
       "4      551646\n",
       "5      933125\n",
       "6     1142094\n",
       "7     1338209\n",
       "8     1387542\n",
       "9     1388812\n",
       "10    1182211\n",
       "11     767998\n",
       "12     397150\n",
       "Name: tripduration, dtype: int64"
      ]
     },
     "execution_count": 346,
     "metadata": {},
     "output_type": "execute_result"
    }
   ],
   "source": [
    "df_2015_2020['tripduration'].groupby(df_2015_2020[\"starttime\"].dt.month).count()"
   ]
  },
  {
   "cell_type": "code",
   "execution_count": 349,
   "id": "quality-joyce",
   "metadata": {},
   "outputs": [
    {
     "data": {
      "text/html": [
       "<div>\n",
       "<style scoped>\n",
       "    .dataframe tbody tr th:only-of-type {\n",
       "        vertical-align: middle;\n",
       "    }\n",
       "\n",
       "    .dataframe tbody tr th {\n",
       "        vertical-align: top;\n",
       "    }\n",
       "\n",
       "    .dataframe thead th {\n",
       "        text-align: right;\n",
       "    }\n",
       "</style>\n",
       "<table border=\"1\" class=\"dataframe\">\n",
       "  <thead>\n",
       "    <tr style=\"text-align: right;\">\n",
       "      <th></th>\n",
       "      <th>tripduration</th>\n",
       "      <th>starttime</th>\n",
       "      <th>stoptime</th>\n",
       "      <th>start station id</th>\n",
       "      <th>start station name</th>\n",
       "      <th>start station latitude</th>\n",
       "      <th>start station longitude</th>\n",
       "      <th>end station id</th>\n",
       "      <th>end station name</th>\n",
       "      <th>end station latitude</th>\n",
       "      <th>end station longitude</th>\n",
       "      <th>bikeid</th>\n",
       "      <th>usertype</th>\n",
       "      <th>birth year</th>\n",
       "      <th>gender</th>\n",
       "      <th>postal code</th>\n",
       "      <th>smonths</th>\n",
       "    </tr>\n",
       "    <tr>\n",
       "      <th>months</th>\n",
       "      <th></th>\n",
       "      <th></th>\n",
       "      <th></th>\n",
       "      <th></th>\n",
       "      <th></th>\n",
       "      <th></th>\n",
       "      <th></th>\n",
       "      <th></th>\n",
       "      <th></th>\n",
       "      <th></th>\n",
       "      <th></th>\n",
       "      <th></th>\n",
       "      <th></th>\n",
       "      <th></th>\n",
       "      <th></th>\n",
       "      <th></th>\n",
       "      <th></th>\n",
       "    </tr>\n",
       "  </thead>\n",
       "  <tbody>\n",
       "    <tr>\n",
       "      <th>1</th>\n",
       "      <td>542</td>\n",
       "      <td>2015-01-01 00:21:44.000</td>\n",
       "      <td>2015-01-01 00:30:47.000</td>\n",
       "      <td>115</td>\n",
       "      <td>Porter Square Station</td>\n",
       "      <td>42.387995</td>\n",
       "      <td>-71.119084</td>\n",
       "      <td>96</td>\n",
       "      <td>Cambridge Main Library at Broadway / Trowbridg...</td>\n",
       "      <td>42.373379</td>\n",
       "      <td>-71.111075</td>\n",
       "      <td>277</td>\n",
       "      <td>Subscriber</td>\n",
       "      <td>1984</td>\n",
       "      <td>1.0</td>\n",
       "      <td>NaN</td>\n",
       "      <td>January</td>\n",
       "    </tr>\n",
       "    <tr>\n",
       "      <th>1</th>\n",
       "      <td>859</td>\n",
       "      <td>2020-01-07 16:21:43.182</td>\n",
       "      <td>2020-01-07 16:36:02.818</td>\n",
       "      <td>36</td>\n",
       "      <td>Copley Square - Dartmouth St at Boylston St</td>\n",
       "      <td>42.349928</td>\n",
       "      <td>-71.077392</td>\n",
       "      <td>206</td>\n",
       "      <td>Government Center - Cambridge St at Court St</td>\n",
       "      <td>42.359803</td>\n",
       "      <td>-71.059608</td>\n",
       "      <td>5435</td>\n",
       "      <td>Subscriber</td>\n",
       "      <td>1946</td>\n",
       "      <td>1.0</td>\n",
       "      <td>NaN</td>\n",
       "      <td>January</td>\n",
       "    </tr>\n",
       "    <tr>\n",
       "      <th>1</th>\n",
       "      <td>281</td>\n",
       "      <td>2020-01-07 16:21:28.192</td>\n",
       "      <td>2020-01-07 16:26:10.105</td>\n",
       "      <td>67</td>\n",
       "      <td>MIT at Mass Ave / Amherst St</td>\n",
       "      <td>42.358100</td>\n",
       "      <td>-71.093198</td>\n",
       "      <td>361</td>\n",
       "      <td>Deerfield St at Commonwealth Ave</td>\n",
       "      <td>42.349244</td>\n",
       "      <td>-71.097282</td>\n",
       "      <td>5493</td>\n",
       "      <td>Subscriber</td>\n",
       "      <td>2000</td>\n",
       "      <td>1.0</td>\n",
       "      <td>NaN</td>\n",
       "      <td>January</td>\n",
       "    </tr>\n",
       "    <tr>\n",
       "      <th>1</th>\n",
       "      <td>97</td>\n",
       "      <td>2020-01-07 16:21:27.397</td>\n",
       "      <td>2020-01-07 16:23:04.495</td>\n",
       "      <td>24</td>\n",
       "      <td>Seaport Square - Seaport Blvd at Northern Ave</td>\n",
       "      <td>42.351482</td>\n",
       "      <td>-71.044361</td>\n",
       "      <td>157</td>\n",
       "      <td>Seaport Blvd at Sleeper St</td>\n",
       "      <td>42.353178</td>\n",
       "      <td>-71.048174</td>\n",
       "      <td>5163</td>\n",
       "      <td>Subscriber</td>\n",
       "      <td>1969</td>\n",
       "      <td>1.0</td>\n",
       "      <td>NaN</td>\n",
       "      <td>January</td>\n",
       "    </tr>\n",
       "    <tr>\n",
       "      <th>1</th>\n",
       "      <td>442</td>\n",
       "      <td>2020-01-07 16:21:25.552</td>\n",
       "      <td>2020-01-07 16:28:48.285</td>\n",
       "      <td>380</td>\n",
       "      <td>Mass Ave at Albany St</td>\n",
       "      <td>42.361358</td>\n",
       "      <td>-71.096703</td>\n",
       "      <td>437</td>\n",
       "      <td>Berkshire Street at Cambridge Street</td>\n",
       "      <td>42.372077</td>\n",
       "      <td>-71.089954</td>\n",
       "      <td>2824</td>\n",
       "      <td>Subscriber</td>\n",
       "      <td>1987</td>\n",
       "      <td>1.0</td>\n",
       "      <td>NaN</td>\n",
       "      <td>January</td>\n",
       "    </tr>\n",
       "    <tr>\n",
       "      <th>...</th>\n",
       "      <td>...</td>\n",
       "      <td>...</td>\n",
       "      <td>...</td>\n",
       "      <td>...</td>\n",
       "      <td>...</td>\n",
       "      <td>...</td>\n",
       "      <td>...</td>\n",
       "      <td>...</td>\n",
       "      <td>...</td>\n",
       "      <td>...</td>\n",
       "      <td>...</td>\n",
       "      <td>...</td>\n",
       "      <td>...</td>\n",
       "      <td>...</td>\n",
       "      <td>...</td>\n",
       "      <td>...</td>\n",
       "      <td>...</td>\n",
       "    </tr>\n",
       "    <tr>\n",
       "      <th>12</th>\n",
       "      <td>552</td>\n",
       "      <td>2017-12-05 16:59:53.000</td>\n",
       "      <td>2017-12-05 17:09:05.000</td>\n",
       "      <td>107</td>\n",
       "      <td>Ames St at Main St</td>\n",
       "      <td>42.362500</td>\n",
       "      <td>-71.088220</td>\n",
       "      <td>190</td>\n",
       "      <td>Nashua Street at Red Auerbach Way</td>\n",
       "      <td>42.365673</td>\n",
       "      <td>-71.064263</td>\n",
       "      <td>843</td>\n",
       "      <td>Subscriber</td>\n",
       "      <td>1976</td>\n",
       "      <td>1.0</td>\n",
       "      <td>NaN</td>\n",
       "      <td>December</td>\n",
       "    </tr>\n",
       "    <tr>\n",
       "      <th>12</th>\n",
       "      <td>443</td>\n",
       "      <td>2017-12-05 16:59:34.000</td>\n",
       "      <td>2017-12-05 17:06:58.000</td>\n",
       "      <td>177</td>\n",
       "      <td>University Park</td>\n",
       "      <td>42.362648</td>\n",
       "      <td>-71.100061</td>\n",
       "      <td>105</td>\n",
       "      <td>Lower Cambridgeport at Magazine St / Riverside Rd</td>\n",
       "      <td>42.357219</td>\n",
       "      <td>-71.113872</td>\n",
       "      <td>1552</td>\n",
       "      <td>Subscriber</td>\n",
       "      <td>1991</td>\n",
       "      <td>1.0</td>\n",
       "      <td>NaN</td>\n",
       "      <td>December</td>\n",
       "    </tr>\n",
       "    <tr>\n",
       "      <th>12</th>\n",
       "      <td>515</td>\n",
       "      <td>2017-12-05 16:58:52.000</td>\n",
       "      <td>2017-12-05 17:07:27.000</td>\n",
       "      <td>23</td>\n",
       "      <td>Boston City Hall - 28 State St</td>\n",
       "      <td>42.358920</td>\n",
       "      <td>-71.057629</td>\n",
       "      <td>152</td>\n",
       "      <td>Ink Block - Harrison Ave at Herald St</td>\n",
       "      <td>42.345901</td>\n",
       "      <td>-71.063187</td>\n",
       "      <td>1083</td>\n",
       "      <td>Subscriber</td>\n",
       "      <td>1990</td>\n",
       "      <td>1.0</td>\n",
       "      <td>NaN</td>\n",
       "      <td>December</td>\n",
       "    </tr>\n",
       "    <tr>\n",
       "      <th>12</th>\n",
       "      <td>213</td>\n",
       "      <td>2017-12-05 17:00:34.000</td>\n",
       "      <td>2017-12-05 17:04:07.000</td>\n",
       "      <td>117</td>\n",
       "      <td>Binney St / Sixth St</td>\n",
       "      <td>42.366095</td>\n",
       "      <td>-71.086388</td>\n",
       "      <td>189</td>\n",
       "      <td>Kendall T</td>\n",
       "      <td>42.362428</td>\n",
       "      <td>-71.084955</td>\n",
       "      <td>301</td>\n",
       "      <td>Subscriber</td>\n",
       "      <td>1992</td>\n",
       "      <td>1.0</td>\n",
       "      <td>NaN</td>\n",
       "      <td>December</td>\n",
       "    </tr>\n",
       "    <tr>\n",
       "      <th>12</th>\n",
       "      <td>2496</td>\n",
       "      <td>2020-12-31 23:55:37.977</td>\n",
       "      <td>2021-01-01 00:37:14.447</td>\n",
       "      <td>399</td>\n",
       "      <td>Shawmut Ave at Oak St W</td>\n",
       "      <td>42.348545</td>\n",
       "      <td>-71.065592</td>\n",
       "      <td>385</td>\n",
       "      <td>Albany St at E. Brookline St</td>\n",
       "      <td>42.336648</td>\n",
       "      <td>-71.068945</td>\n",
       "      <td>3648</td>\n",
       "      <td>Customer</td>\n",
       "      <td>NaN</td>\n",
       "      <td>NaN</td>\n",
       "      <td>02119</td>\n",
       "      <td>December</td>\n",
       "    </tr>\n",
       "  </tbody>\n",
       "</table>\n",
       "<p>10036560 rows × 17 columns</p>\n",
       "</div>"
      ],
      "text/plain": [
       "        tripduration               starttime                stoptime  \\\n",
       "months                                                                 \n",
       "1                542 2015-01-01 00:21:44.000 2015-01-01 00:30:47.000   \n",
       "1                859 2020-01-07 16:21:43.182 2020-01-07 16:36:02.818   \n",
       "1                281 2020-01-07 16:21:28.192 2020-01-07 16:26:10.105   \n",
       "1                 97 2020-01-07 16:21:27.397 2020-01-07 16:23:04.495   \n",
       "1                442 2020-01-07 16:21:25.552 2020-01-07 16:28:48.285   \n",
       "...              ...                     ...                     ...   \n",
       "12               552 2017-12-05 16:59:53.000 2017-12-05 17:09:05.000   \n",
       "12               443 2017-12-05 16:59:34.000 2017-12-05 17:06:58.000   \n",
       "12               515 2017-12-05 16:58:52.000 2017-12-05 17:07:27.000   \n",
       "12               213 2017-12-05 17:00:34.000 2017-12-05 17:04:07.000   \n",
       "12              2496 2020-12-31 23:55:37.977 2021-01-01 00:37:14.447   \n",
       "\n",
       "        start station id                             start station name  \\\n",
       "months                                                                    \n",
       "1                    115                          Porter Square Station   \n",
       "1                     36    Copley Square - Dartmouth St at Boylston St   \n",
       "1                     67                   MIT at Mass Ave / Amherst St   \n",
       "1                     24  Seaport Square - Seaport Blvd at Northern Ave   \n",
       "1                    380                          Mass Ave at Albany St   \n",
       "...                  ...                                            ...   \n",
       "12                   107                             Ames St at Main St   \n",
       "12                   177                                University Park   \n",
       "12                    23                 Boston City Hall - 28 State St   \n",
       "12                   117                           Binney St / Sixth St   \n",
       "12                   399                        Shawmut Ave at Oak St W   \n",
       "\n",
       "        start station latitude  start station longitude end station id  \\\n",
       "months                                                                   \n",
       "1                    42.387995               -71.119084             96   \n",
       "1                    42.349928               -71.077392            206   \n",
       "1                    42.358100               -71.093198            361   \n",
       "1                    42.351482               -71.044361            157   \n",
       "1                    42.361358               -71.096703            437   \n",
       "...                        ...                      ...            ...   \n",
       "12                   42.362500               -71.088220            190   \n",
       "12                   42.362648               -71.100061            105   \n",
       "12                   42.358920               -71.057629            152   \n",
       "12                   42.366095               -71.086388            189   \n",
       "12                   42.348545               -71.065592            385   \n",
       "\n",
       "                                         end station name  \\\n",
       "months                                                      \n",
       "1       Cambridge Main Library at Broadway / Trowbridg...   \n",
       "1            Government Center - Cambridge St at Court St   \n",
       "1                        Deerfield St at Commonwealth Ave   \n",
       "1                              Seaport Blvd at Sleeper St   \n",
       "1                    Berkshire Street at Cambridge Street   \n",
       "...                                                   ...   \n",
       "12                      Nashua Street at Red Auerbach Way   \n",
       "12      Lower Cambridgeport at Magazine St / Riverside Rd   \n",
       "12                  Ink Block - Harrison Ave at Herald St   \n",
       "12                                              Kendall T   \n",
       "12                           Albany St at E. Brookline St   \n",
       "\n",
       "       end station latitude end station longitude  bikeid    usertype  \\\n",
       "months                                                                  \n",
       "1                 42.373379            -71.111075     277  Subscriber   \n",
       "1                 42.359803            -71.059608    5435  Subscriber   \n",
       "1                 42.349244            -71.097282    5493  Subscriber   \n",
       "1                 42.353178            -71.048174    5163  Subscriber   \n",
       "1                 42.372077            -71.089954    2824  Subscriber   \n",
       "...                     ...                   ...     ...         ...   \n",
       "12                42.365673            -71.064263     843  Subscriber   \n",
       "12                42.357219            -71.113872    1552  Subscriber   \n",
       "12                42.345901            -71.063187    1083  Subscriber   \n",
       "12                42.362428            -71.084955     301  Subscriber   \n",
       "12                42.336648            -71.068945    3648    Customer   \n",
       "\n",
       "       birth year  gender postal code   smonths  \n",
       "months                                           \n",
       "1            1984     1.0         NaN   January  \n",
       "1            1946     1.0         NaN   January  \n",
       "1            2000     1.0         NaN   January  \n",
       "1            1969     1.0         NaN   January  \n",
       "1            1987     1.0         NaN   January  \n",
       "...           ...     ...         ...       ...  \n",
       "12           1976     1.0         NaN  December  \n",
       "12           1991     1.0         NaN  December  \n",
       "12           1990     1.0         NaN  December  \n",
       "12           1992     1.0         NaN  December  \n",
       "12            NaN     NaN       02119  December  \n",
       "\n",
       "[10036560 rows x 17 columns]"
      ]
     },
     "execution_count": 349,
     "metadata": {},
     "output_type": "execute_result"
    }
   ],
   "source": [
    "df_2015_2020['smonths'] = df_2015_2020.starttime.dt.month_name()\n",
    "df_2015_2020['months'] = df_2015_2020.starttime.dt.month\n",
    "df_2015_2020.set_index('months').sort_index()"
   ]
  },
  {
   "cell_type": "code",
   "execution_count": 359,
   "id": "massive-lecture",
   "metadata": {},
   "outputs": [],
   "source": [
    "grouped_by_months = df_2015_2020.months.groupby([df_2015_2020.months,df_2015_2020.smonths]).agg('count')"
   ]
  },
  {
   "cell_type": "code",
   "execution_count": 360,
   "id": "several-guarantee",
   "metadata": {},
   "outputs": [
    {
     "data": {
      "image/png": "[encoded data removed]",
      "text/plain": [
       "<Figure size 432x288 with 1 Axes>"
      ]
     },
     "metadata": {
      "needs_background": "light"
     },
     "output_type": "display_data"
    }
   ],
   "source": [
    "import matplotlib.pylab as plt\n",
    "import matplotlib.dates as mdates\n",
    "\n",
    "import calendar\n",
    "calendar.setfirstweekday(calendar.SUNDAY)\n",
    "\n",
    "# grouped = df_2015_2020.starttime.groupby(df_2015_2020.starttime.dt.month_name).agg('count')\n",
    "\n",
    "grouped_by_months.plot(kind=\"bar\", xlabel='Months', ylabel='Number of trips')\n",
    "\n",
    "\n",
    "plt.savefig('Monthly_Sum_Number_of_Trips.png')\n"
   ]
  },
  {
   "cell_type": "markdown",
   "id": "human-assist",
   "metadata": {},
   "source": [
    "It can be seen that the bike usage rate has a high correlation with months. It can be easily inferred that the role of seasonality on bike usage is discernable. As we are moving away from winter months the bike usage increases and reaches it's maximum during summer time between June and September and decreases again sharply in October. "
   ]
  },
  {
   "cell_type": "code",
   "execution_count": null,
   "id": "realistic-report",
   "metadata": {},
   "outputs": [],
   "source": [
    "df_2015_2020_monthly_sum = df_2015_2020.set_index('starttime').resample('M', convention='end').agg({'tripduration':'sum'})"
   ]
  },
  {
   "cell_type": "code",
   "execution_count": null,
   "id": "restricted-aggregate",
   "metadata": {},
   "outputs": [],
   "source": [
    "import matplotlib.pylab as plt\n",
    "import matplotlib.dates as mdates\n",
    "\n",
    "import calendar\n",
    "calendar.setfirstweekday(calendar.SUNDAY)\n",
    "\n",
    "ax = df_2015_2020.set_index('starttime').groupby(df_2015_2020.starttime.dt.day_name()).agg('count').plot(kind=\"bar\", xlabel='Days', ylabel='Number of trips')\n",
    "\n",
    "# ax = df_2015_2020_monthly_sum.plot(kind=\"bar\")\n",
    "# set monthly locator\n",
    "# ax.xaxis.set_major_locator(mdates.MonthLocator(interval=1))\n",
    "# # set formatter\n",
    "# ax.xaxis.set_major_formatter(mdates.DateFormatter('%b'))\n",
    "# # set font and rotation for date tick labels\n",
    "# plt.gcf().autofmt_xdate()\n",
    "\n",
    "plt.savefig('Daily_Sum_Number_of_Trips.png')"
   ]
  },
  {
   "cell_type": "markdown",
   "id": "laughing-devon",
   "metadata": {},
   "source": [
    "#### Checking 2020 for COVID effect"
   ]
  },
  {
   "cell_type": "code",
   "execution_count": 362,
   "id": "intimate-scout",
   "metadata": {},
   "outputs": [],
   "source": [
    "df_2020 = df_2015_2020.loc[df_2015_2020['starttime'].dt.year == 2020]"
   ]
  },
  {
   "cell_type": "code",
   "execution_count": 364,
   "id": "correct-latex",
   "metadata": {},
   "outputs": [
    {
     "data": {
      "image/png": "[encoded data removed]",
      "text/plain": [
       "<Figure size 432x288 with 1 Axes>"
      ]
     },
     "metadata": {
      "needs_background": "light"
     },
     "output_type": "display_data"
    }
   ],
   "source": [
    "import matplotlib.pylab as plt\n",
    "import matplotlib.dates as mdates\n",
    "\n",
    "\n",
    "df_2020.months.groupby([df_2015_2020.months,df_2015_2020.smonths]).agg('count').plot(kind=\"bar\", xlabel='Months', ylabel='Number of trips')\n",
    "\n",
    "\n",
    "# plt.savefig('Monthly_Sum_Number_of_Trips.png')\n"
   ]
  },
  {
   "cell_type": "markdown",
   "id": "mediterranean-thinking",
   "metadata": {},
   "source": [
    "Here we can see how in April when the first stay-in-home orders were in place, bike usage had a **sharp drop**. "
   ]
  },
  {
   "cell_type": "markdown",
   "id": "gorgeous-allocation",
   "metadata": {},
   "source": [
    "### 4.2 Finding information about stations"
   ]
  },
  {
   "cell_type": "code",
   "execution_count": 366,
   "id": "particular-influence",
   "metadata": {},
   "outputs": [],
   "source": [
    "df_grouped_start_station = df_2015_2020.groupby(['start station id'])"
   ]
  },
  {
   "cell_type": "code",
   "execution_count": 367,
   "id": "processed-terrace",
   "metadata": {},
   "outputs": [
    {
     "data": {
      "text/plain": [
       "442"
      ]
     },
     "execution_count": 367,
     "metadata": {},
     "output_type": "execute_result"
    }
   ],
   "source": [
    "len(df_grouped_start_station)"
   ]
  },
  {
   "cell_type": "code",
   "execution_count": 369,
   "id": "reverse-jungle",
   "metadata": {},
   "outputs": [
    {
     "data": {
      "text/plain": [
       "330"
      ]
     },
     "execution_count": 369,
     "metadata": {},
     "output_type": "execute_result"
    }
   ],
   "source": [
    "len(df_stations)"
   ]
  },
  {
   "cell_type": "markdown",
   "id": "cooked-morning",
   "metadata": {},
   "source": [
    "We can see that there is a difference between the number of current stations and number of stations when we group the data from 2015 to 2020 by stations. The explanation is that **many stations have been discontinued over the years and are not shown in the df_stations.**"
   ]
  },
  {
   "cell_type": "code",
   "execution_count": 130,
   "id": "detected-hormone",
   "metadata": {},
   "outputs": [
    {
     "data": {
      "text/plain": [
       "tripduration               10036560\n",
       "starttime                  10036560\n",
       "stoptime                   10036560\n",
       "start station id           10036560\n",
       "start station name         10036560\n",
       "start station latitude     10036560\n",
       "start station longitude    10036560\n",
       "end station id             10036560\n",
       "end station name           10036560\n",
       "end station latitude       10036560\n",
       "end station longitude      10036560\n",
       "bikeid                     10036560\n",
       "usertype                   10036560\n",
       "birth year                  8369496\n",
       "gender                      8379088\n",
       "postal code                 1513246\n",
       "dtype: int64"
      ]
     },
     "execution_count": 130,
     "metadata": {},
     "output_type": "execute_result"
    }
   ],
   "source": [
    "df_2015_2020.count()"
   ]
  },
  {
   "cell_type": "code",
   "execution_count": 132,
   "id": "dominican-occurrence",
   "metadata": {},
   "outputs": [],
   "source": [
    "mask_birth_date_novals = pd.to_numeric(df_2015_2020['birth year'], errors='coerce').isnull()"
   ]
  },
  {
   "cell_type": "code",
   "execution_count": 143,
   "id": "inside-ebony",
   "metadata": {},
   "outputs": [
    {
     "name": "stdout",
     "output_type": "stream",
     "text": [
      "2348042  trips have no age associated with them.\n",
      "23.39% of trips have no age.\n",
      "7688518\n"
     ]
    }
   ],
   "source": [
    "a = mask_birth_date_novals.sum()\n",
    "total_rows = 10036560\n",
    "print (a, \" trips have no age associated with them.\")\n",
    "print (\"%4.2f%% of trips have no age.\" % (a/10036560*100))\n",
    "print (10036560-a)"
   ]
  },
  {
   "cell_type": "code",
   "execution_count": 144,
   "id": "unsigned-spending",
   "metadata": {},
   "outputs": [],
   "source": [
    "df_2015_2020['birth year'] = pd.to_numeric(df_2015_2020['birth year'], errors='coerce')"
   ]
  },
  {
   "cell_type": "code",
   "execution_count": 61,
   "id": "fifteen-intent",
   "metadata": {},
   "outputs": [],
   "source": [
    "df_2015_2020['birth year'] = df_2015_2020['birth year'].fillna(1800)"
   ]
  },
  {
   "cell_type": "code",
   "execution_count": 97,
   "id": "metropolitan-convergence",
   "metadata": {},
   "outputs": [
    {
     "data": {
      "text/plain": [
       "5141770    1984\n",
       "5141771    1985\n",
       "5141772    1974\n",
       "5141773    1987\n",
       "5141774    1986\n",
       "5141775    1989\n",
       "5141776    1964\n",
       "5141777    1981\n",
       "5141778    1989\n",
       "5141779    1993\n",
       "5141780    1993\n",
       "5141781    1978\n",
       "5141782    1988\n",
       "5141783    1988\n",
       "5141784    1989\n",
       "5141785    1982\n",
       "5141786    1985\n",
       "5141787    1991\n",
       "5141788    1984\n",
       "5141789    1962\n",
       "5141791    1982\n",
       "5141790    1800\n",
       "5141792    1964\n",
       "5141793    1962\n",
       "5141794    1987\n",
       "5141795    1986\n",
       "5141796    1989\n",
       "5141797    1977\n",
       "5141798    1986\n",
       "5141799    1800\n",
       "Name: birth year, dtype: object"
      ]
     },
     "execution_count": 97,
     "metadata": {},
     "output_type": "execute_result"
    }
   ],
   "source": [
    "df_2015_2020.loc[(df_2015_2020['birth year'] == \"\\\\N\"), 'birth year'] = 1800\n",
    "df_2015_2020['birth year'].head(30)"
   ]
  },
  {
   "cell_type": "code",
   "execution_count": 63,
   "id": "removed-ratio",
   "metadata": {},
   "outputs": [
    {
     "data": {
      "text/plain": [
       "tripduration                        int64\n",
       "starttime                  datetime64[ns]\n",
       "stoptime                   datetime64[ns]\n",
       "start station id                    int64\n",
       "start station name                 object\n",
       "start station latitude            float64\n",
       "start station longitude           float64\n",
       "end station id                     object\n",
       "end station name                   object\n",
       "end station latitude               object\n",
       "end station longitude              object\n",
       "bikeid                              int64\n",
       "usertype                           object\n",
       "birth year                         object\n",
       "gender                            float64\n",
       "postal code                        object\n",
       "age                                 int64\n",
       "dtype: object"
      ]
     },
     "execution_count": 63,
     "metadata": {},
     "output_type": "execute_result"
    }
   ],
   "source": [
    "df_2015_2020.dtypes"
   ]
  },
  {
   "cell_type": "code",
   "execution_count": 147,
   "id": "spare-difference",
   "metadata": {},
   "outputs": [],
   "source": [
    "df_2015_2020['age'] = df_2015_2020.starttime.dt.year - df_2015_2020['birth year']"
   ]
  },
  {
   "cell_type": "markdown",
   "id": "apart-person",
   "metadata": {},
   "source": [
    "### To count number of NAN values in age:"
   ]
  },
  {
   "cell_type": "code",
   "execution_count": 148,
   "id": "concerned-constant",
   "metadata": {},
   "outputs": [
    {
     "data": {
      "text/plain": [
       "2348042"
      ]
     },
     "execution_count": 148,
     "metadata": {},
     "output_type": "execute_result"
    }
   ],
   "source": [
    "len(df_2015_2020) - df_2015_2020['age'].count()"
   ]
  },
  {
   "cell_type": "code",
   "execution_count": 204,
   "id": "traditional-meaning",
   "metadata": {},
   "outputs": [],
   "source": [
    "filtered_by_age_frequency = df_2015_2020[df_2015_2020.groupby('age')['age'].transform('size') > 5000]\n",
    "\n",
    "# df_2015_2020['age'].hist(bins=40)"
   ]
  },
  {
   "cell_type": "code",
   "execution_count": 189,
   "id": "elementary-metadata",
   "metadata": {},
   "outputs": [
    {
     "data": {
      "text/plain": [
       "<AxesSubplot:>"
      ]
     },
     "execution_count": 189,
     "metadata": {},
     "output_type": "execute_result"
    },
    {
     "data": {
      "image/png": "[encoded data removed]",
      "text/plain": [
       "<Figure size 432x288 with 1 Axes>"
      ]
     },
     "metadata": {
      "needs_background": "light"
     },
     "output_type": "display_data"
    }
   ],
   "source": [
    "filtered_by_age_frequency['age'].hist(bins=25)"
   ]
  },
  {
   "cell_type": "code",
   "execution_count": 152,
   "id": "serial-pendant",
   "metadata": {},
   "outputs": [
    {
     "data": {
      "text/plain": [
       "27.0     406677\n",
       "26.0     402684\n",
       "28.0     402081\n",
       "25.0     392537\n",
       "29.0     382725\n",
       "          ...  \n",
       "97.0          1\n",
       "102.0         1\n",
       "104.0         1\n",
       "87.0          1\n",
       "101.0         1\n",
       "Name: age, Length: 101, dtype: int64"
      ]
     },
     "execution_count": 152,
     "metadata": {},
     "output_type": "execute_result"
    }
   ],
   "source": [
    "df_2015_2020['age'].value_counts()"
   ]
  },
  {
   "cell_type": "code",
   "execution_count": 161,
   "id": "deadly-solid",
   "metadata": {},
   "outputs": [
    {
     "data": {
      "text/plain": [
       "89"
      ]
     },
     "execution_count": 161,
     "metadata": {},
     "output_type": "execute_result"
    }
   ],
   "source": [
    "len(grouped_by_age)"
   ]
  },
  {
   "cell_type": "code",
   "execution_count": 163,
   "id": "appointed-species",
   "metadata": {},
   "outputs": [
    {
     "data": {
      "text/plain": [
       "age\n",
       "16.0     AxesSubplot(0.125,0.125;0.775x0.755)\n",
       "17.0     AxesSubplot(0.125,0.125;0.775x0.755)\n",
       "18.0     AxesSubplot(0.125,0.125;0.775x0.755)\n",
       "19.0     AxesSubplot(0.125,0.125;0.775x0.755)\n",
       "20.0     AxesSubplot(0.125,0.125;0.775x0.755)\n",
       "                         ...                 \n",
       "120.0    AxesSubplot(0.125,0.125;0.775x0.755)\n",
       "126.0    AxesSubplot(0.125,0.125;0.775x0.755)\n",
       "130.0    AxesSubplot(0.125,0.125;0.775x0.755)\n",
       "131.0    AxesSubplot(0.125,0.125;0.775x0.755)\n",
       "132.0    AxesSubplot(0.125,0.125;0.775x0.755)\n",
       "Name: age, Length: 89, dtype: object"
      ]
     },
     "execution_count": 163,
     "metadata": {},
     "output_type": "execute_result"
    },
    {
     "data": {
      "image/png": "[encoded data removed]",
      "text/plain": [
       "<Figure size 432x288 with 1 Axes>"
      ]
     },
     "metadata": {
      "needs_background": "light"
     },
     "output_type": "display_data"
    }
   ],
   "source": [
    "grouped_by_age['age'].hist()"
   ]
  },
  {
   "cell_type": "markdown",
   "id": "norwegian-quantum",
   "metadata": {},
   "source": [
    "## Working on the starting stations"
   ]
  },
  {
   "cell_type": "code",
   "execution_count": 190,
   "id": "faced-literacy",
   "metadata": {
    "tags": []
   },
   "outputs": [
    {
     "data": {
      "text/plain": [
       "67     251774\n",
       "68     194550\n",
       "22     183728\n",
       "80     171594\n",
       "74     150172\n",
       "        ...  \n",
       "158         3\n",
       "223         3\n",
       "493         2\n",
       "382         1\n",
       "383         1\n",
       "Name: start station id, Length: 442, dtype: int64"
      ]
     },
     "execution_count": 190,
     "metadata": {},
     "output_type": "execute_result"
    }
   ],
   "source": [
    "df_2015_2020['start station id'].value_counts()"
   ]
  },
  {
   "cell_type": "markdown",
   "id": "departmental-sociology",
   "metadata": {},
   "source": [
    "## Working on the duration time"
   ]
  },
  {
   "cell_type": "code",
   "execution_count": 195,
   "id": "opposed-satisfaction",
   "metadata": {
    "tags": []
   },
   "outputs": [],
   "source": [
    "df_2015_2020['tripduration_min'] = df_2015_2020['tripduration']//60"
   ]
  },
  {
   "cell_type": "code",
   "execution_count": 202,
   "id": "insured-wayne",
   "metadata": {},
   "outputs": [
    {
     "data": {
      "text/plain": [
       "count    1.003656e+07\n",
       "mean     2.714609e+01\n",
       "std      1.012726e+03\n",
       "min      1.000000e+00\n",
       "25%      6.000000e+00\n",
       "50%      1.100000e+01\n",
       "75%      1.900000e+01\n",
       "max      7.094520e+05\n",
       "Name: tripduration_min, dtype: float64"
      ]
     },
     "execution_count": 202,
     "metadata": {},
     "output_type": "execute_result"
    }
   ],
   "source": [
    "df_2015_2020['tripduration_min'].describe()"
   ]
  },
  {
   "cell_type": "code",
   "execution_count": 216,
   "id": "brazilian-timing",
   "metadata": {},
   "outputs": [],
   "source": [
    "filtered_by_time_length = df_2015_2020.loc[df_2015_2020['tripduration'] <  1440]"
   ]
  },
  {
   "cell_type": "code",
   "execution_count": 217,
   "id": "distinct-argentina",
   "metadata": {},
   "outputs": [
    {
     "data": {
      "text/plain": [
       "count    8.288984e+06\n",
       "mean     1.039503e+01\n",
       "std      5.624706e+00\n",
       "min      1.000000e+00\n",
       "25%      6.000000e+00\n",
       "50%      9.000000e+00\n",
       "75%      1.400000e+01\n",
       "max      2.300000e+01\n",
       "Name: tripduration_min, dtype: float64"
      ]
     },
     "execution_count": 217,
     "metadata": {},
     "output_type": "execute_result"
    }
   ],
   "source": [
    "filtered_by_time_length['tripduration_min'].describe()"
   ]
  },
  {
   "cell_type": "code",
   "execution_count": 229,
   "id": "banner-sauce",
   "metadata": {},
   "outputs": [
    {
     "data": {
      "text/plain": [
       "<AxesSubplot:>"
      ]
     },
     "execution_count": 229,
     "metadata": {},
     "output_type": "execute_result"
    },
    {
     "data": {
      "image/png": "[encoded data removed]",
      "text/plain": [
       "<Figure size 432x288 with 1 Axes>"
      ]
     },
     "metadata": {
      "needs_background": "light"
     },
     "output_type": "display_data"
    }
   ],
   "source": [
    "filtered_by_time_length['tripduration_min'].hist(bins=48)"
   ]
  },
  {
   "cell_type": "code",
   "execution_count": null,
   "id": "trained-spider",
   "metadata": {},
   "outputs": [],
   "source": []
  }
 ],
 "metadata": {
  "kernelspec": {
   "display_name": "earth-analytics",
   "language": "python",
   "name": "earth-analytics-python"
  },
  "language_info": {
   "codemirror_mode": {
    "name": "ipython",
    "version": 3
   },
   "file_extension": ".py",
   "mimetype": "text/x-python",
   "name": "python",
   "nbconvert_exporter": "python",
   "pygments_lexer": "ipython3",
   "version": "3.8.8"
  }
 },
 "nbformat": 4,
 "nbformat_minor": 5
}
